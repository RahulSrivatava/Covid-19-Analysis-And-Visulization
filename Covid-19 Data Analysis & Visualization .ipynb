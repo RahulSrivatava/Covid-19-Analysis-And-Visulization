{
 "cells": [
  {
   "cell_type": "markdown",
   "metadata": {},
   "source": [
    "###  Data Analysis And Visulization On Covid-19\n",
    "### India Versus And Countries"
   ]
  },
  {
   "cell_type": "markdown",
   "metadata": {},
   "source": [
    "### Importing Various Libraries"
   ]
  },
  {
   "cell_type": "code",
   "execution_count": 51,
   "metadata": {},
   "outputs": [],
   "source": [
    "import numpy as np\n",
    "##### For creating MultiDimensional Arrays\n",
    "import matplotlib.pyplot as plt\n",
    "%matplotlib inline\n",
    "# It's a Visualization Library for making 2D plots on arrays mainly work on numpy\n",
    "import pandas as pd\n",
    "#For providing high-performance, easy-to-use data structures and data analysis tools\n",
    "#PandasDataframe is the most needed data frame in this project   \n",
    "from matplotlib import style\n",
    "#importing Special Function Style \n",
    "import plotly as py\n",
    "# It is An charting module Interactive graph \n",
    "import plotly.express as pz\n",
    "import plotly.graph_objects as gb\n",
    "# So that we can use ploty as object oriented way\n",
    "import plotly.offline as pyoo\n",
    "# To Use plotly in offline Mode so that ahve set up connnection with jupyter notebook\n",
    "from plotly.offline import init_notebook_mode,plot,iplot\n",
    "import cufflinks as cf\n",
    "#It connects Plotly with pandas to create various graphs and charts of data frames directly. \n",
    "#It is use to build interactive graphs \n",
    "import folium as fl\n",
    "from datetime import date\n",
    "plt.rcParams['figure.figsize']=10,8"
   ]
  },
  {
   "cell_type": "markdown",
   "metadata": {},
   "source": [
    "#### connecting plotly in offline Mode"
   ]
  },
  {
   "cell_type": "code",
   "execution_count": 2,
   "metadata": {},
   "outputs": [
    {
     "data": {
      "text/html": [
       "        <script type=\"text/javascript\">\n",
       "        window.PlotlyConfig = {MathJaxConfig: 'local'};\n",
       "        if (window.MathJax) {MathJax.Hub.Config({SVG: {font: \"STIX-Web\"}});}\n",
       "        if (typeof require !== 'undefined') {\n",
       "        require.undef(\"plotly\");\n",
       "        requirejs.config({\n",
       "            paths: {\n",
       "                'plotly': ['https://cdn.plot.ly/plotly-latest.min']\n",
       "            }\n",
       "        });\n",
       "        require(['plotly'], function(Plotly) {\n",
       "            window._Plotly = Plotly;\n",
       "        });\n",
       "        }\n",
       "        </script>\n",
       "        "
      ]
     },
     "metadata": {},
     "output_type": "display_data"
    },
    {
     "data": {
      "text/html": [
       "        <script type=\"text/javascript\">\n",
       "        window.PlotlyConfig = {MathJaxConfig: 'local'};\n",
       "        if (window.MathJax) {MathJax.Hub.Config({SVG: {font: \"STIX-Web\"}});}\n",
       "        if (typeof require !== 'undefined') {\n",
       "        require.undef(\"plotly\");\n",
       "        requirejs.config({\n",
       "            paths: {\n",
       "                'plotly': ['https://cdn.plot.ly/plotly-latest.min']\n",
       "            }\n",
       "        });\n",
       "        require(['plotly'], function(Plotly) {\n",
       "            window._Plotly = Plotly;\n",
       "        });\n",
       "        }\n",
       "        </script>\n",
       "        "
      ]
     },
     "metadata": {},
     "output_type": "display_data"
    }
   ],
   "source": [
    "pyoo.init_notebook_mode(connected=True)\n",
    "cf.go_offline()"
   ]
  },
  {
   "cell_type": "markdown",
   "metadata": {},
   "source": [
    "### DataSet \n",
    "The dataset used in this project related to the Covid-19 is downloaded from kaggle\n",
    "https://www.kaggle.com/sudalairajkumar/novel-corona-virus-2019-dataset.\n",
    "It is a csv file which reading uisng PandasDataFrame .\n",
    "PadasDataframe is basicalaly 2 Dimensional datastructure i.e it gives data a tabular form in rows & colummns\n",
    "It consist of three components:-\n",
    "1.Data\n",
    "2.Rows\n",
    "3.coulumms"
   ]
  },
  {
   "cell_type": "code",
   "execution_count": 154,
   "metadata": {},
   "outputs": [
    {
     "data": {
      "text/html": [
       "<div>\n",
       "<style scoped>\n",
       "    .dataframe tbody tr th:only-of-type {\n",
       "        vertical-align: middle;\n",
       "    }\n",
       "\n",
       "    .dataframe tbody tr th {\n",
       "        vertical-align: top;\n",
       "    }\n",
       "\n",
       "    .dataframe thead th {\n",
       "        text-align: right;\n",
       "    }\n",
       "</style>\n",
       "<table border=\"1\" class=\"dataframe\">\n",
       "  <thead>\n",
       "    <tr style=\"text-align: right;\">\n",
       "      <th></th>\n",
       "      <th>State</th>\n",
       "      <th>Confirmed</th>\n",
       "      <th>Recovered</th>\n",
       "      <th>Deaths</th>\n",
       "      <th>Active</th>\n",
       "      <th>Last_Updated_Time</th>\n",
       "      <th>Migrated_Other</th>\n",
       "      <th>State_code</th>\n",
       "      <th>Delta_Confirmed</th>\n",
       "      <th>Delta_Recovered</th>\n",
       "      <th>Delta_Deaths</th>\n",
       "      <th>State_Notes</th>\n",
       "    </tr>\n",
       "  </thead>\n",
       "  <tbody>\n",
       "    <tr>\n",
       "      <th>0</th>\n",
       "      <td>Total</td>\n",
       "      <td>338639</td>\n",
       "      <td>173707</td>\n",
       "      <td>9698</td>\n",
       "      <td>155191</td>\n",
       "      <td>15/06/2020 21:44:46</td>\n",
       "      <td>43</td>\n",
       "      <td>TT</td>\n",
       "      <td>5627</td>\n",
       "      <td>4024</td>\n",
       "      <td>178</td>\n",
       "      <td>NaN</td>\n",
       "    </tr>\n",
       "    <tr>\n",
       "      <th>1</th>\n",
       "      <td>Maharashtra</td>\n",
       "      <td>107958</td>\n",
       "      <td>50978</td>\n",
       "      <td>3950</td>\n",
       "      <td>53017</td>\n",
       "      <td>14/06/2020 21:54:47</td>\n",
       "      <td>13</td>\n",
       "      <td>MH</td>\n",
       "      <td>0</td>\n",
       "      <td>0</td>\n",
       "      <td>0</td>\n",
       "      <td>13 cases were marked as non-covid deaths in MH...</td>\n",
       "    </tr>\n",
       "    <tr>\n",
       "      <th>2</th>\n",
       "      <td>Tamil Nadu</td>\n",
       "      <td>46504</td>\n",
       "      <td>25344</td>\n",
       "      <td>479</td>\n",
       "      <td>20681</td>\n",
       "      <td>15/06/2020 20:04:47</td>\n",
       "      <td>0</td>\n",
       "      <td>TN</td>\n",
       "      <td>1843</td>\n",
       "      <td>797</td>\n",
       "      <td>44</td>\n",
       "      <td>2 deaths cross notified to other states from C...</td>\n",
       "    </tr>\n",
       "    <tr>\n",
       "      <th>3</th>\n",
       "      <td>Delhi</td>\n",
       "      <td>42829</td>\n",
       "      <td>16427</td>\n",
       "      <td>1400</td>\n",
       "      <td>25002</td>\n",
       "      <td>15/06/2020 21:24:48</td>\n",
       "      <td>0</td>\n",
       "      <td>DL</td>\n",
       "      <td>1647</td>\n",
       "      <td>604</td>\n",
       "      <td>73</td>\n",
       "      <td>Delhi bulletins in the morning, containing dat...</td>\n",
       "    </tr>\n",
       "    <tr>\n",
       "      <th>4</th>\n",
       "      <td>Gujarat</td>\n",
       "      <td>24101</td>\n",
       "      <td>16672</td>\n",
       "      <td>1506</td>\n",
       "      <td>5923</td>\n",
       "      <td>15/06/2020 21:44:47</td>\n",
       "      <td>0</td>\n",
       "      <td>GJ</td>\n",
       "      <td>511</td>\n",
       "      <td>339</td>\n",
       "      <td>28</td>\n",
       "      <td>NaN</td>\n",
       "    </tr>\n",
       "    <tr>\n",
       "      <th>5</th>\n",
       "      <td>Uttar Pradesh</td>\n",
       "      <td>13615</td>\n",
       "      <td>8268</td>\n",
       "      <td>399</td>\n",
       "      <td>4948</td>\n",
       "      <td>14/06/2020 22:08:48</td>\n",
       "      <td>0</td>\n",
       "      <td>UP</td>\n",
       "      <td>0</td>\n",
       "      <td>0</td>\n",
       "      <td>0</td>\n",
       "      <td>NaN</td>\n",
       "    </tr>\n",
       "    <tr>\n",
       "      <th>6</th>\n",
       "      <td>Rajasthan</td>\n",
       "      <td>12772</td>\n",
       "      <td>9631</td>\n",
       "      <td>294</td>\n",
       "      <td>2847</td>\n",
       "      <td>15/06/2020 10:59:48</td>\n",
       "      <td>0</td>\n",
       "      <td>RJ</td>\n",
       "      <td>78</td>\n",
       "      <td>65</td>\n",
       "      <td>2</td>\n",
       "      <td>NaN</td>\n",
       "    </tr>\n",
       "    <tr>\n",
       "      <th>7</th>\n",
       "      <td>Madhya Pradesh</td>\n",
       "      <td>10935</td>\n",
       "      <td>7903</td>\n",
       "      <td>465</td>\n",
       "      <td>2567</td>\n",
       "      <td>15/06/2020 20:38:47</td>\n",
       "      <td>0</td>\n",
       "      <td>MP</td>\n",
       "      <td>133</td>\n",
       "      <td>226</td>\n",
       "      <td>6</td>\n",
       "      <td>NaN</td>\n",
       "    </tr>\n",
       "    <tr>\n",
       "      <th>8</th>\n",
       "      <td>West Bengal</td>\n",
       "      <td>11494</td>\n",
       "      <td>5494</td>\n",
       "      <td>485</td>\n",
       "      <td>5515</td>\n",
       "      <td>15/06/2020 20:33:49</td>\n",
       "      <td>0</td>\n",
       "      <td>WB</td>\n",
       "      <td>407</td>\n",
       "      <td>434</td>\n",
       "      <td>10</td>\n",
       "      <td>NaN</td>\n",
       "    </tr>\n",
       "    <tr>\n",
       "      <th>9</th>\n",
       "      <td>State Unassigned</td>\n",
       "      <td>6972</td>\n",
       "      <td>0</td>\n",
       "      <td>0</td>\n",
       "      <td>6972</td>\n",
       "      <td>15/06/2020 09:51:47</td>\n",
       "      <td>0</td>\n",
       "      <td>UN</td>\n",
       "      <td>-464</td>\n",
       "      <td>0</td>\n",
       "      <td>0</td>\n",
       "      <td>MoHFW website reports that these are the 'case...</td>\n",
       "    </tr>\n",
       "    <tr>\n",
       "      <th>10</th>\n",
       "      <td>Karnataka</td>\n",
       "      <td>7213</td>\n",
       "      <td>4140</td>\n",
       "      <td>89</td>\n",
       "      <td>2981</td>\n",
       "      <td>15/06/2020 19:25:59</td>\n",
       "      <td>3</td>\n",
       "      <td>KA</td>\n",
       "      <td>213</td>\n",
       "      <td>180</td>\n",
       "      <td>2</td>\n",
       "      <td>3 cases are classified as non-covid related de...</td>\n",
       "    </tr>\n",
       "    <tr>\n",
       "      <th>11</th>\n",
       "      <td>Haryana</td>\n",
       "      <td>7327</td>\n",
       "      <td>3003</td>\n",
       "      <td>88</td>\n",
       "      <td>4236</td>\n",
       "      <td>15/06/2020 14:05:48</td>\n",
       "      <td>0</td>\n",
       "      <td>HR</td>\n",
       "      <td>119</td>\n",
       "      <td>0</td>\n",
       "      <td>0</td>\n",
       "      <td>NaN</td>\n",
       "    </tr>\n",
       "    <tr>\n",
       "      <th>12</th>\n",
       "      <td>Bihar</td>\n",
       "      <td>6662</td>\n",
       "      <td>4226</td>\n",
       "      <td>38</td>\n",
       "      <td>2398</td>\n",
       "      <td>15/06/2020 21:05:48</td>\n",
       "      <td>0</td>\n",
       "      <td>BR</td>\n",
       "      <td>187</td>\n",
       "      <td>251</td>\n",
       "      <td>2</td>\n",
       "      <td>NaN</td>\n",
       "    </tr>\n",
       "    <tr>\n",
       "      <th>13</th>\n",
       "      <td>Andhra Pradesh</td>\n",
       "      <td>6456</td>\n",
       "      <td>3385</td>\n",
       "      <td>86</td>\n",
       "      <td>2985</td>\n",
       "      <td>15/06/2020 13:53:50</td>\n",
       "      <td>0</td>\n",
       "      <td>AP</td>\n",
       "      <td>304</td>\n",
       "      <td>69</td>\n",
       "      <td>2</td>\n",
       "      <td>Total includes patients from other states and ...</td>\n",
       "    </tr>\n",
       "    <tr>\n",
       "      <th>14</th>\n",
       "      <td>Jammu and Kashmir</td>\n",
       "      <td>5098</td>\n",
       "      <td>2604</td>\n",
       "      <td>62</td>\n",
       "      <td>2432</td>\n",
       "      <td>15/06/2020 19:43:48</td>\n",
       "      <td>0</td>\n",
       "      <td>JK</td>\n",
       "      <td>57</td>\n",
       "      <td>215</td>\n",
       "      <td>3</td>\n",
       "      <td>NaN</td>\n",
       "    </tr>\n",
       "    <tr>\n",
       "      <th>15</th>\n",
       "      <td>Telangana</td>\n",
       "      <td>4974</td>\n",
       "      <td>2377</td>\n",
       "      <td>185</td>\n",
       "      <td>2412</td>\n",
       "      <td>14/06/2020 22:03:50</td>\n",
       "      <td>0</td>\n",
       "      <td>TG</td>\n",
       "      <td>0</td>\n",
       "      <td>0</td>\n",
       "      <td>0</td>\n",
       "      <td>NaN</td>\n",
       "    </tr>\n",
       "    <tr>\n",
       "      <th>16</th>\n",
       "      <td>Odisha</td>\n",
       "      <td>4055</td>\n",
       "      <td>2854</td>\n",
       "      <td>14</td>\n",
       "      <td>1187</td>\n",
       "      <td>15/06/2020 15:54:49</td>\n",
       "      <td>0</td>\n",
       "      <td>OR</td>\n",
       "      <td>146</td>\n",
       "      <td>146</td>\n",
       "      <td>0</td>\n",
       "      <td>Three non-covid deaths reported in state dashb...</td>\n",
       "    </tr>\n",
       "    <tr>\n",
       "      <th>17</th>\n",
       "      <td>Assam</td>\n",
       "      <td>4159</td>\n",
       "      <td>2206</td>\n",
       "      <td>8</td>\n",
       "      <td>1942</td>\n",
       "      <td>15/06/2020 20:38:49</td>\n",
       "      <td>3</td>\n",
       "      <td>AS</td>\n",
       "      <td>40</td>\n",
       "      <td>245</td>\n",
       "      <td>0</td>\n",
       "      <td>Includes one case from Nagaland.\\nTotal of 3 p...</td>\n",
       "    </tr>\n",
       "    <tr>\n",
       "      <th>18</th>\n",
       "      <td>Punjab</td>\n",
       "      <td>3267</td>\n",
       "      <td>2443</td>\n",
       "      <td>71</td>\n",
       "      <td>753</td>\n",
       "      <td>15/06/2020 20:16:48</td>\n",
       "      <td>0</td>\n",
       "      <td>PB</td>\n",
       "      <td>127</td>\n",
       "      <td>87</td>\n",
       "      <td>4</td>\n",
       "      <td>NaN</td>\n",
       "    </tr>\n",
       "    <tr>\n",
       "      <th>19</th>\n",
       "      <td>Kerala</td>\n",
       "      <td>2544</td>\n",
       "      <td>1174</td>\n",
       "      <td>21</td>\n",
       "      <td>1348</td>\n",
       "      <td>15/06/2020 18:51:56</td>\n",
       "      <td>1</td>\n",
       "      <td>KL</td>\n",
       "      <td>82</td>\n",
       "      <td>73</td>\n",
       "      <td>1</td>\n",
       "      <td>Mahe native who expired in Kannur included in ...</td>\n",
       "    </tr>\n",
       "    <tr>\n",
       "      <th>20</th>\n",
       "      <td>Uttarakhand</td>\n",
       "      <td>1845</td>\n",
       "      <td>1189</td>\n",
       "      <td>24</td>\n",
       "      <td>620</td>\n",
       "      <td>15/06/2020 21:44:49</td>\n",
       "      <td>12</td>\n",
       "      <td>UT</td>\n",
       "      <td>26</td>\n",
       "      <td>78</td>\n",
       "      <td>0</td>\n",
       "      <td>12 Migrated cases reduced from Active count</td>\n",
       "    </tr>\n",
       "    <tr>\n",
       "      <th>21</th>\n",
       "      <td>Jharkhand</td>\n",
       "      <td>1748</td>\n",
       "      <td>905</td>\n",
       "      <td>8</td>\n",
       "      <td>835</td>\n",
       "      <td>15/06/2020 00:56:48</td>\n",
       "      <td>0</td>\n",
       "      <td>JH</td>\n",
       "      <td>0</td>\n",
       "      <td>0</td>\n",
       "      <td>0</td>\n",
       "      <td>NaN</td>\n",
       "    </tr>\n",
       "    <tr>\n",
       "      <th>22</th>\n",
       "      <td>Chhattisgarh</td>\n",
       "      <td>1706</td>\n",
       "      <td>833</td>\n",
       "      <td>6</td>\n",
       "      <td>867</td>\n",
       "      <td>15/06/2020 21:40:37</td>\n",
       "      <td>0</td>\n",
       "      <td>CT</td>\n",
       "      <td>44</td>\n",
       "      <td>116</td>\n",
       "      <td>0</td>\n",
       "      <td>NaN</td>\n",
       "    </tr>\n",
       "    <tr>\n",
       "      <th>23</th>\n",
       "      <td>Tripura</td>\n",
       "      <td>1079</td>\n",
       "      <td>433</td>\n",
       "      <td>1</td>\n",
       "      <td>645</td>\n",
       "      <td>14/06/2020 21:45:55</td>\n",
       "      <td>0</td>\n",
       "      <td>TR</td>\n",
       "      <td>0</td>\n",
       "      <td>0</td>\n",
       "      <td>0</td>\n",
       "      <td>NaN</td>\n",
       "    </tr>\n",
       "    <tr>\n",
       "      <th>24</th>\n",
       "      <td>Himachal Pradesh</td>\n",
       "      <td>556</td>\n",
       "      <td>342</td>\n",
       "      <td>7</td>\n",
       "      <td>196</td>\n",
       "      <td>15/06/2020 21:40:48</td>\n",
       "      <td>11</td>\n",
       "      <td>HP</td>\n",
       "      <td>38</td>\n",
       "      <td>16</td>\n",
       "      <td>0</td>\n",
       "      <td>HP has 12 Migrated cases which are reduced fro...</td>\n",
       "    </tr>\n",
       "    <tr>\n",
       "      <th>25</th>\n",
       "      <td>Goa</td>\n",
       "      <td>592</td>\n",
       "      <td>85</td>\n",
       "      <td>0</td>\n",
       "      <td>507</td>\n",
       "      <td>15/06/2020 19:43:51</td>\n",
       "      <td>0</td>\n",
       "      <td>GA</td>\n",
       "      <td>28</td>\n",
       "      <td>11</td>\n",
       "      <td>0</td>\n",
       "      <td>NaN</td>\n",
       "    </tr>\n",
       "    <tr>\n",
       "      <th>26</th>\n",
       "      <td>Manipur</td>\n",
       "      <td>490</td>\n",
       "      <td>151</td>\n",
       "      <td>0</td>\n",
       "      <td>339</td>\n",
       "      <td>15/06/2020 20:33:51</td>\n",
       "      <td>0</td>\n",
       "      <td>MN</td>\n",
       "      <td>32</td>\n",
       "      <td>60</td>\n",
       "      <td>0</td>\n",
       "      <td>NaN</td>\n",
       "    </tr>\n",
       "    <tr>\n",
       "      <th>27</th>\n",
       "      <td>Chandigarh</td>\n",
       "      <td>357</td>\n",
       "      <td>301</td>\n",
       "      <td>6</td>\n",
       "      <td>50</td>\n",
       "      <td>15/06/2020 17:26:49</td>\n",
       "      <td>0</td>\n",
       "      <td>CH</td>\n",
       "      <td>5</td>\n",
       "      <td>6</td>\n",
       "      <td>1</td>\n",
       "      <td>NaN</td>\n",
       "    </tr>\n",
       "    <tr>\n",
       "      <th>28</th>\n",
       "      <td>Puducherry</td>\n",
       "      <td>202</td>\n",
       "      <td>95</td>\n",
       "      <td>4</td>\n",
       "      <td>103</td>\n",
       "      <td>15/06/2020 18:15:48</td>\n",
       "      <td>0</td>\n",
       "      <td>PY</td>\n",
       "      <td>8</td>\n",
       "      <td>4</td>\n",
       "      <td>0</td>\n",
       "      <td>NaN</td>\n",
       "    </tr>\n",
       "    <tr>\n",
       "      <th>29</th>\n",
       "      <td>Ladakh</td>\n",
       "      <td>555</td>\n",
       "      <td>82</td>\n",
       "      <td>1</td>\n",
       "      <td>472</td>\n",
       "      <td>15/06/2020 17:52:50</td>\n",
       "      <td>0</td>\n",
       "      <td>LA</td>\n",
       "      <td>6</td>\n",
       "      <td>2</td>\n",
       "      <td>0</td>\n",
       "      <td>NaN</td>\n",
       "    </tr>\n",
       "    <tr>\n",
       "      <th>30</th>\n",
       "      <td>Nagaland</td>\n",
       "      <td>177</td>\n",
       "      <td>88</td>\n",
       "      <td>0</td>\n",
       "      <td>89</td>\n",
       "      <td>15/06/2020 20:20:58</td>\n",
       "      <td>0</td>\n",
       "      <td>NL</td>\n",
       "      <td>4</td>\n",
       "      <td>0</td>\n",
       "      <td>0</td>\n",
       "      <td>NaN</td>\n",
       "    </tr>\n",
       "    <tr>\n",
       "      <th>31</th>\n",
       "      <td>Mizoram</td>\n",
       "      <td>117</td>\n",
       "      <td>1</td>\n",
       "      <td>0</td>\n",
       "      <td>116</td>\n",
       "      <td>15/06/2020 07:24:49</td>\n",
       "      <td>0</td>\n",
       "      <td>MZ</td>\n",
       "      <td>5</td>\n",
       "      <td>0</td>\n",
       "      <td>0</td>\n",
       "      <td>NaN</td>\n",
       "    </tr>\n",
       "    <tr>\n",
       "      <th>32</th>\n",
       "      <td>Arunachal Pradesh</td>\n",
       "      <td>91</td>\n",
       "      <td>7</td>\n",
       "      <td>0</td>\n",
       "      <td>84</td>\n",
       "      <td>14/06/2020 23:02:48</td>\n",
       "      <td>0</td>\n",
       "      <td>AR</td>\n",
       "      <td>0</td>\n",
       "      <td>0</td>\n",
       "      <td>0</td>\n",
       "      <td>NaN</td>\n",
       "    </tr>\n",
       "    <tr>\n",
       "      <th>33</th>\n",
       "      <td>Meghalaya</td>\n",
       "      <td>44</td>\n",
       "      <td>26</td>\n",
       "      <td>1</td>\n",
       "      <td>17</td>\n",
       "      <td>14/06/2020 09:41:50</td>\n",
       "      <td>0</td>\n",
       "      <td>ML</td>\n",
       "      <td>0</td>\n",
       "      <td>0</td>\n",
       "      <td>0</td>\n",
       "      <td>NaN</td>\n",
       "    </tr>\n",
       "    <tr>\n",
       "      <th>34</th>\n",
       "      <td>Andaman and Nicobar Islands</td>\n",
       "      <td>41</td>\n",
       "      <td>33</td>\n",
       "      <td>0</td>\n",
       "      <td>8</td>\n",
       "      <td>15/06/2020 09:38:49</td>\n",
       "      <td>0</td>\n",
       "      <td>AN</td>\n",
       "      <td>1</td>\n",
       "      <td>0</td>\n",
       "      <td>0</td>\n",
       "      <td>NaN</td>\n",
       "    </tr>\n",
       "    <tr>\n",
       "      <th>35</th>\n",
       "      <td>Dadra and Nagar Haveli and Daman and Diu</td>\n",
       "      <td>36</td>\n",
       "      <td>2</td>\n",
       "      <td>0</td>\n",
       "      <td>34</td>\n",
       "      <td>15/06/2020 01:23:48</td>\n",
       "      <td>0</td>\n",
       "      <td>DN</td>\n",
       "      <td>0</td>\n",
       "      <td>0</td>\n",
       "      <td>0</td>\n",
       "      <td>NaN</td>\n",
       "    </tr>\n",
       "    <tr>\n",
       "      <th>36</th>\n",
       "      <td>Sikkim</td>\n",
       "      <td>68</td>\n",
       "      <td>5</td>\n",
       "      <td>0</td>\n",
       "      <td>63</td>\n",
       "      <td>14/06/2020 14:39:51</td>\n",
       "      <td>0</td>\n",
       "      <td>SK</td>\n",
       "      <td>0</td>\n",
       "      <td>0</td>\n",
       "      <td>0</td>\n",
       "      <td>NaN</td>\n",
       "    </tr>\n",
       "    <tr>\n",
       "      <th>37</th>\n",
       "      <td>Lakshadweep</td>\n",
       "      <td>0</td>\n",
       "      <td>0</td>\n",
       "      <td>0</td>\n",
       "      <td>0</td>\n",
       "      <td>26/03/2020 07:19:29</td>\n",
       "      <td>0</td>\n",
       "      <td>LD</td>\n",
       "      <td>0</td>\n",
       "      <td>0</td>\n",
       "      <td>0</td>\n",
       "      <td>NaN</td>\n",
       "    </tr>\n",
       "  </tbody>\n",
       "</table>\n",
       "</div>"
      ],
      "text/plain": [
       "                                       State  Confirmed  Recovered  Deaths  \\\n",
       "0                                      Total     338639     173707    9698   \n",
       "1                                Maharashtra     107958      50978    3950   \n",
       "2                                 Tamil Nadu      46504      25344     479   \n",
       "3                                      Delhi      42829      16427    1400   \n",
       "4                                    Gujarat      24101      16672    1506   \n",
       "5                              Uttar Pradesh      13615       8268     399   \n",
       "6                                  Rajasthan      12772       9631     294   \n",
       "7                             Madhya Pradesh      10935       7903     465   \n",
       "8                                West Bengal      11494       5494     485   \n",
       "9                           State Unassigned       6972          0       0   \n",
       "10                                 Karnataka       7213       4140      89   \n",
       "11                                   Haryana       7327       3003      88   \n",
       "12                                     Bihar       6662       4226      38   \n",
       "13                            Andhra Pradesh       6456       3385      86   \n",
       "14                         Jammu and Kashmir       5098       2604      62   \n",
       "15                                 Telangana       4974       2377     185   \n",
       "16                                    Odisha       4055       2854      14   \n",
       "17                                     Assam       4159       2206       8   \n",
       "18                                    Punjab       3267       2443      71   \n",
       "19                                    Kerala       2544       1174      21   \n",
       "20                               Uttarakhand       1845       1189      24   \n",
       "21                                 Jharkhand       1748        905       8   \n",
       "22                              Chhattisgarh       1706        833       6   \n",
       "23                                   Tripura       1079        433       1   \n",
       "24                          Himachal Pradesh        556        342       7   \n",
       "25                                       Goa        592         85       0   \n",
       "26                                   Manipur        490        151       0   \n",
       "27                                Chandigarh        357        301       6   \n",
       "28                                Puducherry        202         95       4   \n",
       "29                                    Ladakh        555         82       1   \n",
       "30                                  Nagaland        177         88       0   \n",
       "31                                   Mizoram        117          1       0   \n",
       "32                         Arunachal Pradesh         91          7       0   \n",
       "33                                 Meghalaya         44         26       1   \n",
       "34               Andaman and Nicobar Islands         41         33       0   \n",
       "35  Dadra and Nagar Haveli and Daman and Diu         36          2       0   \n",
       "36                                    Sikkim         68          5       0   \n",
       "37                               Lakshadweep          0          0       0   \n",
       "\n",
       "    Active    Last_Updated_Time  Migrated_Other State_code  Delta_Confirmed  \\\n",
       "0   155191  15/06/2020 21:44:46              43         TT             5627   \n",
       "1    53017  14/06/2020 21:54:47              13         MH                0   \n",
       "2    20681  15/06/2020 20:04:47               0         TN             1843   \n",
       "3    25002  15/06/2020 21:24:48               0         DL             1647   \n",
       "4     5923  15/06/2020 21:44:47               0         GJ              511   \n",
       "5     4948  14/06/2020 22:08:48               0         UP                0   \n",
       "6     2847  15/06/2020 10:59:48               0         RJ               78   \n",
       "7     2567  15/06/2020 20:38:47               0         MP              133   \n",
       "8     5515  15/06/2020 20:33:49               0         WB              407   \n",
       "9     6972  15/06/2020 09:51:47               0         UN             -464   \n",
       "10    2981  15/06/2020 19:25:59               3         KA              213   \n",
       "11    4236  15/06/2020 14:05:48               0         HR              119   \n",
       "12    2398  15/06/2020 21:05:48               0         BR              187   \n",
       "13    2985  15/06/2020 13:53:50               0         AP              304   \n",
       "14    2432  15/06/2020 19:43:48               0         JK               57   \n",
       "15    2412  14/06/2020 22:03:50               0         TG                0   \n",
       "16    1187  15/06/2020 15:54:49               0         OR              146   \n",
       "17    1942  15/06/2020 20:38:49               3         AS               40   \n",
       "18     753  15/06/2020 20:16:48               0         PB              127   \n",
       "19    1348  15/06/2020 18:51:56               1         KL               82   \n",
       "20     620  15/06/2020 21:44:49              12         UT               26   \n",
       "21     835  15/06/2020 00:56:48               0         JH                0   \n",
       "22     867  15/06/2020 21:40:37               0         CT               44   \n",
       "23     645  14/06/2020 21:45:55               0         TR                0   \n",
       "24     196  15/06/2020 21:40:48              11         HP               38   \n",
       "25     507  15/06/2020 19:43:51               0         GA               28   \n",
       "26     339  15/06/2020 20:33:51               0         MN               32   \n",
       "27      50  15/06/2020 17:26:49               0         CH                5   \n",
       "28     103  15/06/2020 18:15:48               0         PY                8   \n",
       "29     472  15/06/2020 17:52:50               0         LA                6   \n",
       "30      89  15/06/2020 20:20:58               0         NL                4   \n",
       "31     116  15/06/2020 07:24:49               0         MZ                5   \n",
       "32      84  14/06/2020 23:02:48               0         AR                0   \n",
       "33      17  14/06/2020 09:41:50               0         ML                0   \n",
       "34       8  15/06/2020 09:38:49               0         AN                1   \n",
       "35      34  15/06/2020 01:23:48               0         DN                0   \n",
       "36      63  14/06/2020 14:39:51               0         SK                0   \n",
       "37       0  26/03/2020 07:19:29               0         LD                0   \n",
       "\n",
       "    Delta_Recovered  Delta_Deaths  \\\n",
       "0              4024           178   \n",
       "1                 0             0   \n",
       "2               797            44   \n",
       "3               604            73   \n",
       "4               339            28   \n",
       "5                 0             0   \n",
       "6                65             2   \n",
       "7               226             6   \n",
       "8               434            10   \n",
       "9                 0             0   \n",
       "10              180             2   \n",
       "11                0             0   \n",
       "12              251             2   \n",
       "13               69             2   \n",
       "14              215             3   \n",
       "15                0             0   \n",
       "16              146             0   \n",
       "17              245             0   \n",
       "18               87             4   \n",
       "19               73             1   \n",
       "20               78             0   \n",
       "21                0             0   \n",
       "22              116             0   \n",
       "23                0             0   \n",
       "24               16             0   \n",
       "25               11             0   \n",
       "26               60             0   \n",
       "27                6             1   \n",
       "28                4             0   \n",
       "29                2             0   \n",
       "30                0             0   \n",
       "31                0             0   \n",
       "32                0             0   \n",
       "33                0             0   \n",
       "34                0             0   \n",
       "35                0             0   \n",
       "36                0             0   \n",
       "37                0             0   \n",
       "\n",
       "                                          State_Notes  \n",
       "0                                                 NaN  \n",
       "1   13 cases were marked as non-covid deaths in MH...  \n",
       "2   2 deaths cross notified to other states from C...  \n",
       "3   Delhi bulletins in the morning, containing dat...  \n",
       "4                                                 NaN  \n",
       "5                                                 NaN  \n",
       "6                                                 NaN  \n",
       "7                                                 NaN  \n",
       "8                                                 NaN  \n",
       "9   MoHFW website reports that these are the 'case...  \n",
       "10  3 cases are classified as non-covid related de...  \n",
       "11                                                NaN  \n",
       "12                                                NaN  \n",
       "13  Total includes patients from other states and ...  \n",
       "14                                                NaN  \n",
       "15                                                NaN  \n",
       "16  Three non-covid deaths reported in state dashb...  \n",
       "17  Includes one case from Nagaland.\\nTotal of 3 p...  \n",
       "18                                                NaN  \n",
       "19  Mahe native who expired in Kannur included in ...  \n",
       "20        12 Migrated cases reduced from Active count  \n",
       "21                                                NaN  \n",
       "22                                                NaN  \n",
       "23                                                NaN  \n",
       "24  HP has 12 Migrated cases which are reduced fro...  \n",
       "25                                                NaN  \n",
       "26                                                NaN  \n",
       "27                                                NaN  \n",
       "28                                                NaN  \n",
       "29                                                NaN  \n",
       "30                                                NaN  \n",
       "31                                                NaN  \n",
       "32                                                NaN  \n",
       "33                                                NaN  \n",
       "34                                                NaN  \n",
       "35                                                NaN  \n",
       "36                                                NaN  \n",
       "37                                                NaN  "
      ]
     },
     "execution_count": 154,
     "metadata": {},
     "output_type": "execute_result"
    }
   ],
   "source": [
    "df=pd.read_csv(\"https://api.covid19india.org/csv/latest/state_wise.csv\")\n",
    "df"
   ]
  },
  {
   "cell_type": "markdown",
   "metadata": {},
   "source": [
    "Upon reading the data set we can see that data we see we have som unnessary data which we remove from our dataset\n",
    "which is know as \n",
    "##### Cleaning of Dataset"
   ]
  },
  {
   "cell_type": "code",
   "execution_count": 155,
   "metadata": {
    "scrolled": true
   },
   "outputs": [
    {
     "data": {
      "text/html": [
       "<div>\n",
       "<style scoped>\n",
       "    .dataframe tbody tr th:only-of-type {\n",
       "        vertical-align: middle;\n",
       "    }\n",
       "\n",
       "    .dataframe tbody tr th {\n",
       "        vertical-align: top;\n",
       "    }\n",
       "\n",
       "    .dataframe thead th {\n",
       "        text-align: right;\n",
       "    }\n",
       "</style>\n",
       "<table border=\"1\" class=\"dataframe\">\n",
       "  <thead>\n",
       "    <tr style=\"text-align: right;\">\n",
       "      <th></th>\n",
       "      <th>State</th>\n",
       "      <th>Confirmed</th>\n",
       "      <th>Recovered</th>\n",
       "      <th>Deaths</th>\n",
       "      <th>Active</th>\n",
       "      <th>Migrated_Other</th>\n",
       "      <th>State_code</th>\n",
       "    </tr>\n",
       "  </thead>\n",
       "  <tbody>\n",
       "    <tr>\n",
       "      <th>0</th>\n",
       "      <td>Total</td>\n",
       "      <td>338639</td>\n",
       "      <td>173707</td>\n",
       "      <td>9698</td>\n",
       "      <td>155191</td>\n",
       "      <td>43</td>\n",
       "      <td>TT</td>\n",
       "    </tr>\n",
       "    <tr>\n",
       "      <th>1</th>\n",
       "      <td>Maharashtra</td>\n",
       "      <td>107958</td>\n",
       "      <td>50978</td>\n",
       "      <td>3950</td>\n",
       "      <td>53017</td>\n",
       "      <td>13</td>\n",
       "      <td>MH</td>\n",
       "    </tr>\n",
       "    <tr>\n",
       "      <th>2</th>\n",
       "      <td>Tamil Nadu</td>\n",
       "      <td>46504</td>\n",
       "      <td>25344</td>\n",
       "      <td>479</td>\n",
       "      <td>20681</td>\n",
       "      <td>0</td>\n",
       "      <td>TN</td>\n",
       "    </tr>\n",
       "    <tr>\n",
       "      <th>3</th>\n",
       "      <td>Delhi</td>\n",
       "      <td>42829</td>\n",
       "      <td>16427</td>\n",
       "      <td>1400</td>\n",
       "      <td>25002</td>\n",
       "      <td>0</td>\n",
       "      <td>DL</td>\n",
       "    </tr>\n",
       "    <tr>\n",
       "      <th>4</th>\n",
       "      <td>Gujarat</td>\n",
       "      <td>24101</td>\n",
       "      <td>16672</td>\n",
       "      <td>1506</td>\n",
       "      <td>5923</td>\n",
       "      <td>0</td>\n",
       "      <td>GJ</td>\n",
       "    </tr>\n",
       "    <tr>\n",
       "      <th>5</th>\n",
       "      <td>Uttar Pradesh</td>\n",
       "      <td>13615</td>\n",
       "      <td>8268</td>\n",
       "      <td>399</td>\n",
       "      <td>4948</td>\n",
       "      <td>0</td>\n",
       "      <td>UP</td>\n",
       "    </tr>\n",
       "    <tr>\n",
       "      <th>6</th>\n",
       "      <td>Rajasthan</td>\n",
       "      <td>12772</td>\n",
       "      <td>9631</td>\n",
       "      <td>294</td>\n",
       "      <td>2847</td>\n",
       "      <td>0</td>\n",
       "      <td>RJ</td>\n",
       "    </tr>\n",
       "    <tr>\n",
       "      <th>7</th>\n",
       "      <td>Madhya Pradesh</td>\n",
       "      <td>10935</td>\n",
       "      <td>7903</td>\n",
       "      <td>465</td>\n",
       "      <td>2567</td>\n",
       "      <td>0</td>\n",
       "      <td>MP</td>\n",
       "    </tr>\n",
       "    <tr>\n",
       "      <th>8</th>\n",
       "      <td>West Bengal</td>\n",
       "      <td>11494</td>\n",
       "      <td>5494</td>\n",
       "      <td>485</td>\n",
       "      <td>5515</td>\n",
       "      <td>0</td>\n",
       "      <td>WB</td>\n",
       "    </tr>\n",
       "    <tr>\n",
       "      <th>9</th>\n",
       "      <td>State Unassigned</td>\n",
       "      <td>6972</td>\n",
       "      <td>0</td>\n",
       "      <td>0</td>\n",
       "      <td>6972</td>\n",
       "      <td>0</td>\n",
       "      <td>UN</td>\n",
       "    </tr>\n",
       "    <tr>\n",
       "      <th>10</th>\n",
       "      <td>Karnataka</td>\n",
       "      <td>7213</td>\n",
       "      <td>4140</td>\n",
       "      <td>89</td>\n",
       "      <td>2981</td>\n",
       "      <td>3</td>\n",
       "      <td>KA</td>\n",
       "    </tr>\n",
       "    <tr>\n",
       "      <th>11</th>\n",
       "      <td>Haryana</td>\n",
       "      <td>7327</td>\n",
       "      <td>3003</td>\n",
       "      <td>88</td>\n",
       "      <td>4236</td>\n",
       "      <td>0</td>\n",
       "      <td>HR</td>\n",
       "    </tr>\n",
       "    <tr>\n",
       "      <th>12</th>\n",
       "      <td>Bihar</td>\n",
       "      <td>6662</td>\n",
       "      <td>4226</td>\n",
       "      <td>38</td>\n",
       "      <td>2398</td>\n",
       "      <td>0</td>\n",
       "      <td>BR</td>\n",
       "    </tr>\n",
       "    <tr>\n",
       "      <th>13</th>\n",
       "      <td>Andhra Pradesh</td>\n",
       "      <td>6456</td>\n",
       "      <td>3385</td>\n",
       "      <td>86</td>\n",
       "      <td>2985</td>\n",
       "      <td>0</td>\n",
       "      <td>AP</td>\n",
       "    </tr>\n",
       "    <tr>\n",
       "      <th>14</th>\n",
       "      <td>Jammu and Kashmir</td>\n",
       "      <td>5098</td>\n",
       "      <td>2604</td>\n",
       "      <td>62</td>\n",
       "      <td>2432</td>\n",
       "      <td>0</td>\n",
       "      <td>JK</td>\n",
       "    </tr>\n",
       "    <tr>\n",
       "      <th>15</th>\n",
       "      <td>Telangana</td>\n",
       "      <td>4974</td>\n",
       "      <td>2377</td>\n",
       "      <td>185</td>\n",
       "      <td>2412</td>\n",
       "      <td>0</td>\n",
       "      <td>TG</td>\n",
       "    </tr>\n",
       "    <tr>\n",
       "      <th>16</th>\n",
       "      <td>Odisha</td>\n",
       "      <td>4055</td>\n",
       "      <td>2854</td>\n",
       "      <td>14</td>\n",
       "      <td>1187</td>\n",
       "      <td>0</td>\n",
       "      <td>OR</td>\n",
       "    </tr>\n",
       "    <tr>\n",
       "      <th>17</th>\n",
       "      <td>Assam</td>\n",
       "      <td>4159</td>\n",
       "      <td>2206</td>\n",
       "      <td>8</td>\n",
       "      <td>1942</td>\n",
       "      <td>3</td>\n",
       "      <td>AS</td>\n",
       "    </tr>\n",
       "    <tr>\n",
       "      <th>18</th>\n",
       "      <td>Punjab</td>\n",
       "      <td>3267</td>\n",
       "      <td>2443</td>\n",
       "      <td>71</td>\n",
       "      <td>753</td>\n",
       "      <td>0</td>\n",
       "      <td>PB</td>\n",
       "    </tr>\n",
       "    <tr>\n",
       "      <th>19</th>\n",
       "      <td>Kerala</td>\n",
       "      <td>2544</td>\n",
       "      <td>1174</td>\n",
       "      <td>21</td>\n",
       "      <td>1348</td>\n",
       "      <td>1</td>\n",
       "      <td>KL</td>\n",
       "    </tr>\n",
       "    <tr>\n",
       "      <th>20</th>\n",
       "      <td>Uttarakhand</td>\n",
       "      <td>1845</td>\n",
       "      <td>1189</td>\n",
       "      <td>24</td>\n",
       "      <td>620</td>\n",
       "      <td>12</td>\n",
       "      <td>UT</td>\n",
       "    </tr>\n",
       "    <tr>\n",
       "      <th>21</th>\n",
       "      <td>Jharkhand</td>\n",
       "      <td>1748</td>\n",
       "      <td>905</td>\n",
       "      <td>8</td>\n",
       "      <td>835</td>\n",
       "      <td>0</td>\n",
       "      <td>JH</td>\n",
       "    </tr>\n",
       "    <tr>\n",
       "      <th>22</th>\n",
       "      <td>Chhattisgarh</td>\n",
       "      <td>1706</td>\n",
       "      <td>833</td>\n",
       "      <td>6</td>\n",
       "      <td>867</td>\n",
       "      <td>0</td>\n",
       "      <td>CT</td>\n",
       "    </tr>\n",
       "    <tr>\n",
       "      <th>23</th>\n",
       "      <td>Tripura</td>\n",
       "      <td>1079</td>\n",
       "      <td>433</td>\n",
       "      <td>1</td>\n",
       "      <td>645</td>\n",
       "      <td>0</td>\n",
       "      <td>TR</td>\n",
       "    </tr>\n",
       "    <tr>\n",
       "      <th>24</th>\n",
       "      <td>Himachal Pradesh</td>\n",
       "      <td>556</td>\n",
       "      <td>342</td>\n",
       "      <td>7</td>\n",
       "      <td>196</td>\n",
       "      <td>11</td>\n",
       "      <td>HP</td>\n",
       "    </tr>\n",
       "    <tr>\n",
       "      <th>25</th>\n",
       "      <td>Goa</td>\n",
       "      <td>592</td>\n",
       "      <td>85</td>\n",
       "      <td>0</td>\n",
       "      <td>507</td>\n",
       "      <td>0</td>\n",
       "      <td>GA</td>\n",
       "    </tr>\n",
       "    <tr>\n",
       "      <th>26</th>\n",
       "      <td>Manipur</td>\n",
       "      <td>490</td>\n",
       "      <td>151</td>\n",
       "      <td>0</td>\n",
       "      <td>339</td>\n",
       "      <td>0</td>\n",
       "      <td>MN</td>\n",
       "    </tr>\n",
       "    <tr>\n",
       "      <th>27</th>\n",
       "      <td>Chandigarh</td>\n",
       "      <td>357</td>\n",
       "      <td>301</td>\n",
       "      <td>6</td>\n",
       "      <td>50</td>\n",
       "      <td>0</td>\n",
       "      <td>CH</td>\n",
       "    </tr>\n",
       "    <tr>\n",
       "      <th>28</th>\n",
       "      <td>Puducherry</td>\n",
       "      <td>202</td>\n",
       "      <td>95</td>\n",
       "      <td>4</td>\n",
       "      <td>103</td>\n",
       "      <td>0</td>\n",
       "      <td>PY</td>\n",
       "    </tr>\n",
       "    <tr>\n",
       "      <th>29</th>\n",
       "      <td>Ladakh</td>\n",
       "      <td>555</td>\n",
       "      <td>82</td>\n",
       "      <td>1</td>\n",
       "      <td>472</td>\n",
       "      <td>0</td>\n",
       "      <td>LA</td>\n",
       "    </tr>\n",
       "    <tr>\n",
       "      <th>30</th>\n",
       "      <td>Nagaland</td>\n",
       "      <td>177</td>\n",
       "      <td>88</td>\n",
       "      <td>0</td>\n",
       "      <td>89</td>\n",
       "      <td>0</td>\n",
       "      <td>NL</td>\n",
       "    </tr>\n",
       "    <tr>\n",
       "      <th>31</th>\n",
       "      <td>Mizoram</td>\n",
       "      <td>117</td>\n",
       "      <td>1</td>\n",
       "      <td>0</td>\n",
       "      <td>116</td>\n",
       "      <td>0</td>\n",
       "      <td>MZ</td>\n",
       "    </tr>\n",
       "    <tr>\n",
       "      <th>32</th>\n",
       "      <td>Arunachal Pradesh</td>\n",
       "      <td>91</td>\n",
       "      <td>7</td>\n",
       "      <td>0</td>\n",
       "      <td>84</td>\n",
       "      <td>0</td>\n",
       "      <td>AR</td>\n",
       "    </tr>\n",
       "    <tr>\n",
       "      <th>33</th>\n",
       "      <td>Meghalaya</td>\n",
       "      <td>44</td>\n",
       "      <td>26</td>\n",
       "      <td>1</td>\n",
       "      <td>17</td>\n",
       "      <td>0</td>\n",
       "      <td>ML</td>\n",
       "    </tr>\n",
       "    <tr>\n",
       "      <th>34</th>\n",
       "      <td>Andaman and Nicobar Islands</td>\n",
       "      <td>41</td>\n",
       "      <td>33</td>\n",
       "      <td>0</td>\n",
       "      <td>8</td>\n",
       "      <td>0</td>\n",
       "      <td>AN</td>\n",
       "    </tr>\n",
       "    <tr>\n",
       "      <th>35</th>\n",
       "      <td>Dadra and Nagar Haveli and Daman and Diu</td>\n",
       "      <td>36</td>\n",
       "      <td>2</td>\n",
       "      <td>0</td>\n",
       "      <td>34</td>\n",
       "      <td>0</td>\n",
       "      <td>DN</td>\n",
       "    </tr>\n",
       "    <tr>\n",
       "      <th>36</th>\n",
       "      <td>Sikkim</td>\n",
       "      <td>68</td>\n",
       "      <td>5</td>\n",
       "      <td>0</td>\n",
       "      <td>63</td>\n",
       "      <td>0</td>\n",
       "      <td>SK</td>\n",
       "    </tr>\n",
       "    <tr>\n",
       "      <th>37</th>\n",
       "      <td>Lakshadweep</td>\n",
       "      <td>0</td>\n",
       "      <td>0</td>\n",
       "      <td>0</td>\n",
       "      <td>0</td>\n",
       "      <td>0</td>\n",
       "      <td>LD</td>\n",
       "    </tr>\n",
       "  </tbody>\n",
       "</table>\n",
       "</div>"
      ],
      "text/plain": [
       "                                       State  Confirmed  Recovered  Deaths  \\\n",
       "0                                      Total     338639     173707    9698   \n",
       "1                                Maharashtra     107958      50978    3950   \n",
       "2                                 Tamil Nadu      46504      25344     479   \n",
       "3                                      Delhi      42829      16427    1400   \n",
       "4                                    Gujarat      24101      16672    1506   \n",
       "5                              Uttar Pradesh      13615       8268     399   \n",
       "6                                  Rajasthan      12772       9631     294   \n",
       "7                             Madhya Pradesh      10935       7903     465   \n",
       "8                                West Bengal      11494       5494     485   \n",
       "9                           State Unassigned       6972          0       0   \n",
       "10                                 Karnataka       7213       4140      89   \n",
       "11                                   Haryana       7327       3003      88   \n",
       "12                                     Bihar       6662       4226      38   \n",
       "13                            Andhra Pradesh       6456       3385      86   \n",
       "14                         Jammu and Kashmir       5098       2604      62   \n",
       "15                                 Telangana       4974       2377     185   \n",
       "16                                    Odisha       4055       2854      14   \n",
       "17                                     Assam       4159       2206       8   \n",
       "18                                    Punjab       3267       2443      71   \n",
       "19                                    Kerala       2544       1174      21   \n",
       "20                               Uttarakhand       1845       1189      24   \n",
       "21                                 Jharkhand       1748        905       8   \n",
       "22                              Chhattisgarh       1706        833       6   \n",
       "23                                   Tripura       1079        433       1   \n",
       "24                          Himachal Pradesh        556        342       7   \n",
       "25                                       Goa        592         85       0   \n",
       "26                                   Manipur        490        151       0   \n",
       "27                                Chandigarh        357        301       6   \n",
       "28                                Puducherry        202         95       4   \n",
       "29                                    Ladakh        555         82       1   \n",
       "30                                  Nagaland        177         88       0   \n",
       "31                                   Mizoram        117          1       0   \n",
       "32                         Arunachal Pradesh         91          7       0   \n",
       "33                                 Meghalaya         44         26       1   \n",
       "34               Andaman and Nicobar Islands         41         33       0   \n",
       "35  Dadra and Nagar Haveli and Daman and Diu         36          2       0   \n",
       "36                                    Sikkim         68          5       0   \n",
       "37                               Lakshadweep          0          0       0   \n",
       "\n",
       "    Active  Migrated_Other State_code  \n",
       "0   155191              43         TT  \n",
       "1    53017              13         MH  \n",
       "2    20681               0         TN  \n",
       "3    25002               0         DL  \n",
       "4     5923               0         GJ  \n",
       "5     4948               0         UP  \n",
       "6     2847               0         RJ  \n",
       "7     2567               0         MP  \n",
       "8     5515               0         WB  \n",
       "9     6972               0         UN  \n",
       "10    2981               3         KA  \n",
       "11    4236               0         HR  \n",
       "12    2398               0         BR  \n",
       "13    2985               0         AP  \n",
       "14    2432               0         JK  \n",
       "15    2412               0         TG  \n",
       "16    1187               0         OR  \n",
       "17    1942               3         AS  \n",
       "18     753               0         PB  \n",
       "19    1348               1         KL  \n",
       "20     620              12         UT  \n",
       "21     835               0         JH  \n",
       "22     867               0         CT  \n",
       "23     645               0         TR  \n",
       "24     196              11         HP  \n",
       "25     507               0         GA  \n",
       "26     339               0         MN  \n",
       "27      50               0         CH  \n",
       "28     103               0         PY  \n",
       "29     472               0         LA  \n",
       "30      89               0         NL  \n",
       "31     116               0         MZ  \n",
       "32      84               0         AR  \n",
       "33      17               0         ML  \n",
       "34       8               0         AN  \n",
       "35      34               0         DN  \n",
       "36      63               0         SK  \n",
       "37       0               0         LD  "
      ]
     },
     "execution_count": 155,
     "metadata": {},
     "output_type": "execute_result"
    }
   ],
   "source": [
    "Clean_data=df.drop(['Last_Updated_Time','State_Notes','Delta_Confirmed','Delta_Recovered','Delta_Deaths'],axis =1)\n",
    "Clean_data"
   ]
  },
  {
   "cell_type": "markdown",
   "metadata": {},
   "source": [
    "#### After Cleaning DataSet we can See that we get more understandle DataSet now we can use this for visualization and further Analysis."
   ]
  },
  {
   "cell_type": "code",
   "execution_count": 156,
   "metadata": {},
   "outputs": [
    {
     "name": "stdout",
     "output_type": "stream",
     "text": [
      "Total number of Confirmed cases in India till now \n"
     ]
    },
    {
     "data": {
      "text/plain": [
       "338639"
      ]
     },
     "execution_count": 156,
     "metadata": {},
     "output_type": "execute_result"
    }
   ],
   "source": [
    "print('Total number of Confirmed cases in India till now ')\n",
    "Clean_data.iat[0,1]"
   ]
  },
  {
   "cell_type": "code",
   "execution_count": 6,
   "metadata": {},
   "outputs": [
    {
     "data": {
      "text/plain": [
       "(38, 7)"
      ]
     },
     "execution_count": 6,
     "metadata": {},
     "output_type": "execute_result"
    }
   ],
   "source": [
    "Clean_data.shape"
   ]
  },
  {
   "cell_type": "markdown",
   "metadata": {},
   "source": [
    "We can see that there are total 38 states that are effected by the virus."
   ]
  },
  {
   "cell_type": "markdown",
   "metadata": {},
   "source": [
    "### Lets Do Some Visulization "
   ]
  },
  {
   "cell_type": "code",
   "execution_count": 7,
   "metadata": {},
   "outputs": [],
   "source": [
    "Clean_dta=Clean_data[Clean_data.State != 'Total']\n"
   ]
  },
  {
   "cell_type": "code",
   "execution_count": 157,
   "metadata": {},
   "outputs": [
    {
     "data": {
      "text/html": [
       "<style  type=\"text/css\" >\n",
       "    #T_1f3b9c30_af24_11ea_9268_844bf50ed32drow0_col1 {\n",
       "            background-color:  #67000d;\n",
       "            color:  #f1f1f1;\n",
       "        }    #T_1f3b9c30_af24_11ea_9268_844bf50ed32drow0_col2 {\n",
       "            background-color:  #67000d;\n",
       "            color:  #f1f1f1;\n",
       "        }    #T_1f3b9c30_af24_11ea_9268_844bf50ed32drow0_col3 {\n",
       "            background-color:  #67000d;\n",
       "            color:  #f1f1f1;\n",
       "        }    #T_1f3b9c30_af24_11ea_9268_844bf50ed32drow0_col4 {\n",
       "            background-color:  #67000d;\n",
       "            color:  #f1f1f1;\n",
       "        }    #T_1f3b9c30_af24_11ea_9268_844bf50ed32drow0_col5 {\n",
       "            background-color:  #67000d;\n",
       "            color:  #f1f1f1;\n",
       "        }    #T_1f3b9c30_af24_11ea_9268_844bf50ed32drow1_col1 {\n",
       "            background-color:  #fc8666;\n",
       "            color:  #000000;\n",
       "        }    #T_1f3b9c30_af24_11ea_9268_844bf50ed32drow1_col2 {\n",
       "            background-color:  #fb7050;\n",
       "            color:  #000000;\n",
       "        }    #T_1f3b9c30_af24_11ea_9268_844bf50ed32drow1_col3 {\n",
       "            background-color:  #fee3d6;\n",
       "            color:  #000000;\n",
       "        }    #T_1f3b9c30_af24_11ea_9268_844bf50ed32drow1_col4 {\n",
       "            background-color:  #fc9373;\n",
       "            color:  #000000;\n",
       "        }    #T_1f3b9c30_af24_11ea_9268_844bf50ed32drow1_col5 {\n",
       "            background-color:  #fff5f0;\n",
       "            color:  #000000;\n",
       "        }    #T_1f3b9c30_af24_11ea_9268_844bf50ed32drow2_col1 {\n",
       "            background-color:  #fc9070;\n",
       "            color:  #000000;\n",
       "        }    #T_1f3b9c30_af24_11ea_9268_844bf50ed32drow2_col2 {\n",
       "            background-color:  #fca78b;\n",
       "            color:  #000000;\n",
       "        }    #T_1f3b9c30_af24_11ea_9268_844bf50ed32drow2_col3 {\n",
       "            background-color:  #fc9e80;\n",
       "            color:  #000000;\n",
       "        }    #T_1f3b9c30_af24_11ea_9268_844bf50ed32drow2_col4 {\n",
       "            background-color:  #fb7858;\n",
       "            color:  #000000;\n",
       "        }    #T_1f3b9c30_af24_11ea_9268_844bf50ed32drow2_col5 {\n",
       "            background-color:  #fff5f0;\n",
       "            color:  #000000;\n",
       "        }    #T_1f3b9c30_af24_11ea_9268_844bf50ed32drow3_col1 {\n",
       "            background-color:  #fdc5ae;\n",
       "            color:  #000000;\n",
       "        }    #T_1f3b9c30_af24_11ea_9268_844bf50ed32drow3_col2 {\n",
       "            background-color:  #fca486;\n",
       "            color:  #000000;\n",
       "        }    #T_1f3b9c30_af24_11ea_9268_844bf50ed32drow3_col3 {\n",
       "            background-color:  #fc9373;\n",
       "            color:  #000000;\n",
       "        }    #T_1f3b9c30_af24_11ea_9268_844bf50ed32drow3_col4 {\n",
       "            background-color:  #fee3d7;\n",
       "            color:  #000000;\n",
       "        }    #T_1f3b9c30_af24_11ea_9268_844bf50ed32drow3_col5 {\n",
       "            background-color:  #fff5f0;\n",
       "            color:  #000000;\n",
       "        }    #T_1f3b9c30_af24_11ea_9268_844bf50ed32drow4_col1 {\n",
       "            background-color:  #fee0d2;\n",
       "            color:  #000000;\n",
       "        }    #T_1f3b9c30_af24_11ea_9268_844bf50ed32drow4_col2 {\n",
       "            background-color:  #fdd5c4;\n",
       "            color:  #000000;\n",
       "        }    #T_1f3b9c30_af24_11ea_9268_844bf50ed32drow4_col3 {\n",
       "            background-color:  #fee5d8;\n",
       "            color:  #000000;\n",
       "        }    #T_1f3b9c30_af24_11ea_9268_844bf50ed32drow4_col4 {\n",
       "            background-color:  #fee6da;\n",
       "            color:  #000000;\n",
       "        }    #T_1f3b9c30_af24_11ea_9268_844bf50ed32drow4_col5 {\n",
       "            background-color:  #fff5f0;\n",
       "            color:  #000000;\n",
       "        }    #T_1f3b9c30_af24_11ea_9268_844bf50ed32drow5_col1 {\n",
       "            background-color:  #fee1d4;\n",
       "            color:  #000000;\n",
       "        }    #T_1f3b9c30_af24_11ea_9268_844bf50ed32drow5_col2 {\n",
       "            background-color:  #fdcdb9;\n",
       "            color:  #000000;\n",
       "        }    #T_1f3b9c30_af24_11ea_9268_844bf50ed32drow5_col3 {\n",
       "            background-color:  #fee9df;\n",
       "            color:  #000000;\n",
       "        }    #T_1f3b9c30_af24_11ea_9268_844bf50ed32drow5_col4 {\n",
       "            background-color:  #ffece4;\n",
       "            color:  #000000;\n",
       "        }    #T_1f3b9c30_af24_11ea_9268_844bf50ed32drow5_col5 {\n",
       "            background-color:  #fff5f0;\n",
       "            color:  #000000;\n",
       "        }    #T_1f3b9c30_af24_11ea_9268_844bf50ed32drow6_col1 {\n",
       "            background-color:  #fee5d8;\n",
       "            color:  #000000;\n",
       "        }    #T_1f3b9c30_af24_11ea_9268_844bf50ed32drow6_col2 {\n",
       "            background-color:  #fed9c9;\n",
       "            color:  #000000;\n",
       "        }    #T_1f3b9c30_af24_11ea_9268_844bf50ed32drow6_col3 {\n",
       "            background-color:  #fee2d5;\n",
       "            color:  #000000;\n",
       "        }    #T_1f3b9c30_af24_11ea_9268_844bf50ed32drow6_col4 {\n",
       "            background-color:  #ffede5;\n",
       "            color:  #000000;\n",
       "        }    #T_1f3b9c30_af24_11ea_9268_844bf50ed32drow6_col5 {\n",
       "            background-color:  #fff5f0;\n",
       "            color:  #000000;\n",
       "        }    #T_1f3b9c30_af24_11ea_9268_844bf50ed32drow7_col1 {\n",
       "            background-color:  #fee4d8;\n",
       "            color:  #000000;\n",
       "        }    #T_1f3b9c30_af24_11ea_9268_844bf50ed32drow7_col2 {\n",
       "            background-color:  #fee5d8;\n",
       "            color:  #000000;\n",
       "        }    #T_1f3b9c30_af24_11ea_9268_844bf50ed32drow7_col3 {\n",
       "            background-color:  #fee1d4;\n",
       "            color:  #000000;\n",
       "        }    #T_1f3b9c30_af24_11ea_9268_844bf50ed32drow7_col4 {\n",
       "            background-color:  #fee4d8;\n",
       "            color:  #000000;\n",
       "        }    #T_1f3b9c30_af24_11ea_9268_844bf50ed32drow7_col5 {\n",
       "            background-color:  #fff5f0;\n",
       "            color:  #000000;\n",
       "        }    #T_1f3b9c30_af24_11ea_9268_844bf50ed32drow8_col1 {\n",
       "            background-color:  #feeae1;\n",
       "            color:  #000000;\n",
       "        }    #T_1f3b9c30_af24_11ea_9268_844bf50ed32drow8_col2 {\n",
       "            background-color:  #fff5f0;\n",
       "            color:  #000000;\n",
       "        }    #T_1f3b9c30_af24_11ea_9268_844bf50ed32drow8_col3 {\n",
       "            background-color:  #fff5f0;\n",
       "            color:  #000000;\n",
       "        }    #T_1f3b9c30_af24_11ea_9268_844bf50ed32drow8_col4 {\n",
       "            background-color:  #fedfd0;\n",
       "            color:  #000000;\n",
       "        }    #T_1f3b9c30_af24_11ea_9268_844bf50ed32drow8_col5 {\n",
       "            background-color:  #fff5f0;\n",
       "            color:  #000000;\n",
       "        }    #T_1f3b9c30_af24_11ea_9268_844bf50ed32drow9_col1 {\n",
       "            background-color:  #feeae1;\n",
       "            color:  #000000;\n",
       "        }    #T_1f3b9c30_af24_11ea_9268_844bf50ed32drow9_col2 {\n",
       "            background-color:  #fee8de;\n",
       "            color:  #000000;\n",
       "        }    #T_1f3b9c30_af24_11ea_9268_844bf50ed32drow9_col3 {\n",
       "            background-color:  #fff2eb;\n",
       "            color:  #000000;\n",
       "        }    #T_1f3b9c30_af24_11ea_9268_844bf50ed32drow9_col4 {\n",
       "            background-color:  #ffece3;\n",
       "            color:  #000000;\n",
       "        }    #T_1f3b9c30_af24_11ea_9268_844bf50ed32drow9_col5 {\n",
       "            background-color:  #fed8c7;\n",
       "            color:  #000000;\n",
       "        }    #T_1f3b9c30_af24_11ea_9268_844bf50ed32drow10_col1 {\n",
       "            background-color:  #feeae0;\n",
       "            color:  #000000;\n",
       "        }    #T_1f3b9c30_af24_11ea_9268_844bf50ed32drow10_col2 {\n",
       "            background-color:  #ffebe2;\n",
       "            color:  #000000;\n",
       "        }    #T_1f3b9c30_af24_11ea_9268_844bf50ed32drow10_col3 {\n",
       "            background-color:  #fff2eb;\n",
       "            color:  #000000;\n",
       "        }    #T_1f3b9c30_af24_11ea_9268_844bf50ed32drow10_col4 {\n",
       "            background-color:  #fee8de;\n",
       "            color:  #000000;\n",
       "        }    #T_1f3b9c30_af24_11ea_9268_844bf50ed32drow10_col5 {\n",
       "            background-color:  #fff5f0;\n",
       "            color:  #000000;\n",
       "        }    #T_1f3b9c30_af24_11ea_9268_844bf50ed32drow11_col1 {\n",
       "            background-color:  #ffebe2;\n",
       "            color:  #000000;\n",
       "        }    #T_1f3b9c30_af24_11ea_9268_844bf50ed32drow11_col2 {\n",
       "            background-color:  #fee8de;\n",
       "            color:  #000000;\n",
       "        }    #T_1f3b9c30_af24_11ea_9268_844bf50ed32drow11_col3 {\n",
       "            background-color:  #fff4ee;\n",
       "            color:  #000000;\n",
       "        }    #T_1f3b9c30_af24_11ea_9268_844bf50ed32drow11_col4 {\n",
       "            background-color:  #ffeee6;\n",
       "            color:  #000000;\n",
       "        }    #T_1f3b9c30_af24_11ea_9268_844bf50ed32drow11_col5 {\n",
       "            background-color:  #fff5f0;\n",
       "            color:  #000000;\n",
       "        }    #T_1f3b9c30_af24_11ea_9268_844bf50ed32drow12_col1 {\n",
       "            background-color:  #ffece3;\n",
       "            color:  #000000;\n",
       "        }    #T_1f3b9c30_af24_11ea_9268_844bf50ed32drow12_col2 {\n",
       "            background-color:  #feeae1;\n",
       "            color:  #000000;\n",
       "        }    #T_1f3b9c30_af24_11ea_9268_844bf50ed32drow12_col3 {\n",
       "            background-color:  #fff2eb;\n",
       "            color:  #000000;\n",
       "        }    #T_1f3b9c30_af24_11ea_9268_844bf50ed32drow12_col4 {\n",
       "            background-color:  #ffece4;\n",
       "            color:  #000000;\n",
       "        }    #T_1f3b9c30_af24_11ea_9268_844bf50ed32drow12_col5 {\n",
       "            background-color:  #fff5f0;\n",
       "            color:  #000000;\n",
       "        }    #T_1f3b9c30_af24_11ea_9268_844bf50ed32drow13_col1 {\n",
       "            background-color:  #ffeee6;\n",
       "            color:  #000000;\n",
       "        }    #T_1f3b9c30_af24_11ea_9268_844bf50ed32drow13_col2 {\n",
       "            background-color:  #ffeee6;\n",
       "            color:  #000000;\n",
       "        }    #T_1f3b9c30_af24_11ea_9268_844bf50ed32drow13_col3 {\n",
       "            background-color:  #fff3ed;\n",
       "            color:  #000000;\n",
       "        }    #T_1f3b9c30_af24_11ea_9268_844bf50ed32drow13_col4 {\n",
       "            background-color:  #ffede5;\n",
       "            color:  #000000;\n",
       "        }    #T_1f3b9c30_af24_11ea_9268_844bf50ed32drow13_col5 {\n",
       "            background-color:  #fff5f0;\n",
       "            color:  #000000;\n",
       "        }    #T_1f3b9c30_af24_11ea_9268_844bf50ed32drow14_col1 {\n",
       "            background-color:  #ffeee6;\n",
       "            color:  #000000;\n",
       "        }    #T_1f3b9c30_af24_11ea_9268_844bf50ed32drow14_col2 {\n",
       "            background-color:  #ffeee6;\n",
       "            color:  #000000;\n",
       "        }    #T_1f3b9c30_af24_11ea_9268_844bf50ed32drow14_col3 {\n",
       "            background-color:  #ffeee6;\n",
       "            color:  #000000;\n",
       "        }    #T_1f3b9c30_af24_11ea_9268_844bf50ed32drow14_col4 {\n",
       "            background-color:  #ffeee6;\n",
       "            color:  #000000;\n",
       "        }    #T_1f3b9c30_af24_11ea_9268_844bf50ed32drow14_col5 {\n",
       "            background-color:  #fff5f0;\n",
       "            color:  #000000;\n",
       "        }    #T_1f3b9c30_af24_11ea_9268_844bf50ed32drow15_col1 {\n",
       "            background-color:  #ffefe8;\n",
       "            color:  #000000;\n",
       "        }    #T_1f3b9c30_af24_11ea_9268_844bf50ed32drow15_col2 {\n",
       "            background-color:  #ffece4;\n",
       "            color:  #000000;\n",
       "        }    #T_1f3b9c30_af24_11ea_9268_844bf50ed32drow15_col3 {\n",
       "            background-color:  #fff5f0;\n",
       "            color:  #000000;\n",
       "        }    #T_1f3b9c30_af24_11ea_9268_844bf50ed32drow15_col4 {\n",
       "            background-color:  #fff2eb;\n",
       "            color:  #000000;\n",
       "        }    #T_1f3b9c30_af24_11ea_9268_844bf50ed32drow15_col5 {\n",
       "            background-color:  #fff5f0;\n",
       "            color:  #000000;\n",
       "        }    #T_1f3b9c30_af24_11ea_9268_844bf50ed32drow16_col1 {\n",
       "            background-color:  #ffefe8;\n",
       "            color:  #000000;\n",
       "        }    #T_1f3b9c30_af24_11ea_9268_844bf50ed32drow16_col2 {\n",
       "            background-color:  #ffefe8;\n",
       "            color:  #000000;\n",
       "        }    #T_1f3b9c30_af24_11ea_9268_844bf50ed32drow16_col3 {\n",
       "            background-color:  #fff5f0;\n",
       "            color:  #000000;\n",
       "        }    #T_1f3b9c30_af24_11ea_9268_844bf50ed32drow16_col4 {\n",
       "            background-color:  #ffeee7;\n",
       "            color:  #000000;\n",
       "        }    #T_1f3b9c30_af24_11ea_9268_844bf50ed32drow16_col5 {\n",
       "            background-color:  #fcc1a8;\n",
       "            color:  #000000;\n",
       "        }    #T_1f3b9c30_af24_11ea_9268_844bf50ed32drow17_col1 {\n",
       "            background-color:  #fff0e9;\n",
       "            color:  #000000;\n",
       "        }    #T_1f3b9c30_af24_11ea_9268_844bf50ed32drow17_col2 {\n",
       "            background-color:  #ffeee6;\n",
       "            color:  #000000;\n",
       "        }    #T_1f3b9c30_af24_11ea_9268_844bf50ed32drow17_col3 {\n",
       "            background-color:  #fff2ec;\n",
       "            color:  #000000;\n",
       "        }    #T_1f3b9c30_af24_11ea_9268_844bf50ed32drow17_col4 {\n",
       "            background-color:  #fff3ed;\n",
       "            color:  #000000;\n",
       "        }    #T_1f3b9c30_af24_11ea_9268_844bf50ed32drow17_col5 {\n",
       "            background-color:  #fff5f0;\n",
       "            color:  #000000;\n",
       "        }    #T_1f3b9c30_af24_11ea_9268_844bf50ed32drow18_col1 {\n",
       "            background-color:  #fff2eb;\n",
       "            color:  #000000;\n",
       "        }    #T_1f3b9c30_af24_11ea_9268_844bf50ed32drow18_col2 {\n",
       "            background-color:  #fff2eb;\n",
       "            color:  #000000;\n",
       "        }    #T_1f3b9c30_af24_11ea_9268_844bf50ed32drow18_col3 {\n",
       "            background-color:  #fff4ef;\n",
       "            color:  #000000;\n",
       "        }    #T_1f3b9c30_af24_11ea_9268_844bf50ed32drow18_col4 {\n",
       "            background-color:  #fff1ea;\n",
       "            color:  #000000;\n",
       "        }    #T_1f3b9c30_af24_11ea_9268_844bf50ed32drow18_col5 {\n",
       "            background-color:  #fee8de;\n",
       "            color:  #000000;\n",
       "        }    #T_1f3b9c30_af24_11ea_9268_844bf50ed32drow19_col1 {\n",
       "            background-color:  #fff2ec;\n",
       "            color:  #000000;\n",
       "        }    #T_1f3b9c30_af24_11ea_9268_844bf50ed32drow19_col2 {\n",
       "            background-color:  #fff2eb;\n",
       "            color:  #000000;\n",
       "        }    #T_1f3b9c30_af24_11ea_9268_844bf50ed32drow19_col3 {\n",
       "            background-color:  #fff4ef;\n",
       "            color:  #000000;\n",
       "        }    #T_1f3b9c30_af24_11ea_9268_844bf50ed32drow19_col4 {\n",
       "            background-color:  #fff3ed;\n",
       "            color:  #000000;\n",
       "        }    #T_1f3b9c30_af24_11ea_9268_844bf50ed32drow19_col5 {\n",
       "            background-color:  #db2824;\n",
       "            color:  #f1f1f1;\n",
       "        }    #T_1f3b9c30_af24_11ea_9268_844bf50ed32drow20_col1 {\n",
       "            background-color:  #fff2ec;\n",
       "            color:  #000000;\n",
       "        }    #T_1f3b9c30_af24_11ea_9268_844bf50ed32drow20_col2 {\n",
       "            background-color:  #fff2ec;\n",
       "            color:  #000000;\n",
       "        }    #T_1f3b9c30_af24_11ea_9268_844bf50ed32drow20_col3 {\n",
       "            background-color:  #fff5f0;\n",
       "            color:  #000000;\n",
       "        }    #T_1f3b9c30_af24_11ea_9268_844bf50ed32drow20_col4 {\n",
       "            background-color:  #fff2ec;\n",
       "            color:  #000000;\n",
       "        }    #T_1f3b9c30_af24_11ea_9268_844bf50ed32drow20_col5 {\n",
       "            background-color:  #fff5f0;\n",
       "            color:  #000000;\n",
       "        }    #T_1f3b9c30_af24_11ea_9268_844bf50ed32drow21_col1 {\n",
       "            background-color:  #fff3ed;\n",
       "            color:  #000000;\n",
       "        }    #T_1f3b9c30_af24_11ea_9268_844bf50ed32drow21_col2 {\n",
       "            background-color:  #fff3ed;\n",
       "            color:  #000000;\n",
       "        }    #T_1f3b9c30_af24_11ea_9268_844bf50ed32drow21_col3 {\n",
       "            background-color:  #fff5f0;\n",
       "            color:  #000000;\n",
       "        }    #T_1f3b9c30_af24_11ea_9268_844bf50ed32drow21_col4 {\n",
       "            background-color:  #fff2ec;\n",
       "            color:  #000000;\n",
       "        }    #T_1f3b9c30_af24_11ea_9268_844bf50ed32drow21_col5 {\n",
       "            background-color:  #fff5f0;\n",
       "            color:  #000000;\n",
       "        }    #T_1f3b9c30_af24_11ea_9268_844bf50ed32drow22_col1 {\n",
       "            background-color:  #fff4ee;\n",
       "            color:  #000000;\n",
       "        }    #T_1f3b9c30_af24_11ea_9268_844bf50ed32drow22_col2 {\n",
       "            background-color:  #fff4ee;\n",
       "            color:  #000000;\n",
       "        }    #T_1f3b9c30_af24_11ea_9268_844bf50ed32drow22_col3 {\n",
       "            background-color:  #fff5f0;\n",
       "            color:  #000000;\n",
       "        }    #T_1f3b9c30_af24_11ea_9268_844bf50ed32drow22_col4 {\n",
       "            background-color:  #fff3ed;\n",
       "            color:  #000000;\n",
       "        }    #T_1f3b9c30_af24_11ea_9268_844bf50ed32drow22_col5 {\n",
       "            background-color:  #fff5f0;\n",
       "            color:  #000000;\n",
       "        }    #T_1f3b9c30_af24_11ea_9268_844bf50ed32drow23_col1 {\n",
       "            background-color:  #fff4ef;\n",
       "            color:  #000000;\n",
       "        }    #T_1f3b9c30_af24_11ea_9268_844bf50ed32drow23_col2 {\n",
       "            background-color:  #fff4ef;\n",
       "            color:  #000000;\n",
       "        }    #T_1f3b9c30_af24_11ea_9268_844bf50ed32drow23_col3 {\n",
       "            background-color:  #fff5f0;\n",
       "            color:  #000000;\n",
       "        }    #T_1f3b9c30_af24_11ea_9268_844bf50ed32drow23_col4 {\n",
       "            background-color:  #fff5f0;\n",
       "            color:  #000000;\n",
       "        }    #T_1f3b9c30_af24_11ea_9268_844bf50ed32drow23_col5 {\n",
       "            background-color:  #ad1117;\n",
       "            color:  #f1f1f1;\n",
       "        }    #T_1f3b9c30_af24_11ea_9268_844bf50ed32drow24_col1 {\n",
       "            background-color:  #fff4ef;\n",
       "            color:  #000000;\n",
       "        }    #T_1f3b9c30_af24_11ea_9268_844bf50ed32drow24_col2 {\n",
       "            background-color:  #fff5f0;\n",
       "            color:  #000000;\n",
       "        }    #T_1f3b9c30_af24_11ea_9268_844bf50ed32drow24_col3 {\n",
       "            background-color:  #fff5f0;\n",
       "            color:  #000000;\n",
       "        }    #T_1f3b9c30_af24_11ea_9268_844bf50ed32drow24_col4 {\n",
       "            background-color:  #fff4ee;\n",
       "            color:  #000000;\n",
       "        }    #T_1f3b9c30_af24_11ea_9268_844bf50ed32drow24_col5 {\n",
       "            background-color:  #fff5f0;\n",
       "            color:  #000000;\n",
       "        }    #T_1f3b9c30_af24_11ea_9268_844bf50ed32drow25_col1 {\n",
       "            background-color:  #fff4ef;\n",
       "            color:  #000000;\n",
       "        }    #T_1f3b9c30_af24_11ea_9268_844bf50ed32drow25_col2 {\n",
       "            background-color:  #fff5f0;\n",
       "            color:  #000000;\n",
       "        }    #T_1f3b9c30_af24_11ea_9268_844bf50ed32drow25_col3 {\n",
       "            background-color:  #fff5f0;\n",
       "            color:  #000000;\n",
       "        }    #T_1f3b9c30_af24_11ea_9268_844bf50ed32drow25_col4 {\n",
       "            background-color:  #fff4ef;\n",
       "            color:  #000000;\n",
       "        }    #T_1f3b9c30_af24_11ea_9268_844bf50ed32drow25_col5 {\n",
       "            background-color:  #fff5f0;\n",
       "            color:  #000000;\n",
       "        }    #T_1f3b9c30_af24_11ea_9268_844bf50ed32drow26_col1 {\n",
       "            background-color:  #fff5f0;\n",
       "            color:  #000000;\n",
       "        }    #T_1f3b9c30_af24_11ea_9268_844bf50ed32drow26_col2 {\n",
       "            background-color:  #fff4ef;\n",
       "            color:  #000000;\n",
       "        }    #T_1f3b9c30_af24_11ea_9268_844bf50ed32drow26_col3 {\n",
       "            background-color:  #fff5f0;\n",
       "            color:  #000000;\n",
       "        }    #T_1f3b9c30_af24_11ea_9268_844bf50ed32drow26_col4 {\n",
       "            background-color:  #fff5f0;\n",
       "            color:  #000000;\n",
       "        }    #T_1f3b9c30_af24_11ea_9268_844bf50ed32drow26_col5 {\n",
       "            background-color:  #fff5f0;\n",
       "            color:  #000000;\n",
       "        }    #T_1f3b9c30_af24_11ea_9268_844bf50ed32drow27_col1 {\n",
       "            background-color:  #fff5f0;\n",
       "            color:  #000000;\n",
       "        }    #T_1f3b9c30_af24_11ea_9268_844bf50ed32drow27_col2 {\n",
       "            background-color:  #fff5f0;\n",
       "            color:  #000000;\n",
       "        }    #T_1f3b9c30_af24_11ea_9268_844bf50ed32drow27_col3 {\n",
       "            background-color:  #fff5f0;\n",
       "            color:  #000000;\n",
       "        }    #T_1f3b9c30_af24_11ea_9268_844bf50ed32drow27_col4 {\n",
       "            background-color:  #fff5f0;\n",
       "            color:  #000000;\n",
       "        }    #T_1f3b9c30_af24_11ea_9268_844bf50ed32drow27_col5 {\n",
       "            background-color:  #fff5f0;\n",
       "            color:  #000000;\n",
       "        }    #T_1f3b9c30_af24_11ea_9268_844bf50ed32drow28_col1 {\n",
       "            background-color:  #fff4ef;\n",
       "            color:  #000000;\n",
       "        }    #T_1f3b9c30_af24_11ea_9268_844bf50ed32drow28_col2 {\n",
       "            background-color:  #fff5f0;\n",
       "            color:  #000000;\n",
       "        }    #T_1f3b9c30_af24_11ea_9268_844bf50ed32drow28_col3 {\n",
       "            background-color:  #fff5f0;\n",
       "            color:  #000000;\n",
       "        }    #T_1f3b9c30_af24_11ea_9268_844bf50ed32drow28_col4 {\n",
       "            background-color:  #fff4ee;\n",
       "            color:  #000000;\n",
       "        }    #T_1f3b9c30_af24_11ea_9268_844bf50ed32drow28_col5 {\n",
       "            background-color:  #fff5f0;\n",
       "            color:  #000000;\n",
       "        }    #T_1f3b9c30_af24_11ea_9268_844bf50ed32drow29_col1 {\n",
       "            background-color:  #fff5f0;\n",
       "            color:  #000000;\n",
       "        }    #T_1f3b9c30_af24_11ea_9268_844bf50ed32drow29_col2 {\n",
       "            background-color:  #fff5f0;\n",
       "            color:  #000000;\n",
       "        }    #T_1f3b9c30_af24_11ea_9268_844bf50ed32drow29_col3 {\n",
       "            background-color:  #fff5f0;\n",
       "            color:  #000000;\n",
       "        }    #T_1f3b9c30_af24_11ea_9268_844bf50ed32drow29_col4 {\n",
       "            background-color:  #fff5f0;\n",
       "            color:  #000000;\n",
       "        }    #T_1f3b9c30_af24_11ea_9268_844bf50ed32drow29_col5 {\n",
       "            background-color:  #fff5f0;\n",
       "            color:  #000000;\n",
       "        }    #T_1f3b9c30_af24_11ea_9268_844bf50ed32drow30_col1 {\n",
       "            background-color:  #fff5f0;\n",
       "            color:  #000000;\n",
       "        }    #T_1f3b9c30_af24_11ea_9268_844bf50ed32drow30_col2 {\n",
       "            background-color:  #fff5f0;\n",
       "            color:  #000000;\n",
       "        }    #T_1f3b9c30_af24_11ea_9268_844bf50ed32drow30_col3 {\n",
       "            background-color:  #fff5f0;\n",
       "            color:  #000000;\n",
       "        }    #T_1f3b9c30_af24_11ea_9268_844bf50ed32drow30_col4 {\n",
       "            background-color:  #fff5f0;\n",
       "            color:  #000000;\n",
       "        }    #T_1f3b9c30_af24_11ea_9268_844bf50ed32drow30_col5 {\n",
       "            background-color:  #fff5f0;\n",
       "            color:  #000000;\n",
       "        }    #T_1f3b9c30_af24_11ea_9268_844bf50ed32drow31_col1 {\n",
       "            background-color:  #fff5f0;\n",
       "            color:  #000000;\n",
       "        }    #T_1f3b9c30_af24_11ea_9268_844bf50ed32drow31_col2 {\n",
       "            background-color:  #fff5f0;\n",
       "            color:  #000000;\n",
       "        }    #T_1f3b9c30_af24_11ea_9268_844bf50ed32drow31_col3 {\n",
       "            background-color:  #fff5f0;\n",
       "            color:  #000000;\n",
       "        }    #T_1f3b9c30_af24_11ea_9268_844bf50ed32drow31_col4 {\n",
       "            background-color:  #fff5f0;\n",
       "            color:  #000000;\n",
       "        }    #T_1f3b9c30_af24_11ea_9268_844bf50ed32drow31_col5 {\n",
       "            background-color:  #fff5f0;\n",
       "            color:  #000000;\n",
       "        }    #T_1f3b9c30_af24_11ea_9268_844bf50ed32drow32_col1 {\n",
       "            background-color:  #fff5f0;\n",
       "            color:  #000000;\n",
       "        }    #T_1f3b9c30_af24_11ea_9268_844bf50ed32drow32_col2 {\n",
       "            background-color:  #fff5f0;\n",
       "            color:  #000000;\n",
       "        }    #T_1f3b9c30_af24_11ea_9268_844bf50ed32drow32_col3 {\n",
       "            background-color:  #fff5f0;\n",
       "            color:  #000000;\n",
       "        }    #T_1f3b9c30_af24_11ea_9268_844bf50ed32drow32_col4 {\n",
       "            background-color:  #fff5f0;\n",
       "            color:  #000000;\n",
       "        }    #T_1f3b9c30_af24_11ea_9268_844bf50ed32drow32_col5 {\n",
       "            background-color:  #fff5f0;\n",
       "            color:  #000000;\n",
       "        }    #T_1f3b9c30_af24_11ea_9268_844bf50ed32drow33_col1 {\n",
       "            background-color:  #fff5f0;\n",
       "            color:  #000000;\n",
       "        }    #T_1f3b9c30_af24_11ea_9268_844bf50ed32drow33_col2 {\n",
       "            background-color:  #fff5f0;\n",
       "            color:  #000000;\n",
       "        }    #T_1f3b9c30_af24_11ea_9268_844bf50ed32drow33_col3 {\n",
       "            background-color:  #fff5f0;\n",
       "            color:  #000000;\n",
       "        }    #T_1f3b9c30_af24_11ea_9268_844bf50ed32drow33_col4 {\n",
       "            background-color:  #fff5f0;\n",
       "            color:  #000000;\n",
       "        }    #T_1f3b9c30_af24_11ea_9268_844bf50ed32drow33_col5 {\n",
       "            background-color:  #fff5f0;\n",
       "            color:  #000000;\n",
       "        }    #T_1f3b9c30_af24_11ea_9268_844bf50ed32drow34_col1 {\n",
       "            background-color:  #fff5f0;\n",
       "            color:  #000000;\n",
       "        }    #T_1f3b9c30_af24_11ea_9268_844bf50ed32drow34_col2 {\n",
       "            background-color:  #fff5f0;\n",
       "            color:  #000000;\n",
       "        }    #T_1f3b9c30_af24_11ea_9268_844bf50ed32drow34_col3 {\n",
       "            background-color:  #fff5f0;\n",
       "            color:  #000000;\n",
       "        }    #T_1f3b9c30_af24_11ea_9268_844bf50ed32drow34_col4 {\n",
       "            background-color:  #fff5f0;\n",
       "            color:  #000000;\n",
       "        }    #T_1f3b9c30_af24_11ea_9268_844bf50ed32drow34_col5 {\n",
       "            background-color:  #fff5f0;\n",
       "            color:  #000000;\n",
       "        }    #T_1f3b9c30_af24_11ea_9268_844bf50ed32drow35_col1 {\n",
       "            background-color:  #fff5f0;\n",
       "            color:  #000000;\n",
       "        }    #T_1f3b9c30_af24_11ea_9268_844bf50ed32drow35_col2 {\n",
       "            background-color:  #fff5f0;\n",
       "            color:  #000000;\n",
       "        }    #T_1f3b9c30_af24_11ea_9268_844bf50ed32drow35_col3 {\n",
       "            background-color:  #fff5f0;\n",
       "            color:  #000000;\n",
       "        }    #T_1f3b9c30_af24_11ea_9268_844bf50ed32drow35_col4 {\n",
       "            background-color:  #fff5f0;\n",
       "            color:  #000000;\n",
       "        }    #T_1f3b9c30_af24_11ea_9268_844bf50ed32drow35_col5 {\n",
       "            background-color:  #fff5f0;\n",
       "            color:  #000000;\n",
       "        }    #T_1f3b9c30_af24_11ea_9268_844bf50ed32drow36_col1 {\n",
       "            background-color:  #fff5f0;\n",
       "            color:  #000000;\n",
       "        }    #T_1f3b9c30_af24_11ea_9268_844bf50ed32drow36_col2 {\n",
       "            background-color:  #fff5f0;\n",
       "            color:  #000000;\n",
       "        }    #T_1f3b9c30_af24_11ea_9268_844bf50ed32drow36_col3 {\n",
       "            background-color:  #fff5f0;\n",
       "            color:  #000000;\n",
       "        }    #T_1f3b9c30_af24_11ea_9268_844bf50ed32drow36_col4 {\n",
       "            background-color:  #fff5f0;\n",
       "            color:  #000000;\n",
       "        }    #T_1f3b9c30_af24_11ea_9268_844bf50ed32drow36_col5 {\n",
       "            background-color:  #fff5f0;\n",
       "            color:  #000000;\n",
       "        }</style><table id=\"T_1f3b9c30_af24_11ea_9268_844bf50ed32d\" ><thead>    <tr>        <th class=\"blank level0\" ></th>        <th class=\"col_heading level0 col0\" >State</th>        <th class=\"col_heading level0 col1\" >Confirmed</th>        <th class=\"col_heading level0 col2\" >Recovered</th>        <th class=\"col_heading level0 col3\" >Deaths</th>        <th class=\"col_heading level0 col4\" >Active</th>        <th class=\"col_heading level0 col5\" >Migrated_Other</th>        <th class=\"col_heading level0 col6\" >State_code</th>    </tr></thead><tbody>\n",
       "                <tr>\n",
       "                        <th id=\"T_1f3b9c30_af24_11ea_9268_844bf50ed32dlevel0_row0\" class=\"row_heading level0 row0\" >1</th>\n",
       "                        <td id=\"T_1f3b9c30_af24_11ea_9268_844bf50ed32drow0_col0\" class=\"data row0 col0\" >Maharashtra</td>\n",
       "                        <td id=\"T_1f3b9c30_af24_11ea_9268_844bf50ed32drow0_col1\" class=\"data row0 col1\" >107958</td>\n",
       "                        <td id=\"T_1f3b9c30_af24_11ea_9268_844bf50ed32drow0_col2\" class=\"data row0 col2\" >50978</td>\n",
       "                        <td id=\"T_1f3b9c30_af24_11ea_9268_844bf50ed32drow0_col3\" class=\"data row0 col3\" >3950</td>\n",
       "                        <td id=\"T_1f3b9c30_af24_11ea_9268_844bf50ed32drow0_col4\" class=\"data row0 col4\" >53017</td>\n",
       "                        <td id=\"T_1f3b9c30_af24_11ea_9268_844bf50ed32drow0_col5\" class=\"data row0 col5\" >13</td>\n",
       "                        <td id=\"T_1f3b9c30_af24_11ea_9268_844bf50ed32drow0_col6\" class=\"data row0 col6\" >MH</td>\n",
       "            </tr>\n",
       "            <tr>\n",
       "                        <th id=\"T_1f3b9c30_af24_11ea_9268_844bf50ed32dlevel0_row1\" class=\"row_heading level0 row1\" >2</th>\n",
       "                        <td id=\"T_1f3b9c30_af24_11ea_9268_844bf50ed32drow1_col0\" class=\"data row1 col0\" >Tamil Nadu</td>\n",
       "                        <td id=\"T_1f3b9c30_af24_11ea_9268_844bf50ed32drow1_col1\" class=\"data row1 col1\" >44661</td>\n",
       "                        <td id=\"T_1f3b9c30_af24_11ea_9268_844bf50ed32drow1_col2\" class=\"data row1 col2\" >24547</td>\n",
       "                        <td id=\"T_1f3b9c30_af24_11ea_9268_844bf50ed32drow1_col3\" class=\"data row1 col3\" >435</td>\n",
       "                        <td id=\"T_1f3b9c30_af24_11ea_9268_844bf50ed32drow1_col4\" class=\"data row1 col4\" >19679</td>\n",
       "                        <td id=\"T_1f3b9c30_af24_11ea_9268_844bf50ed32drow1_col5\" class=\"data row1 col5\" >0</td>\n",
       "                        <td id=\"T_1f3b9c30_af24_11ea_9268_844bf50ed32drow1_col6\" class=\"data row1 col6\" >TN</td>\n",
       "            </tr>\n",
       "            <tr>\n",
       "                        <th id=\"T_1f3b9c30_af24_11ea_9268_844bf50ed32dlevel0_row2\" class=\"row_heading level0 row2\" >3</th>\n",
       "                        <td id=\"T_1f3b9c30_af24_11ea_9268_844bf50ed32drow2_col0\" class=\"data row2 col0\" >Delhi</td>\n",
       "                        <td id=\"T_1f3b9c30_af24_11ea_9268_844bf50ed32drow2_col1\" class=\"data row2 col1\" >41182</td>\n",
       "                        <td id=\"T_1f3b9c30_af24_11ea_9268_844bf50ed32drow2_col2\" class=\"data row2 col2\" >15823</td>\n",
       "                        <td id=\"T_1f3b9c30_af24_11ea_9268_844bf50ed32drow2_col3\" class=\"data row2 col3\" >1327</td>\n",
       "                        <td id=\"T_1f3b9c30_af24_11ea_9268_844bf50ed32drow2_col4\" class=\"data row2 col4\" >24032</td>\n",
       "                        <td id=\"T_1f3b9c30_af24_11ea_9268_844bf50ed32drow2_col5\" class=\"data row2 col5\" >0</td>\n",
       "                        <td id=\"T_1f3b9c30_af24_11ea_9268_844bf50ed32drow2_col6\" class=\"data row2 col6\" >DL</td>\n",
       "            </tr>\n",
       "            <tr>\n",
       "                        <th id=\"T_1f3b9c30_af24_11ea_9268_844bf50ed32dlevel0_row3\" class=\"row_heading level0 row3\" >4</th>\n",
       "                        <td id=\"T_1f3b9c30_af24_11ea_9268_844bf50ed32drow3_col0\" class=\"data row3 col0\" >Gujarat</td>\n",
       "                        <td id=\"T_1f3b9c30_af24_11ea_9268_844bf50ed32drow3_col1\" class=\"data row3 col1\" >23590</td>\n",
       "                        <td id=\"T_1f3b9c30_af24_11ea_9268_844bf50ed32drow3_col2\" class=\"data row3 col2\" >16333</td>\n",
       "                        <td id=\"T_1f3b9c30_af24_11ea_9268_844bf50ed32drow3_col3\" class=\"data row3 col3\" >1478</td>\n",
       "                        <td id=\"T_1f3b9c30_af24_11ea_9268_844bf50ed32drow3_col4\" class=\"data row3 col4\" >5779</td>\n",
       "                        <td id=\"T_1f3b9c30_af24_11ea_9268_844bf50ed32drow3_col5\" class=\"data row3 col5\" >0</td>\n",
       "                        <td id=\"T_1f3b9c30_af24_11ea_9268_844bf50ed32drow3_col6\" class=\"data row3 col6\" >GJ</td>\n",
       "            </tr>\n",
       "            <tr>\n",
       "                        <th id=\"T_1f3b9c30_af24_11ea_9268_844bf50ed32dlevel0_row4\" class=\"row_heading level0 row4\" >5</th>\n",
       "                        <td id=\"T_1f3b9c30_af24_11ea_9268_844bf50ed32drow4_col0\" class=\"data row4 col0\" >Uttar Pradesh</td>\n",
       "                        <td id=\"T_1f3b9c30_af24_11ea_9268_844bf50ed32drow4_col1\" class=\"data row4 col1\" >13615</td>\n",
       "                        <td id=\"T_1f3b9c30_af24_11ea_9268_844bf50ed32drow4_col2\" class=\"data row4 col2\" >8268</td>\n",
       "                        <td id=\"T_1f3b9c30_af24_11ea_9268_844bf50ed32drow4_col3\" class=\"data row4 col3\" >399</td>\n",
       "                        <td id=\"T_1f3b9c30_af24_11ea_9268_844bf50ed32drow4_col4\" class=\"data row4 col4\" >4948</td>\n",
       "                        <td id=\"T_1f3b9c30_af24_11ea_9268_844bf50ed32drow4_col5\" class=\"data row4 col5\" >0</td>\n",
       "                        <td id=\"T_1f3b9c30_af24_11ea_9268_844bf50ed32drow4_col6\" class=\"data row4 col6\" >UP</td>\n",
       "            </tr>\n",
       "            <tr>\n",
       "                        <th id=\"T_1f3b9c30_af24_11ea_9268_844bf50ed32dlevel0_row5\" class=\"row_heading level0 row5\" >6</th>\n",
       "                        <td id=\"T_1f3b9c30_af24_11ea_9268_844bf50ed32drow5_col0\" class=\"data row5 col0\" >Rajasthan</td>\n",
       "                        <td id=\"T_1f3b9c30_af24_11ea_9268_844bf50ed32drow5_col1\" class=\"data row5 col1\" >12694</td>\n",
       "                        <td id=\"T_1f3b9c30_af24_11ea_9268_844bf50ed32drow5_col2\" class=\"data row5 col2\" >9566</td>\n",
       "                        <td id=\"T_1f3b9c30_af24_11ea_9268_844bf50ed32drow5_col3\" class=\"data row5 col3\" >292</td>\n",
       "                        <td id=\"T_1f3b9c30_af24_11ea_9268_844bf50ed32drow5_col4\" class=\"data row5 col4\" >2836</td>\n",
       "                        <td id=\"T_1f3b9c30_af24_11ea_9268_844bf50ed32drow5_col5\" class=\"data row5 col5\" >0</td>\n",
       "                        <td id=\"T_1f3b9c30_af24_11ea_9268_844bf50ed32drow5_col6\" class=\"data row5 col6\" >RJ</td>\n",
       "            </tr>\n",
       "            <tr>\n",
       "                        <th id=\"T_1f3b9c30_af24_11ea_9268_844bf50ed32dlevel0_row6\" class=\"row_heading level0 row6\" >7</th>\n",
       "                        <td id=\"T_1f3b9c30_af24_11ea_9268_844bf50ed32drow6_col0\" class=\"data row6 col0\" >Madhya Pradesh</td>\n",
       "                        <td id=\"T_1f3b9c30_af24_11ea_9268_844bf50ed32drow6_col1\" class=\"data row6 col1\" >10802</td>\n",
       "                        <td id=\"T_1f3b9c30_af24_11ea_9268_844bf50ed32drow6_col2\" class=\"data row6 col2\" >7677</td>\n",
       "                        <td id=\"T_1f3b9c30_af24_11ea_9268_844bf50ed32drow6_col3\" class=\"data row6 col3\" >459</td>\n",
       "                        <td id=\"T_1f3b9c30_af24_11ea_9268_844bf50ed32drow6_col4\" class=\"data row6 col4\" >2666</td>\n",
       "                        <td id=\"T_1f3b9c30_af24_11ea_9268_844bf50ed32drow6_col5\" class=\"data row6 col5\" >0</td>\n",
       "                        <td id=\"T_1f3b9c30_af24_11ea_9268_844bf50ed32drow6_col6\" class=\"data row6 col6\" >MP</td>\n",
       "            </tr>\n",
       "            <tr>\n",
       "                        <th id=\"T_1f3b9c30_af24_11ea_9268_844bf50ed32dlevel0_row7\" class=\"row_heading level0 row7\" >8</th>\n",
       "                        <td id=\"T_1f3b9c30_af24_11ea_9268_844bf50ed32drow7_col0\" class=\"data row7 col0\" >West Bengal</td>\n",
       "                        <td id=\"T_1f3b9c30_af24_11ea_9268_844bf50ed32drow7_col1\" class=\"data row7 col1\" >11087</td>\n",
       "                        <td id=\"T_1f3b9c30_af24_11ea_9268_844bf50ed32drow7_col2\" class=\"data row7 col2\" >5060</td>\n",
       "                        <td id=\"T_1f3b9c30_af24_11ea_9268_844bf50ed32drow7_col3\" class=\"data row7 col3\" >475</td>\n",
       "                        <td id=\"T_1f3b9c30_af24_11ea_9268_844bf50ed32drow7_col4\" class=\"data row7 col4\" >5552</td>\n",
       "                        <td id=\"T_1f3b9c30_af24_11ea_9268_844bf50ed32drow7_col5\" class=\"data row7 col5\" >0</td>\n",
       "                        <td id=\"T_1f3b9c30_af24_11ea_9268_844bf50ed32drow7_col6\" class=\"data row7 col6\" >WB</td>\n",
       "            </tr>\n",
       "            <tr>\n",
       "                        <th id=\"T_1f3b9c30_af24_11ea_9268_844bf50ed32dlevel0_row8\" class=\"row_heading level0 row8\" >9</th>\n",
       "                        <td id=\"T_1f3b9c30_af24_11ea_9268_844bf50ed32drow8_col0\" class=\"data row8 col0\" >State Unassigned</td>\n",
       "                        <td id=\"T_1f3b9c30_af24_11ea_9268_844bf50ed32drow8_col1\" class=\"data row8 col1\" >6972</td>\n",
       "                        <td id=\"T_1f3b9c30_af24_11ea_9268_844bf50ed32drow8_col2\" class=\"data row8 col2\" >0</td>\n",
       "                        <td id=\"T_1f3b9c30_af24_11ea_9268_844bf50ed32drow8_col3\" class=\"data row8 col3\" >0</td>\n",
       "                        <td id=\"T_1f3b9c30_af24_11ea_9268_844bf50ed32drow8_col4\" class=\"data row8 col4\" >6972</td>\n",
       "                        <td id=\"T_1f3b9c30_af24_11ea_9268_844bf50ed32drow8_col5\" class=\"data row8 col5\" >0</td>\n",
       "                        <td id=\"T_1f3b9c30_af24_11ea_9268_844bf50ed32drow8_col6\" class=\"data row8 col6\" >UN</td>\n",
       "            </tr>\n",
       "            <tr>\n",
       "                        <th id=\"T_1f3b9c30_af24_11ea_9268_844bf50ed32dlevel0_row9\" class=\"row_heading level0 row9\" >10</th>\n",
       "                        <td id=\"T_1f3b9c30_af24_11ea_9268_844bf50ed32drow9_col0\" class=\"data row9 col0\" >Karnataka</td>\n",
       "                        <td id=\"T_1f3b9c30_af24_11ea_9268_844bf50ed32drow9_col1\" class=\"data row9 col1\" >7000</td>\n",
       "                        <td id=\"T_1f3b9c30_af24_11ea_9268_844bf50ed32drow9_col2\" class=\"data row9 col2\" >3960</td>\n",
       "                        <td id=\"T_1f3b9c30_af24_11ea_9268_844bf50ed32drow9_col3\" class=\"data row9 col3\" >87</td>\n",
       "                        <td id=\"T_1f3b9c30_af24_11ea_9268_844bf50ed32drow9_col4\" class=\"data row9 col4\" >2951</td>\n",
       "                        <td id=\"T_1f3b9c30_af24_11ea_9268_844bf50ed32drow9_col5\" class=\"data row9 col5\" >2</td>\n",
       "                        <td id=\"T_1f3b9c30_af24_11ea_9268_844bf50ed32drow9_col6\" class=\"data row9 col6\" >KA</td>\n",
       "            </tr>\n",
       "            <tr>\n",
       "                        <th id=\"T_1f3b9c30_af24_11ea_9268_844bf50ed32dlevel0_row10\" class=\"row_heading level0 row10\" >11</th>\n",
       "                        <td id=\"T_1f3b9c30_af24_11ea_9268_844bf50ed32drow10_col0\" class=\"data row10 col0\" >Haryana</td>\n",
       "                        <td id=\"T_1f3b9c30_af24_11ea_9268_844bf50ed32drow10_col1\" class=\"data row10 col1\" >7208</td>\n",
       "                        <td id=\"T_1f3b9c30_af24_11ea_9268_844bf50ed32drow10_col2\" class=\"data row10 col2\" >3003</td>\n",
       "                        <td id=\"T_1f3b9c30_af24_11ea_9268_844bf50ed32drow10_col3\" class=\"data row10 col3\" >88</td>\n",
       "                        <td id=\"T_1f3b9c30_af24_11ea_9268_844bf50ed32drow10_col4\" class=\"data row10 col4\" >4117</td>\n",
       "                        <td id=\"T_1f3b9c30_af24_11ea_9268_844bf50ed32drow10_col5\" class=\"data row10 col5\" >0</td>\n",
       "                        <td id=\"T_1f3b9c30_af24_11ea_9268_844bf50ed32drow10_col6\" class=\"data row10 col6\" >HR</td>\n",
       "            </tr>\n",
       "            <tr>\n",
       "                        <th id=\"T_1f3b9c30_af24_11ea_9268_844bf50ed32dlevel0_row11\" class=\"row_heading level0 row11\" >12</th>\n",
       "                        <td id=\"T_1f3b9c30_af24_11ea_9268_844bf50ed32drow11_col0\" class=\"data row11 col0\" >Bihar</td>\n",
       "                        <td id=\"T_1f3b9c30_af24_11ea_9268_844bf50ed32drow11_col1\" class=\"data row11 col1\" >6475</td>\n",
       "                        <td id=\"T_1f3b9c30_af24_11ea_9268_844bf50ed32drow11_col2\" class=\"data row11 col2\" >3975</td>\n",
       "                        <td id=\"T_1f3b9c30_af24_11ea_9268_844bf50ed32drow11_col3\" class=\"data row11 col3\" >36</td>\n",
       "                        <td id=\"T_1f3b9c30_af24_11ea_9268_844bf50ed32drow11_col4\" class=\"data row11 col4\" >2464</td>\n",
       "                        <td id=\"T_1f3b9c30_af24_11ea_9268_844bf50ed32drow11_col5\" class=\"data row11 col5\" >0</td>\n",
       "                        <td id=\"T_1f3b9c30_af24_11ea_9268_844bf50ed32drow11_col6\" class=\"data row11 col6\" >BR</td>\n",
       "            </tr>\n",
       "            <tr>\n",
       "                        <th id=\"T_1f3b9c30_af24_11ea_9268_844bf50ed32dlevel0_row12\" class=\"row_heading level0 row12\" >13</th>\n",
       "                        <td id=\"T_1f3b9c30_af24_11ea_9268_844bf50ed32drow12_col0\" class=\"data row12 col0\" >Andhra Pradesh</td>\n",
       "                        <td id=\"T_1f3b9c30_af24_11ea_9268_844bf50ed32drow12_col1\" class=\"data row12 col1\" >6152</td>\n",
       "                        <td id=\"T_1f3b9c30_af24_11ea_9268_844bf50ed32drow12_col2\" class=\"data row12 col2\" >3316</td>\n",
       "                        <td id=\"T_1f3b9c30_af24_11ea_9268_844bf50ed32drow12_col3\" class=\"data row12 col3\" >84</td>\n",
       "                        <td id=\"T_1f3b9c30_af24_11ea_9268_844bf50ed32drow12_col4\" class=\"data row12 col4\" >2752</td>\n",
       "                        <td id=\"T_1f3b9c30_af24_11ea_9268_844bf50ed32drow12_col5\" class=\"data row12 col5\" >0</td>\n",
       "                        <td id=\"T_1f3b9c30_af24_11ea_9268_844bf50ed32drow12_col6\" class=\"data row12 col6\" >AP</td>\n",
       "            </tr>\n",
       "            <tr>\n",
       "                        <th id=\"T_1f3b9c30_af24_11ea_9268_844bf50ed32dlevel0_row13\" class=\"row_heading level0 row13\" >14</th>\n",
       "                        <td id=\"T_1f3b9c30_af24_11ea_9268_844bf50ed32drow13_col0\" class=\"data row13 col0\" >Jammu and Kashmir</td>\n",
       "                        <td id=\"T_1f3b9c30_af24_11ea_9268_844bf50ed32drow13_col1\" class=\"data row13 col1\" >5041</td>\n",
       "                        <td id=\"T_1f3b9c30_af24_11ea_9268_844bf50ed32drow13_col2\" class=\"data row13 col2\" >2389</td>\n",
       "                        <td id=\"T_1f3b9c30_af24_11ea_9268_844bf50ed32drow13_col3\" class=\"data row13 col3\" >59</td>\n",
       "                        <td id=\"T_1f3b9c30_af24_11ea_9268_844bf50ed32drow13_col4\" class=\"data row13 col4\" >2593</td>\n",
       "                        <td id=\"T_1f3b9c30_af24_11ea_9268_844bf50ed32drow13_col5\" class=\"data row13 col5\" >0</td>\n",
       "                        <td id=\"T_1f3b9c30_af24_11ea_9268_844bf50ed32drow13_col6\" class=\"data row13 col6\" >JK</td>\n",
       "            </tr>\n",
       "            <tr>\n",
       "                        <th id=\"T_1f3b9c30_af24_11ea_9268_844bf50ed32dlevel0_row14\" class=\"row_heading level0 row14\" >15</th>\n",
       "                        <td id=\"T_1f3b9c30_af24_11ea_9268_844bf50ed32drow14_col0\" class=\"data row14 col0\" >Telangana</td>\n",
       "                        <td id=\"T_1f3b9c30_af24_11ea_9268_844bf50ed32drow14_col1\" class=\"data row14 col1\" >4974</td>\n",
       "                        <td id=\"T_1f3b9c30_af24_11ea_9268_844bf50ed32drow14_col2\" class=\"data row14 col2\" >2377</td>\n",
       "                        <td id=\"T_1f3b9c30_af24_11ea_9268_844bf50ed32drow14_col3\" class=\"data row14 col3\" >185</td>\n",
       "                        <td id=\"T_1f3b9c30_af24_11ea_9268_844bf50ed32drow14_col4\" class=\"data row14 col4\" >2412</td>\n",
       "                        <td id=\"T_1f3b9c30_af24_11ea_9268_844bf50ed32drow14_col5\" class=\"data row14 col5\" >0</td>\n",
       "                        <td id=\"T_1f3b9c30_af24_11ea_9268_844bf50ed32drow14_col6\" class=\"data row14 col6\" >TG</td>\n",
       "            </tr>\n",
       "            <tr>\n",
       "                        <th id=\"T_1f3b9c30_af24_11ea_9268_844bf50ed32dlevel0_row15\" class=\"row_heading level0 row15\" >16</th>\n",
       "                        <td id=\"T_1f3b9c30_af24_11ea_9268_844bf50ed32drow15_col0\" class=\"data row15 col0\" >Odisha</td>\n",
       "                        <td id=\"T_1f3b9c30_af24_11ea_9268_844bf50ed32drow15_col1\" class=\"data row15 col1\" >3909</td>\n",
       "                        <td id=\"T_1f3b9c30_af24_11ea_9268_844bf50ed32drow15_col2\" class=\"data row15 col2\" >2708</td>\n",
       "                        <td id=\"T_1f3b9c30_af24_11ea_9268_844bf50ed32drow15_col3\" class=\"data row15 col3\" >14</td>\n",
       "                        <td id=\"T_1f3b9c30_af24_11ea_9268_844bf50ed32drow15_col4\" class=\"data row15 col4\" >1187</td>\n",
       "                        <td id=\"T_1f3b9c30_af24_11ea_9268_844bf50ed32drow15_col5\" class=\"data row15 col5\" >0</td>\n",
       "                        <td id=\"T_1f3b9c30_af24_11ea_9268_844bf50ed32drow15_col6\" class=\"data row15 col6\" >OR</td>\n",
       "            </tr>\n",
       "            <tr>\n",
       "                        <th id=\"T_1f3b9c30_af24_11ea_9268_844bf50ed32dlevel0_row16\" class=\"row_heading level0 row16\" >17</th>\n",
       "                        <td id=\"T_1f3b9c30_af24_11ea_9268_844bf50ed32drow16_col0\" class=\"data row16 col0\" >Assam</td>\n",
       "                        <td id=\"T_1f3b9c30_af24_11ea_9268_844bf50ed32drow16_col1\" class=\"data row16 col1\" >4119</td>\n",
       "                        <td id=\"T_1f3b9c30_af24_11ea_9268_844bf50ed32drow16_col2\" class=\"data row16 col2\" >1961</td>\n",
       "                        <td id=\"T_1f3b9c30_af24_11ea_9268_844bf50ed32drow16_col3\" class=\"data row16 col3\" >8</td>\n",
       "                        <td id=\"T_1f3b9c30_af24_11ea_9268_844bf50ed32drow16_col4\" class=\"data row16 col4\" >2147</td>\n",
       "                        <td id=\"T_1f3b9c30_af24_11ea_9268_844bf50ed32drow16_col5\" class=\"data row16 col5\" >3</td>\n",
       "                        <td id=\"T_1f3b9c30_af24_11ea_9268_844bf50ed32drow16_col6\" class=\"data row16 col6\" >AS</td>\n",
       "            </tr>\n",
       "            <tr>\n",
       "                        <th id=\"T_1f3b9c30_af24_11ea_9268_844bf50ed32dlevel0_row17\" class=\"row_heading level0 row17\" >18</th>\n",
       "                        <td id=\"T_1f3b9c30_af24_11ea_9268_844bf50ed32drow17_col0\" class=\"data row17 col0\" >Punjab</td>\n",
       "                        <td id=\"T_1f3b9c30_af24_11ea_9268_844bf50ed32drow17_col1\" class=\"data row17 col1\" >3140</td>\n",
       "                        <td id=\"T_1f3b9c30_af24_11ea_9268_844bf50ed32drow17_col2\" class=\"data row17 col2\" >2356</td>\n",
       "                        <td id=\"T_1f3b9c30_af24_11ea_9268_844bf50ed32drow17_col3\" class=\"data row17 col3\" >67</td>\n",
       "                        <td id=\"T_1f3b9c30_af24_11ea_9268_844bf50ed32drow17_col4\" class=\"data row17 col4\" >717</td>\n",
       "                        <td id=\"T_1f3b9c30_af24_11ea_9268_844bf50ed32drow17_col5\" class=\"data row17 col5\" >0</td>\n",
       "                        <td id=\"T_1f3b9c30_af24_11ea_9268_844bf50ed32drow17_col6\" class=\"data row17 col6\" >PB</td>\n",
       "            </tr>\n",
       "            <tr>\n",
       "                        <th id=\"T_1f3b9c30_af24_11ea_9268_844bf50ed32dlevel0_row18\" class=\"row_heading level0 row18\" >19</th>\n",
       "                        <td id=\"T_1f3b9c30_af24_11ea_9268_844bf50ed32drow18_col0\" class=\"data row18 col0\" >Kerala</td>\n",
       "                        <td id=\"T_1f3b9c30_af24_11ea_9268_844bf50ed32drow18_col1\" class=\"data row18 col1\" >2462</td>\n",
       "                        <td id=\"T_1f3b9c30_af24_11ea_9268_844bf50ed32drow18_col2\" class=\"data row18 col2\" >1101</td>\n",
       "                        <td id=\"T_1f3b9c30_af24_11ea_9268_844bf50ed32drow18_col3\" class=\"data row18 col3\" >20</td>\n",
       "                        <td id=\"T_1f3b9c30_af24_11ea_9268_844bf50ed32drow18_col4\" class=\"data row18 col4\" >1340</td>\n",
       "                        <td id=\"T_1f3b9c30_af24_11ea_9268_844bf50ed32drow18_col5\" class=\"data row18 col5\" >1</td>\n",
       "                        <td id=\"T_1f3b9c30_af24_11ea_9268_844bf50ed32drow18_col6\" class=\"data row18 col6\" >KL</td>\n",
       "            </tr>\n",
       "            <tr>\n",
       "                        <th id=\"T_1f3b9c30_af24_11ea_9268_844bf50ed32dlevel0_row19\" class=\"row_heading level0 row19\" >20</th>\n",
       "                        <td id=\"T_1f3b9c30_af24_11ea_9268_844bf50ed32drow19_col0\" class=\"data row19 col0\" >Uttarakhand</td>\n",
       "                        <td id=\"T_1f3b9c30_af24_11ea_9268_844bf50ed32drow19_col1\" class=\"data row19 col1\" >1819</td>\n",
       "                        <td id=\"T_1f3b9c30_af24_11ea_9268_844bf50ed32drow19_col2\" class=\"data row19 col2\" >1111</td>\n",
       "                        <td id=\"T_1f3b9c30_af24_11ea_9268_844bf50ed32drow19_col3\" class=\"data row19 col3\" >24</td>\n",
       "                        <td id=\"T_1f3b9c30_af24_11ea_9268_844bf50ed32drow19_col4\" class=\"data row19 col4\" >675</td>\n",
       "                        <td id=\"T_1f3b9c30_af24_11ea_9268_844bf50ed32drow19_col5\" class=\"data row19 col5\" >9</td>\n",
       "                        <td id=\"T_1f3b9c30_af24_11ea_9268_844bf50ed32drow19_col6\" class=\"data row19 col6\" >UT</td>\n",
       "            </tr>\n",
       "            <tr>\n",
       "                        <th id=\"T_1f3b9c30_af24_11ea_9268_844bf50ed32dlevel0_row20\" class=\"row_heading level0 row20\" >21</th>\n",
       "                        <td id=\"T_1f3b9c30_af24_11ea_9268_844bf50ed32drow20_col0\" class=\"data row20 col0\" >Jharkhand</td>\n",
       "                        <td id=\"T_1f3b9c30_af24_11ea_9268_844bf50ed32drow20_col1\" class=\"data row20 col1\" >1748</td>\n",
       "                        <td id=\"T_1f3b9c30_af24_11ea_9268_844bf50ed32drow20_col2\" class=\"data row20 col2\" >905</td>\n",
       "                        <td id=\"T_1f3b9c30_af24_11ea_9268_844bf50ed32drow20_col3\" class=\"data row20 col3\" >8</td>\n",
       "                        <td id=\"T_1f3b9c30_af24_11ea_9268_844bf50ed32drow20_col4\" class=\"data row20 col4\" >835</td>\n",
       "                        <td id=\"T_1f3b9c30_af24_11ea_9268_844bf50ed32drow20_col5\" class=\"data row20 col5\" >0</td>\n",
       "                        <td id=\"T_1f3b9c30_af24_11ea_9268_844bf50ed32drow20_col6\" class=\"data row20 col6\" >JH</td>\n",
       "            </tr>\n",
       "            <tr>\n",
       "                        <th id=\"T_1f3b9c30_af24_11ea_9268_844bf50ed32dlevel0_row21\" class=\"row_heading level0 row21\" >22</th>\n",
       "                        <td id=\"T_1f3b9c30_af24_11ea_9268_844bf50ed32drow21_col0\" class=\"data row21 col0\" >Chhattisgarh</td>\n",
       "                        <td id=\"T_1f3b9c30_af24_11ea_9268_844bf50ed32drow21_col1\" class=\"data row21 col1\" >1662</td>\n",
       "                        <td id=\"T_1f3b9c30_af24_11ea_9268_844bf50ed32drow21_col2\" class=\"data row21 col2\" >717</td>\n",
       "                        <td id=\"T_1f3b9c30_af24_11ea_9268_844bf50ed32drow21_col3\" class=\"data row21 col3\" >6</td>\n",
       "                        <td id=\"T_1f3b9c30_af24_11ea_9268_844bf50ed32drow21_col4\" class=\"data row21 col4\" >939</td>\n",
       "                        <td id=\"T_1f3b9c30_af24_11ea_9268_844bf50ed32drow21_col5\" class=\"data row21 col5\" >0</td>\n",
       "                        <td id=\"T_1f3b9c30_af24_11ea_9268_844bf50ed32drow21_col6\" class=\"data row21 col6\" >CT</td>\n",
       "            </tr>\n",
       "            <tr>\n",
       "                        <th id=\"T_1f3b9c30_af24_11ea_9268_844bf50ed32dlevel0_row22\" class=\"row_heading level0 row22\" >23</th>\n",
       "                        <td id=\"T_1f3b9c30_af24_11ea_9268_844bf50ed32drow22_col0\" class=\"data row22 col0\" >Tripura</td>\n",
       "                        <td id=\"T_1f3b9c30_af24_11ea_9268_844bf50ed32drow22_col1\" class=\"data row22 col1\" >1079</td>\n",
       "                        <td id=\"T_1f3b9c30_af24_11ea_9268_844bf50ed32drow22_col2\" class=\"data row22 col2\" >433</td>\n",
       "                        <td id=\"T_1f3b9c30_af24_11ea_9268_844bf50ed32drow22_col3\" class=\"data row22 col3\" >1</td>\n",
       "                        <td id=\"T_1f3b9c30_af24_11ea_9268_844bf50ed32drow22_col4\" class=\"data row22 col4\" >645</td>\n",
       "                        <td id=\"T_1f3b9c30_af24_11ea_9268_844bf50ed32drow22_col5\" class=\"data row22 col5\" >0</td>\n",
       "                        <td id=\"T_1f3b9c30_af24_11ea_9268_844bf50ed32drow22_col6\" class=\"data row22 col6\" >TR</td>\n",
       "            </tr>\n",
       "            <tr>\n",
       "                        <th id=\"T_1f3b9c30_af24_11ea_9268_844bf50ed32dlevel0_row23\" class=\"row_heading level0 row23\" >24</th>\n",
       "                        <td id=\"T_1f3b9c30_af24_11ea_9268_844bf50ed32drow23_col0\" class=\"data row23 col0\" >Himachal Pradesh</td>\n",
       "                        <td id=\"T_1f3b9c30_af24_11ea_9268_844bf50ed32drow23_col1\" class=\"data row23 col1\" >518</td>\n",
       "                        <td id=\"T_1f3b9c30_af24_11ea_9268_844bf50ed32drow23_col2\" class=\"data row23 col2\" >326</td>\n",
       "                        <td id=\"T_1f3b9c30_af24_11ea_9268_844bf50ed32drow23_col3\" class=\"data row23 col3\" >7</td>\n",
       "                        <td id=\"T_1f3b9c30_af24_11ea_9268_844bf50ed32drow23_col4\" class=\"data row23 col4\" >174</td>\n",
       "                        <td id=\"T_1f3b9c30_af24_11ea_9268_844bf50ed32drow23_col5\" class=\"data row23 col5\" >11</td>\n",
       "                        <td id=\"T_1f3b9c30_af24_11ea_9268_844bf50ed32drow23_col6\" class=\"data row23 col6\" >HP</td>\n",
       "            </tr>\n",
       "            <tr>\n",
       "                        <th id=\"T_1f3b9c30_af24_11ea_9268_844bf50ed32dlevel0_row24\" class=\"row_heading level0 row24\" >25</th>\n",
       "                        <td id=\"T_1f3b9c30_af24_11ea_9268_844bf50ed32drow24_col0\" class=\"data row24 col0\" >Goa</td>\n",
       "                        <td id=\"T_1f3b9c30_af24_11ea_9268_844bf50ed32drow24_col1\" class=\"data row24 col1\" >564</td>\n",
       "                        <td id=\"T_1f3b9c30_af24_11ea_9268_844bf50ed32drow24_col2\" class=\"data row24 col2\" >74</td>\n",
       "                        <td id=\"T_1f3b9c30_af24_11ea_9268_844bf50ed32drow24_col3\" class=\"data row24 col3\" >0</td>\n",
       "                        <td id=\"T_1f3b9c30_af24_11ea_9268_844bf50ed32drow24_col4\" class=\"data row24 col4\" >490</td>\n",
       "                        <td id=\"T_1f3b9c30_af24_11ea_9268_844bf50ed32drow24_col5\" class=\"data row24 col5\" >0</td>\n",
       "                        <td id=\"T_1f3b9c30_af24_11ea_9268_844bf50ed32drow24_col6\" class=\"data row24 col6\" >GA</td>\n",
       "            </tr>\n",
       "            <tr>\n",
       "                        <th id=\"T_1f3b9c30_af24_11ea_9268_844bf50ed32dlevel0_row25\" class=\"row_heading level0 row25\" >26</th>\n",
       "                        <td id=\"T_1f3b9c30_af24_11ea_9268_844bf50ed32drow25_col0\" class=\"data row25 col0\" >Manipur</td>\n",
       "                        <td id=\"T_1f3b9c30_af24_11ea_9268_844bf50ed32drow25_col1\" class=\"data row25 col1\" >458</td>\n",
       "                        <td id=\"T_1f3b9c30_af24_11ea_9268_844bf50ed32drow25_col2\" class=\"data row25 col2\" >91</td>\n",
       "                        <td id=\"T_1f3b9c30_af24_11ea_9268_844bf50ed32drow25_col3\" class=\"data row25 col3\" >0</td>\n",
       "                        <td id=\"T_1f3b9c30_af24_11ea_9268_844bf50ed32drow25_col4\" class=\"data row25 col4\" >367</td>\n",
       "                        <td id=\"T_1f3b9c30_af24_11ea_9268_844bf50ed32drow25_col5\" class=\"data row25 col5\" >0</td>\n",
       "                        <td id=\"T_1f3b9c30_af24_11ea_9268_844bf50ed32drow25_col6\" class=\"data row25 col6\" >MN</td>\n",
       "            </tr>\n",
       "            <tr>\n",
       "                        <th id=\"T_1f3b9c30_af24_11ea_9268_844bf50ed32dlevel0_row26\" class=\"row_heading level0 row26\" >27</th>\n",
       "                        <td id=\"T_1f3b9c30_af24_11ea_9268_844bf50ed32drow26_col0\" class=\"data row26 col0\" >Chandigarh</td>\n",
       "                        <td id=\"T_1f3b9c30_af24_11ea_9268_844bf50ed32drow26_col1\" class=\"data row26 col1\" >353</td>\n",
       "                        <td id=\"T_1f3b9c30_af24_11ea_9268_844bf50ed32drow26_col2\" class=\"data row26 col2\" >295</td>\n",
       "                        <td id=\"T_1f3b9c30_af24_11ea_9268_844bf50ed32drow26_col3\" class=\"data row26 col3\" >6</td>\n",
       "                        <td id=\"T_1f3b9c30_af24_11ea_9268_844bf50ed32drow26_col4\" class=\"data row26 col4\" >52</td>\n",
       "                        <td id=\"T_1f3b9c30_af24_11ea_9268_844bf50ed32drow26_col5\" class=\"data row26 col5\" >0</td>\n",
       "                        <td id=\"T_1f3b9c30_af24_11ea_9268_844bf50ed32drow26_col6\" class=\"data row26 col6\" >CH</td>\n",
       "            </tr>\n",
       "            <tr>\n",
       "                        <th id=\"T_1f3b9c30_af24_11ea_9268_844bf50ed32dlevel0_row27\" class=\"row_heading level0 row27\" >28</th>\n",
       "                        <td id=\"T_1f3b9c30_af24_11ea_9268_844bf50ed32drow27_col0\" class=\"data row27 col0\" >Puducherry</td>\n",
       "                        <td id=\"T_1f3b9c30_af24_11ea_9268_844bf50ed32drow27_col1\" class=\"data row27 col1\" >194</td>\n",
       "                        <td id=\"T_1f3b9c30_af24_11ea_9268_844bf50ed32drow27_col2\" class=\"data row27 col2\" >91</td>\n",
       "                        <td id=\"T_1f3b9c30_af24_11ea_9268_844bf50ed32drow27_col3\" class=\"data row27 col3\" >4</td>\n",
       "                        <td id=\"T_1f3b9c30_af24_11ea_9268_844bf50ed32drow27_col4\" class=\"data row27 col4\" >99</td>\n",
       "                        <td id=\"T_1f3b9c30_af24_11ea_9268_844bf50ed32drow27_col5\" class=\"data row27 col5\" >0</td>\n",
       "                        <td id=\"T_1f3b9c30_af24_11ea_9268_844bf50ed32drow27_col6\" class=\"data row27 col6\" >PY</td>\n",
       "            </tr>\n",
       "            <tr>\n",
       "                        <th id=\"T_1f3b9c30_af24_11ea_9268_844bf50ed32dlevel0_row28\" class=\"row_heading level0 row28\" >29</th>\n",
       "                        <td id=\"T_1f3b9c30_af24_11ea_9268_844bf50ed32drow28_col0\" class=\"data row28 col0\" >Ladakh</td>\n",
       "                        <td id=\"T_1f3b9c30_af24_11ea_9268_844bf50ed32drow28_col1\" class=\"data row28 col1\" >549</td>\n",
       "                        <td id=\"T_1f3b9c30_af24_11ea_9268_844bf50ed32drow28_col2\" class=\"data row28 col2\" >80</td>\n",
       "                        <td id=\"T_1f3b9c30_af24_11ea_9268_844bf50ed32drow28_col3\" class=\"data row28 col3\" >1</td>\n",
       "                        <td id=\"T_1f3b9c30_af24_11ea_9268_844bf50ed32drow28_col4\" class=\"data row28 col4\" >468</td>\n",
       "                        <td id=\"T_1f3b9c30_af24_11ea_9268_844bf50ed32drow28_col5\" class=\"data row28 col5\" >0</td>\n",
       "                        <td id=\"T_1f3b9c30_af24_11ea_9268_844bf50ed32drow28_col6\" class=\"data row28 col6\" >LA</td>\n",
       "            </tr>\n",
       "            <tr>\n",
       "                        <th id=\"T_1f3b9c30_af24_11ea_9268_844bf50ed32dlevel0_row29\" class=\"row_heading level0 row29\" >30</th>\n",
       "                        <td id=\"T_1f3b9c30_af24_11ea_9268_844bf50ed32drow29_col0\" class=\"data row29 col0\" >Nagaland</td>\n",
       "                        <td id=\"T_1f3b9c30_af24_11ea_9268_844bf50ed32drow29_col1\" class=\"data row29 col1\" >177</td>\n",
       "                        <td id=\"T_1f3b9c30_af24_11ea_9268_844bf50ed32drow29_col2\" class=\"data row29 col2\" >88</td>\n",
       "                        <td id=\"T_1f3b9c30_af24_11ea_9268_844bf50ed32drow29_col3\" class=\"data row29 col3\" >0</td>\n",
       "                        <td id=\"T_1f3b9c30_af24_11ea_9268_844bf50ed32drow29_col4\" class=\"data row29 col4\" >89</td>\n",
       "                        <td id=\"T_1f3b9c30_af24_11ea_9268_844bf50ed32drow29_col5\" class=\"data row29 col5\" >0</td>\n",
       "                        <td id=\"T_1f3b9c30_af24_11ea_9268_844bf50ed32drow29_col6\" class=\"data row29 col6\" >NL</td>\n",
       "            </tr>\n",
       "            <tr>\n",
       "                        <th id=\"T_1f3b9c30_af24_11ea_9268_844bf50ed32dlevel0_row30\" class=\"row_heading level0 row30\" >31</th>\n",
       "                        <td id=\"T_1f3b9c30_af24_11ea_9268_844bf50ed32drow30_col0\" class=\"data row30 col0\" >Mizoram</td>\n",
       "                        <td id=\"T_1f3b9c30_af24_11ea_9268_844bf50ed32drow30_col1\" class=\"data row30 col1\" >117</td>\n",
       "                        <td id=\"T_1f3b9c30_af24_11ea_9268_844bf50ed32drow30_col2\" class=\"data row30 col2\" >1</td>\n",
       "                        <td id=\"T_1f3b9c30_af24_11ea_9268_844bf50ed32drow30_col3\" class=\"data row30 col3\" >0</td>\n",
       "                        <td id=\"T_1f3b9c30_af24_11ea_9268_844bf50ed32drow30_col4\" class=\"data row30 col4\" >116</td>\n",
       "                        <td id=\"T_1f3b9c30_af24_11ea_9268_844bf50ed32drow30_col5\" class=\"data row30 col5\" >0</td>\n",
       "                        <td id=\"T_1f3b9c30_af24_11ea_9268_844bf50ed32drow30_col6\" class=\"data row30 col6\" >MZ</td>\n",
       "            </tr>\n",
       "            <tr>\n",
       "                        <th id=\"T_1f3b9c30_af24_11ea_9268_844bf50ed32dlevel0_row31\" class=\"row_heading level0 row31\" >32</th>\n",
       "                        <td id=\"T_1f3b9c30_af24_11ea_9268_844bf50ed32drow31_col0\" class=\"data row31 col0\" >Arunachal Pradesh</td>\n",
       "                        <td id=\"T_1f3b9c30_af24_11ea_9268_844bf50ed32drow31_col1\" class=\"data row31 col1\" >91</td>\n",
       "                        <td id=\"T_1f3b9c30_af24_11ea_9268_844bf50ed32drow31_col2\" class=\"data row31 col2\" >7</td>\n",
       "                        <td id=\"T_1f3b9c30_af24_11ea_9268_844bf50ed32drow31_col3\" class=\"data row31 col3\" >0</td>\n",
       "                        <td id=\"T_1f3b9c30_af24_11ea_9268_844bf50ed32drow31_col4\" class=\"data row31 col4\" >84</td>\n",
       "                        <td id=\"T_1f3b9c30_af24_11ea_9268_844bf50ed32drow31_col5\" class=\"data row31 col5\" >0</td>\n",
       "                        <td id=\"T_1f3b9c30_af24_11ea_9268_844bf50ed32drow31_col6\" class=\"data row31 col6\" >AR</td>\n",
       "            </tr>\n",
       "            <tr>\n",
       "                        <th id=\"T_1f3b9c30_af24_11ea_9268_844bf50ed32dlevel0_row32\" class=\"row_heading level0 row32\" >33</th>\n",
       "                        <td id=\"T_1f3b9c30_af24_11ea_9268_844bf50ed32drow32_col0\" class=\"data row32 col0\" >Meghalaya</td>\n",
       "                        <td id=\"T_1f3b9c30_af24_11ea_9268_844bf50ed32drow32_col1\" class=\"data row32 col1\" >44</td>\n",
       "                        <td id=\"T_1f3b9c30_af24_11ea_9268_844bf50ed32drow32_col2\" class=\"data row32 col2\" >26</td>\n",
       "                        <td id=\"T_1f3b9c30_af24_11ea_9268_844bf50ed32drow32_col3\" class=\"data row32 col3\" >1</td>\n",
       "                        <td id=\"T_1f3b9c30_af24_11ea_9268_844bf50ed32drow32_col4\" class=\"data row32 col4\" >17</td>\n",
       "                        <td id=\"T_1f3b9c30_af24_11ea_9268_844bf50ed32drow32_col5\" class=\"data row32 col5\" >0</td>\n",
       "                        <td id=\"T_1f3b9c30_af24_11ea_9268_844bf50ed32drow32_col6\" class=\"data row32 col6\" >ML</td>\n",
       "            </tr>\n",
       "            <tr>\n",
       "                        <th id=\"T_1f3b9c30_af24_11ea_9268_844bf50ed32dlevel0_row33\" class=\"row_heading level0 row33\" >34</th>\n",
       "                        <td id=\"T_1f3b9c30_af24_11ea_9268_844bf50ed32drow33_col0\" class=\"data row33 col0\" >Andaman and Nicobar Islands</td>\n",
       "                        <td id=\"T_1f3b9c30_af24_11ea_9268_844bf50ed32drow33_col1\" class=\"data row33 col1\" >41</td>\n",
       "                        <td id=\"T_1f3b9c30_af24_11ea_9268_844bf50ed32drow33_col2\" class=\"data row33 col2\" >33</td>\n",
       "                        <td id=\"T_1f3b9c30_af24_11ea_9268_844bf50ed32drow33_col3\" class=\"data row33 col3\" >0</td>\n",
       "                        <td id=\"T_1f3b9c30_af24_11ea_9268_844bf50ed32drow33_col4\" class=\"data row33 col4\" >8</td>\n",
       "                        <td id=\"T_1f3b9c30_af24_11ea_9268_844bf50ed32drow33_col5\" class=\"data row33 col5\" >0</td>\n",
       "                        <td id=\"T_1f3b9c30_af24_11ea_9268_844bf50ed32drow33_col6\" class=\"data row33 col6\" >AN</td>\n",
       "            </tr>\n",
       "            <tr>\n",
       "                        <th id=\"T_1f3b9c30_af24_11ea_9268_844bf50ed32dlevel0_row34\" class=\"row_heading level0 row34\" >35</th>\n",
       "                        <td id=\"T_1f3b9c30_af24_11ea_9268_844bf50ed32drow34_col0\" class=\"data row34 col0\" >Dadra and Nagar Haveli and Daman and Diu</td>\n",
       "                        <td id=\"T_1f3b9c30_af24_11ea_9268_844bf50ed32drow34_col1\" class=\"data row34 col1\" >36</td>\n",
       "                        <td id=\"T_1f3b9c30_af24_11ea_9268_844bf50ed32drow34_col2\" class=\"data row34 col2\" >2</td>\n",
       "                        <td id=\"T_1f3b9c30_af24_11ea_9268_844bf50ed32drow34_col3\" class=\"data row34 col3\" >0</td>\n",
       "                        <td id=\"T_1f3b9c30_af24_11ea_9268_844bf50ed32drow34_col4\" class=\"data row34 col4\" >34</td>\n",
       "                        <td id=\"T_1f3b9c30_af24_11ea_9268_844bf50ed32drow34_col5\" class=\"data row34 col5\" >0</td>\n",
       "                        <td id=\"T_1f3b9c30_af24_11ea_9268_844bf50ed32drow34_col6\" class=\"data row34 col6\" >DN</td>\n",
       "            </tr>\n",
       "            <tr>\n",
       "                        <th id=\"T_1f3b9c30_af24_11ea_9268_844bf50ed32dlevel0_row35\" class=\"row_heading level0 row35\" >36</th>\n",
       "                        <td id=\"T_1f3b9c30_af24_11ea_9268_844bf50ed32drow35_col0\" class=\"data row35 col0\" >Sikkim</td>\n",
       "                        <td id=\"T_1f3b9c30_af24_11ea_9268_844bf50ed32drow35_col1\" class=\"data row35 col1\" >68</td>\n",
       "                        <td id=\"T_1f3b9c30_af24_11ea_9268_844bf50ed32drow35_col2\" class=\"data row35 col2\" >5</td>\n",
       "                        <td id=\"T_1f3b9c30_af24_11ea_9268_844bf50ed32drow35_col3\" class=\"data row35 col3\" >0</td>\n",
       "                        <td id=\"T_1f3b9c30_af24_11ea_9268_844bf50ed32drow35_col4\" class=\"data row35 col4\" >63</td>\n",
       "                        <td id=\"T_1f3b9c30_af24_11ea_9268_844bf50ed32drow35_col5\" class=\"data row35 col5\" >0</td>\n",
       "                        <td id=\"T_1f3b9c30_af24_11ea_9268_844bf50ed32drow35_col6\" class=\"data row35 col6\" >SK</td>\n",
       "            </tr>\n",
       "            <tr>\n",
       "                        <th id=\"T_1f3b9c30_af24_11ea_9268_844bf50ed32dlevel0_row36\" class=\"row_heading level0 row36\" >37</th>\n",
       "                        <td id=\"T_1f3b9c30_af24_11ea_9268_844bf50ed32drow36_col0\" class=\"data row36 col0\" >Lakshadweep</td>\n",
       "                        <td id=\"T_1f3b9c30_af24_11ea_9268_844bf50ed32drow36_col1\" class=\"data row36 col1\" >0</td>\n",
       "                        <td id=\"T_1f3b9c30_af24_11ea_9268_844bf50ed32drow36_col2\" class=\"data row36 col2\" >0</td>\n",
       "                        <td id=\"T_1f3b9c30_af24_11ea_9268_844bf50ed32drow36_col3\" class=\"data row36 col3\" >0</td>\n",
       "                        <td id=\"T_1f3b9c30_af24_11ea_9268_844bf50ed32drow36_col4\" class=\"data row36 col4\" >0</td>\n",
       "                        <td id=\"T_1f3b9c30_af24_11ea_9268_844bf50ed32drow36_col5\" class=\"data row36 col5\" >0</td>\n",
       "                        <td id=\"T_1f3b9c30_af24_11ea_9268_844bf50ed32drow36_col6\" class=\"data row36 col6\" >LD</td>\n",
       "            </tr>\n",
       "    </tbody></table>"
      ],
      "text/plain": [
       "<pandas.io.formats.style.Styler at 0x7fddda796550>"
      ]
     },
     "execution_count": 157,
     "metadata": {},
     "output_type": "execute_result"
    }
   ],
   "source": [
    "Clean_dta.style.background_gradient(cmap='Reds')\n"
   ]
  },
  {
   "cell_type": "markdown",
   "metadata": {},
   "source": [
    "Now using function of style i.e cmap We can easily underestand as the darker the colour the most affected state &\n",
    "vice versa."
   ]
  },
  {
   "cell_type": "markdown",
   "metadata": {},
   "source": [
    "### Deaths Heat Map Of India "
   ]
  },
  {
   "cell_type": "code",
   "execution_count": 9,
   "metadata": {},
   "outputs": [
    {
     "data": {
      "text/html": [
       "<style  type=\"text/css\" >\n",
       "    #T_ec728dd4_aec6_11ea_9268_844bf50ed32drow0_col0 {\n",
       "            background-color:  #67000d;\n",
       "            color:  #f1f1f1;\n",
       "        }    #T_ec728dd4_aec6_11ea_9268_844bf50ed32drow1_col0 {\n",
       "            background-color:  #fc9373;\n",
       "            color:  #000000;\n",
       "        }    #T_ec728dd4_aec6_11ea_9268_844bf50ed32drow2_col0 {\n",
       "            background-color:  #fc9e80;\n",
       "            color:  #000000;\n",
       "        }    #T_ec728dd4_aec6_11ea_9268_844bf50ed32drow3_col0 {\n",
       "            background-color:  #fee1d4;\n",
       "            color:  #000000;\n",
       "        }    #T_ec728dd4_aec6_11ea_9268_844bf50ed32drow4_col0 {\n",
       "            background-color:  #fee2d5;\n",
       "            color:  #000000;\n",
       "        }    #T_ec728dd4_aec6_11ea_9268_844bf50ed32drow5_col0 {\n",
       "            background-color:  #fee3d6;\n",
       "            color:  #000000;\n",
       "        }    #T_ec728dd4_aec6_11ea_9268_844bf50ed32drow6_col0 {\n",
       "            background-color:  #fee5d8;\n",
       "            color:  #000000;\n",
       "        }    #T_ec728dd4_aec6_11ea_9268_844bf50ed32drow7_col0 {\n",
       "            background-color:  #fee9df;\n",
       "            color:  #000000;\n",
       "        }    #T_ec728dd4_aec6_11ea_9268_844bf50ed32drow8_col0 {\n",
       "            background-color:  #ffeee6;\n",
       "            color:  #000000;\n",
       "        }    #T_ec728dd4_aec6_11ea_9268_844bf50ed32drow9_col0 {\n",
       "            background-color:  #fff2eb;\n",
       "            color:  #000000;\n",
       "        }    #T_ec728dd4_aec6_11ea_9268_844bf50ed32drow10_col0 {\n",
       "            background-color:  #fff2eb;\n",
       "            color:  #000000;\n",
       "        }    #T_ec728dd4_aec6_11ea_9268_844bf50ed32drow11_col0 {\n",
       "            background-color:  #fff2eb;\n",
       "            color:  #000000;\n",
       "        }    #T_ec728dd4_aec6_11ea_9268_844bf50ed32drow12_col0 {\n",
       "            background-color:  #fff2ec;\n",
       "            color:  #000000;\n",
       "        }    #T_ec728dd4_aec6_11ea_9268_844bf50ed32drow13_col0 {\n",
       "            background-color:  #fff3ed;\n",
       "            color:  #000000;\n",
       "        }    #T_ec728dd4_aec6_11ea_9268_844bf50ed32drow14_col0 {\n",
       "            background-color:  #fff4ee;\n",
       "            color:  #000000;\n",
       "        }    #T_ec728dd4_aec6_11ea_9268_844bf50ed32drow15_col0 {\n",
       "            background-color:  #fff4ef;\n",
       "            color:  #000000;\n",
       "        }    #T_ec728dd4_aec6_11ea_9268_844bf50ed32drow16_col0 {\n",
       "            background-color:  #fff4ef;\n",
       "            color:  #000000;\n",
       "        }    #T_ec728dd4_aec6_11ea_9268_844bf50ed32drow17_col0 {\n",
       "            background-color:  #fff5f0;\n",
       "            color:  #000000;\n",
       "        }    #T_ec728dd4_aec6_11ea_9268_844bf50ed32drow18_col0 {\n",
       "            background-color:  #fff5f0;\n",
       "            color:  #000000;\n",
       "        }    #T_ec728dd4_aec6_11ea_9268_844bf50ed32drow19_col0 {\n",
       "            background-color:  #fff5f0;\n",
       "            color:  #000000;\n",
       "        }    #T_ec728dd4_aec6_11ea_9268_844bf50ed32drow20_col0 {\n",
       "            background-color:  #fff5f0;\n",
       "            color:  #000000;\n",
       "        }    #T_ec728dd4_aec6_11ea_9268_844bf50ed32drow21_col0 {\n",
       "            background-color:  #fff5f0;\n",
       "            color:  #000000;\n",
       "        }    #T_ec728dd4_aec6_11ea_9268_844bf50ed32drow22_col0 {\n",
       "            background-color:  #fff5f0;\n",
       "            color:  #000000;\n",
       "        }    #T_ec728dd4_aec6_11ea_9268_844bf50ed32drow23_col0 {\n",
       "            background-color:  #fff5f0;\n",
       "            color:  #000000;\n",
       "        }    #T_ec728dd4_aec6_11ea_9268_844bf50ed32drow24_col0 {\n",
       "            background-color:  #fff5f0;\n",
       "            color:  #000000;\n",
       "        }    #T_ec728dd4_aec6_11ea_9268_844bf50ed32drow25_col0 {\n",
       "            background-color:  #fff5f0;\n",
       "            color:  #000000;\n",
       "        }    #T_ec728dd4_aec6_11ea_9268_844bf50ed32drow26_col0 {\n",
       "            background-color:  #fff5f0;\n",
       "            color:  #000000;\n",
       "        }    #T_ec728dd4_aec6_11ea_9268_844bf50ed32drow27_col0 {\n",
       "            background-color:  #fff5f0;\n",
       "            color:  #000000;\n",
       "        }    #T_ec728dd4_aec6_11ea_9268_844bf50ed32drow28_col0 {\n",
       "            background-color:  #fff5f0;\n",
       "            color:  #000000;\n",
       "        }    #T_ec728dd4_aec6_11ea_9268_844bf50ed32drow29_col0 {\n",
       "            background-color:  #fff5f0;\n",
       "            color:  #000000;\n",
       "        }    #T_ec728dd4_aec6_11ea_9268_844bf50ed32drow30_col0 {\n",
       "            background-color:  #fff5f0;\n",
       "            color:  #000000;\n",
       "        }    #T_ec728dd4_aec6_11ea_9268_844bf50ed32drow31_col0 {\n",
       "            background-color:  #fff5f0;\n",
       "            color:  #000000;\n",
       "        }    #T_ec728dd4_aec6_11ea_9268_844bf50ed32drow32_col0 {\n",
       "            background-color:  #fff5f0;\n",
       "            color:  #000000;\n",
       "        }    #T_ec728dd4_aec6_11ea_9268_844bf50ed32drow33_col0 {\n",
       "            background-color:  #fff5f0;\n",
       "            color:  #000000;\n",
       "        }    #T_ec728dd4_aec6_11ea_9268_844bf50ed32drow34_col0 {\n",
       "            background-color:  #fff5f0;\n",
       "            color:  #000000;\n",
       "        }    #T_ec728dd4_aec6_11ea_9268_844bf50ed32drow35_col0 {\n",
       "            background-color:  #fff5f0;\n",
       "            color:  #000000;\n",
       "        }    #T_ec728dd4_aec6_11ea_9268_844bf50ed32drow36_col0 {\n",
       "            background-color:  #fff5f0;\n",
       "            color:  #000000;\n",
       "        }</style><table id=\"T_ec728dd4_aec6_11ea_9268_844bf50ed32d\" ><thead>    <tr>        <th class=\"blank level0\" ></th>        <th class=\"col_heading level0 col0\" >Deaths</th>    </tr>    <tr>        <th class=\"index_name level0\" >State</th>        <th class=\"blank\" ></th>    </tr></thead><tbody>\n",
       "                <tr>\n",
       "                        <th id=\"T_ec728dd4_aec6_11ea_9268_844bf50ed32dlevel0_row0\" class=\"row_heading level0 row0\" >Maharashtra</th>\n",
       "                        <td id=\"T_ec728dd4_aec6_11ea_9268_844bf50ed32drow0_col0\" class=\"data row0 col0\" >3950</td>\n",
       "            </tr>\n",
       "            <tr>\n",
       "                        <th id=\"T_ec728dd4_aec6_11ea_9268_844bf50ed32dlevel0_row1\" class=\"row_heading level0 row1\" >Gujarat</th>\n",
       "                        <td id=\"T_ec728dd4_aec6_11ea_9268_844bf50ed32drow1_col0\" class=\"data row1 col0\" >1478</td>\n",
       "            </tr>\n",
       "            <tr>\n",
       "                        <th id=\"T_ec728dd4_aec6_11ea_9268_844bf50ed32dlevel0_row2\" class=\"row_heading level0 row2\" >Delhi</th>\n",
       "                        <td id=\"T_ec728dd4_aec6_11ea_9268_844bf50ed32drow2_col0\" class=\"data row2 col0\" >1327</td>\n",
       "            </tr>\n",
       "            <tr>\n",
       "                        <th id=\"T_ec728dd4_aec6_11ea_9268_844bf50ed32dlevel0_row3\" class=\"row_heading level0 row3\" >West Bengal</th>\n",
       "                        <td id=\"T_ec728dd4_aec6_11ea_9268_844bf50ed32drow3_col0\" class=\"data row3 col0\" >475</td>\n",
       "            </tr>\n",
       "            <tr>\n",
       "                        <th id=\"T_ec728dd4_aec6_11ea_9268_844bf50ed32dlevel0_row4\" class=\"row_heading level0 row4\" >Madhya Pradesh</th>\n",
       "                        <td id=\"T_ec728dd4_aec6_11ea_9268_844bf50ed32drow4_col0\" class=\"data row4 col0\" >459</td>\n",
       "            </tr>\n",
       "            <tr>\n",
       "                        <th id=\"T_ec728dd4_aec6_11ea_9268_844bf50ed32dlevel0_row5\" class=\"row_heading level0 row5\" >Tamil Nadu</th>\n",
       "                        <td id=\"T_ec728dd4_aec6_11ea_9268_844bf50ed32drow5_col0\" class=\"data row5 col0\" >435</td>\n",
       "            </tr>\n",
       "            <tr>\n",
       "                        <th id=\"T_ec728dd4_aec6_11ea_9268_844bf50ed32dlevel0_row6\" class=\"row_heading level0 row6\" >Uttar Pradesh</th>\n",
       "                        <td id=\"T_ec728dd4_aec6_11ea_9268_844bf50ed32drow6_col0\" class=\"data row6 col0\" >399</td>\n",
       "            </tr>\n",
       "            <tr>\n",
       "                        <th id=\"T_ec728dd4_aec6_11ea_9268_844bf50ed32dlevel0_row7\" class=\"row_heading level0 row7\" >Rajasthan</th>\n",
       "                        <td id=\"T_ec728dd4_aec6_11ea_9268_844bf50ed32drow7_col0\" class=\"data row7 col0\" >292</td>\n",
       "            </tr>\n",
       "            <tr>\n",
       "                        <th id=\"T_ec728dd4_aec6_11ea_9268_844bf50ed32dlevel0_row8\" class=\"row_heading level0 row8\" >Telangana</th>\n",
       "                        <td id=\"T_ec728dd4_aec6_11ea_9268_844bf50ed32drow8_col0\" class=\"data row8 col0\" >185</td>\n",
       "            </tr>\n",
       "            <tr>\n",
       "                        <th id=\"T_ec728dd4_aec6_11ea_9268_844bf50ed32dlevel0_row9\" class=\"row_heading level0 row9\" >Haryana</th>\n",
       "                        <td id=\"T_ec728dd4_aec6_11ea_9268_844bf50ed32drow9_col0\" class=\"data row9 col0\" >88</td>\n",
       "            </tr>\n",
       "            <tr>\n",
       "                        <th id=\"T_ec728dd4_aec6_11ea_9268_844bf50ed32dlevel0_row10\" class=\"row_heading level0 row10\" >Karnataka</th>\n",
       "                        <td id=\"T_ec728dd4_aec6_11ea_9268_844bf50ed32drow10_col0\" class=\"data row10 col0\" >87</td>\n",
       "            </tr>\n",
       "            <tr>\n",
       "                        <th id=\"T_ec728dd4_aec6_11ea_9268_844bf50ed32dlevel0_row11\" class=\"row_heading level0 row11\" >Andhra Pradesh</th>\n",
       "                        <td id=\"T_ec728dd4_aec6_11ea_9268_844bf50ed32drow11_col0\" class=\"data row11 col0\" >84</td>\n",
       "            </tr>\n",
       "            <tr>\n",
       "                        <th id=\"T_ec728dd4_aec6_11ea_9268_844bf50ed32dlevel0_row12\" class=\"row_heading level0 row12\" >Punjab</th>\n",
       "                        <td id=\"T_ec728dd4_aec6_11ea_9268_844bf50ed32drow12_col0\" class=\"data row12 col0\" >67</td>\n",
       "            </tr>\n",
       "            <tr>\n",
       "                        <th id=\"T_ec728dd4_aec6_11ea_9268_844bf50ed32dlevel0_row13\" class=\"row_heading level0 row13\" >Jammu and Kashmir</th>\n",
       "                        <td id=\"T_ec728dd4_aec6_11ea_9268_844bf50ed32drow13_col0\" class=\"data row13 col0\" >59</td>\n",
       "            </tr>\n",
       "            <tr>\n",
       "                        <th id=\"T_ec728dd4_aec6_11ea_9268_844bf50ed32dlevel0_row14\" class=\"row_heading level0 row14\" >Bihar</th>\n",
       "                        <td id=\"T_ec728dd4_aec6_11ea_9268_844bf50ed32drow14_col0\" class=\"data row14 col0\" >36</td>\n",
       "            </tr>\n",
       "            <tr>\n",
       "                        <th id=\"T_ec728dd4_aec6_11ea_9268_844bf50ed32dlevel0_row15\" class=\"row_heading level0 row15\" >Uttarakhand</th>\n",
       "                        <td id=\"T_ec728dd4_aec6_11ea_9268_844bf50ed32drow15_col0\" class=\"data row15 col0\" >24</td>\n",
       "            </tr>\n",
       "            <tr>\n",
       "                        <th id=\"T_ec728dd4_aec6_11ea_9268_844bf50ed32dlevel0_row16\" class=\"row_heading level0 row16\" >Kerala</th>\n",
       "                        <td id=\"T_ec728dd4_aec6_11ea_9268_844bf50ed32drow16_col0\" class=\"data row16 col0\" >20</td>\n",
       "            </tr>\n",
       "            <tr>\n",
       "                        <th id=\"T_ec728dd4_aec6_11ea_9268_844bf50ed32dlevel0_row17\" class=\"row_heading level0 row17\" >Odisha</th>\n",
       "                        <td id=\"T_ec728dd4_aec6_11ea_9268_844bf50ed32drow17_col0\" class=\"data row17 col0\" >14</td>\n",
       "            </tr>\n",
       "            <tr>\n",
       "                        <th id=\"T_ec728dd4_aec6_11ea_9268_844bf50ed32dlevel0_row18\" class=\"row_heading level0 row18\" >Assam</th>\n",
       "                        <td id=\"T_ec728dd4_aec6_11ea_9268_844bf50ed32drow18_col0\" class=\"data row18 col0\" >8</td>\n",
       "            </tr>\n",
       "            <tr>\n",
       "                        <th id=\"T_ec728dd4_aec6_11ea_9268_844bf50ed32dlevel0_row19\" class=\"row_heading level0 row19\" >Jharkhand</th>\n",
       "                        <td id=\"T_ec728dd4_aec6_11ea_9268_844bf50ed32drow19_col0\" class=\"data row19 col0\" >8</td>\n",
       "            </tr>\n",
       "            <tr>\n",
       "                        <th id=\"T_ec728dd4_aec6_11ea_9268_844bf50ed32dlevel0_row20\" class=\"row_heading level0 row20\" >Himachal Pradesh</th>\n",
       "                        <td id=\"T_ec728dd4_aec6_11ea_9268_844bf50ed32drow20_col0\" class=\"data row20 col0\" >7</td>\n",
       "            </tr>\n",
       "            <tr>\n",
       "                        <th id=\"T_ec728dd4_aec6_11ea_9268_844bf50ed32dlevel0_row21\" class=\"row_heading level0 row21\" >Chandigarh</th>\n",
       "                        <td id=\"T_ec728dd4_aec6_11ea_9268_844bf50ed32drow21_col0\" class=\"data row21 col0\" >6</td>\n",
       "            </tr>\n",
       "            <tr>\n",
       "                        <th id=\"T_ec728dd4_aec6_11ea_9268_844bf50ed32dlevel0_row22\" class=\"row_heading level0 row22\" >Chhattisgarh</th>\n",
       "                        <td id=\"T_ec728dd4_aec6_11ea_9268_844bf50ed32drow22_col0\" class=\"data row22 col0\" >6</td>\n",
       "            </tr>\n",
       "            <tr>\n",
       "                        <th id=\"T_ec728dd4_aec6_11ea_9268_844bf50ed32dlevel0_row23\" class=\"row_heading level0 row23\" >Puducherry</th>\n",
       "                        <td id=\"T_ec728dd4_aec6_11ea_9268_844bf50ed32drow23_col0\" class=\"data row23 col0\" >4</td>\n",
       "            </tr>\n",
       "            <tr>\n",
       "                        <th id=\"T_ec728dd4_aec6_11ea_9268_844bf50ed32dlevel0_row24\" class=\"row_heading level0 row24\" >Tripura</th>\n",
       "                        <td id=\"T_ec728dd4_aec6_11ea_9268_844bf50ed32drow24_col0\" class=\"data row24 col0\" >1</td>\n",
       "            </tr>\n",
       "            <tr>\n",
       "                        <th id=\"T_ec728dd4_aec6_11ea_9268_844bf50ed32dlevel0_row25\" class=\"row_heading level0 row25\" >Ladakh</th>\n",
       "                        <td id=\"T_ec728dd4_aec6_11ea_9268_844bf50ed32drow25_col0\" class=\"data row25 col0\" >1</td>\n",
       "            </tr>\n",
       "            <tr>\n",
       "                        <th id=\"T_ec728dd4_aec6_11ea_9268_844bf50ed32dlevel0_row26\" class=\"row_heading level0 row26\" >Meghalaya</th>\n",
       "                        <td id=\"T_ec728dd4_aec6_11ea_9268_844bf50ed32drow26_col0\" class=\"data row26 col0\" >1</td>\n",
       "            </tr>\n",
       "            <tr>\n",
       "                        <th id=\"T_ec728dd4_aec6_11ea_9268_844bf50ed32dlevel0_row27\" class=\"row_heading level0 row27\" >Dadra and Nagar Haveli and Daman and Diu</th>\n",
       "                        <td id=\"T_ec728dd4_aec6_11ea_9268_844bf50ed32drow27_col0\" class=\"data row27 col0\" >0</td>\n",
       "            </tr>\n",
       "            <tr>\n",
       "                        <th id=\"T_ec728dd4_aec6_11ea_9268_844bf50ed32dlevel0_row28\" class=\"row_heading level0 row28\" >Arunachal Pradesh</th>\n",
       "                        <td id=\"T_ec728dd4_aec6_11ea_9268_844bf50ed32drow28_col0\" class=\"data row28 col0\" >0</td>\n",
       "            </tr>\n",
       "            <tr>\n",
       "                        <th id=\"T_ec728dd4_aec6_11ea_9268_844bf50ed32dlevel0_row29\" class=\"row_heading level0 row29\" >Lakshadweep</th>\n",
       "                        <td id=\"T_ec728dd4_aec6_11ea_9268_844bf50ed32drow29_col0\" class=\"data row29 col0\" >0</td>\n",
       "            </tr>\n",
       "            <tr>\n",
       "                        <th id=\"T_ec728dd4_aec6_11ea_9268_844bf50ed32dlevel0_row30\" class=\"row_heading level0 row30\" >Goa</th>\n",
       "                        <td id=\"T_ec728dd4_aec6_11ea_9268_844bf50ed32drow30_col0\" class=\"data row30 col0\" >0</td>\n",
       "            </tr>\n",
       "            <tr>\n",
       "                        <th id=\"T_ec728dd4_aec6_11ea_9268_844bf50ed32dlevel0_row31\" class=\"row_heading level0 row31\" >Manipur</th>\n",
       "                        <td id=\"T_ec728dd4_aec6_11ea_9268_844bf50ed32drow31_col0\" class=\"data row31 col0\" >0</td>\n",
       "            </tr>\n",
       "            <tr>\n",
       "                        <th id=\"T_ec728dd4_aec6_11ea_9268_844bf50ed32dlevel0_row32\" class=\"row_heading level0 row32\" >Mizoram</th>\n",
       "                        <td id=\"T_ec728dd4_aec6_11ea_9268_844bf50ed32drow32_col0\" class=\"data row32 col0\" >0</td>\n",
       "            </tr>\n",
       "            <tr>\n",
       "                        <th id=\"T_ec728dd4_aec6_11ea_9268_844bf50ed32dlevel0_row33\" class=\"row_heading level0 row33\" >Nagaland</th>\n",
       "                        <td id=\"T_ec728dd4_aec6_11ea_9268_844bf50ed32drow33_col0\" class=\"data row33 col0\" >0</td>\n",
       "            </tr>\n",
       "            <tr>\n",
       "                        <th id=\"T_ec728dd4_aec6_11ea_9268_844bf50ed32dlevel0_row34\" class=\"row_heading level0 row34\" >Sikkim</th>\n",
       "                        <td id=\"T_ec728dd4_aec6_11ea_9268_844bf50ed32drow34_col0\" class=\"data row34 col0\" >0</td>\n",
       "            </tr>\n",
       "            <tr>\n",
       "                        <th id=\"T_ec728dd4_aec6_11ea_9268_844bf50ed32dlevel0_row35\" class=\"row_heading level0 row35\" >State Unassigned</th>\n",
       "                        <td id=\"T_ec728dd4_aec6_11ea_9268_844bf50ed32drow35_col0\" class=\"data row35 col0\" >0</td>\n",
       "            </tr>\n",
       "            <tr>\n",
       "                        <th id=\"T_ec728dd4_aec6_11ea_9268_844bf50ed32dlevel0_row36\" class=\"row_heading level0 row36\" >Andaman and Nicobar Islands</th>\n",
       "                        <td id=\"T_ec728dd4_aec6_11ea_9268_844bf50ed32drow36_col0\" class=\"data row36 col0\" >0</td>\n",
       "            </tr>\n",
       "    </tbody></table>"
      ],
      "text/plain": [
       "<pandas.io.formats.style.Styler at 0x7fdddff0a208>"
      ]
     },
     "execution_count": 9,
     "metadata": {},
     "output_type": "execute_result"
    }
   ],
   "source": [
    "Deaths=Clean_dta.groupby('State')['Deaths'].sum().sort_values(ascending=False).to_frame()\n",
    "Deaths.style.background_gradient(cmap='Reds')"
   ]
  },
  {
   "cell_type": "markdown",
   "metadata": {},
   "source": [
    "###### Now the Visualization we easily get to know in which state highest no.of deaths till Now.without any hussel. "
   ]
  },
  {
   "cell_type": "markdown",
   "metadata": {},
   "source": [
    "### Visulization Through Graph"
   ]
  },
  {
   "cell_type": "markdown",
   "metadata": {},
   "source": [
    "##### Ploting Bar Graph Using Pandas Visualization"
   ]
  },
  {
   "cell_type": "markdown",
   "metadata": {},
   "source": [
    "##### Line  plot using Pandas Library \n"
   ]
  },
  {
   "cell_type": "code",
   "execution_count": 10,
   "metadata": {},
   "outputs": [],
   "source": [
    "Confirm=Clean_dta.groupby('State')['Confirmed'].sum()"
   ]
  },
  {
   "cell_type": "code",
   "execution_count": 227,
   "metadata": {},
   "outputs": [
    {
     "data": {
      "text/plain": [
       "<matplotlib.axes._subplots.AxesSubplot at 0x7fddd974ab70>"
      ]
     },
     "execution_count": 227,
     "metadata": {},
     "output_type": "execute_result"
    },
    {
     "data": {
      "image/png": "[encoded data removed]",
      "text/plain": [
       "<Figure size 720x576 with 1 Axes>"
      ]
     },
     "metadata": {
      "needs_background": "light"
     },
     "output_type": "display_data"
    }
   ],
   "source": [
    "Confirm.plot(kind='line',x='State',y='Confirmed',title=\"Total Confirmed Cases In Vaarious States\", alpha=0.5)"
   ]
  },
  {
   "cell_type": "code",
   "execution_count": 230,
   "metadata": {},
   "outputs": [
    {
     "data": {
      "text/plain": [
       "<matplotlib.axes._subplots.AxesSubplot at 0x7fddda4176a0>"
      ]
     },
     "execution_count": 230,
     "metadata": {},
     "output_type": "execute_result"
    },
    {
     "data": {
      "image/png": "[encoded data removed]",
      "text/plain": [
       "<Figure size 720x576 with 1 Axes>"
      ]
     },
     "metadata": {
      "needs_background": "light"
     },
     "output_type": "display_data"
    }
   ],
   "source": [
    "Confirm=Clean_dta.groupby('State')['Deaths'].sum()\n",
    "Confirm.plot(kind='bar',x='State',y='Confirmed',title='Total Deaths In Various States Of India')"
   ]
  },
  {
   "cell_type": "code",
   "execution_count": null,
   "metadata": {},
   "outputs": [],
   "source": []
  },
  {
   "cell_type": "markdown",
   "metadata": {},
   "source": [
    "### Visualization through Plotly"
   ]
  },
  {
   "cell_type": "code",
   "execution_count": 236,
   "metadata": {},
   "outputs": [
    {
     "data": {
      "application/vnd.plotly.v1+json": {
       "config": {
        "linkText": "Export to plot.ly",
        "plotlyServerURL": "https://plot.ly",
        "showLink": true
       },
       "data": [
        {
         "marker": {
          "color": "rgba(255, 153, 51, 0.6)",
          "line": {
           "color": "rgba(255, 153, 51, 1.0)",
           "width": 1
          }
         },
         "name": "Deaths",
         "orientation": "v",
         "text": "",
         "type": "bar",
         "x": [
          "Andaman and Nicobar Islands",
          "Andhra Pradesh",
          "Arunachal Pradesh",
          "Assam",
          "Bihar",
          "Chandigarh",
          "Chhattisgarh",
          "Dadra and Nagar Haveli and Daman and Diu",
          "Delhi",
          "Goa",
          "Gujarat",
          "Haryana",
          "Himachal Pradesh",
          "Jammu and Kashmir",
          "Jharkhand",
          "Karnataka",
          "Kerala",
          "Ladakh",
          "Lakshadweep",
          "Madhya Pradesh",
          "Maharashtra",
          "Manipur",
          "Meghalaya",
          "Mizoram",
          "Nagaland",
          "Odisha",
          "Puducherry",
          "Punjab",
          "Rajasthan",
          "Sikkim",
          "State Unassigned",
          "Tamil Nadu",
          "Telangana",
          "Tripura",
          "Uttar Pradesh",
          "Uttarakhand",
          "West Bengal"
         ],
         "y": [
          0,
          84,
          0,
          8,
          36,
          6,
          6,
          0,
          1327,
          0,
          1478,
          88,
          7,
          59,
          8,
          87,
          20,
          1,
          0,
          459,
          3950,
          0,
          1,
          0,
          0,
          14,
          4,
          67,
          292,
          0,
          0,
          435,
          185,
          1,
          399,
          24,
          475
         ]
        }
       ],
       "layout": {
        "legend": {
         "bgcolor": "#F5F6F9",
         "font": {
          "color": "#4D5663"
         }
        },
        "paper_bgcolor": "#F5F6F9",
        "plot_bgcolor": "#F5F6F9",
        "template": {
         "data": {
          "bar": [
           {
            "error_x": {
             "color": "#2a3f5f"
            },
            "error_y": {
             "color": "#2a3f5f"
            },
            "marker": {
             "line": {
              "color": "#E5ECF6",
              "width": 0.5
             }
            },
            "type": "bar"
           }
          ],
          "barpolar": [
           {
            "marker": {
             "line": {
              "color": "#E5ECF6",
              "width": 0.5
             }
            },
            "type": "barpolar"
           }
          ],
          "carpet": [
           {
            "aaxis": {
             "endlinecolor": "#2a3f5f",
             "gridcolor": "white",
             "linecolor": "white",
             "minorgridcolor": "white",
             "startlinecolor": "#2a3f5f"
            },
            "baxis": {
             "endlinecolor": "#2a3f5f",
             "gridcolor": "white",
             "linecolor": "white",
             "minorgridcolor": "white",
             "startlinecolor": "#2a3f5f"
            },
            "type": "carpet"
           }
          ],
          "choropleth": [
           {
            "colorbar": {
             "outlinewidth": 0,
             "ticks": ""
            },
            "type": "choropleth"
           }
          ],
          "contour": [
           {
            "colorbar": {
             "outlinewidth": 0,
             "ticks": ""
            },
            "colorscale": [
             [
              0,
              "#0d0887"
             ],
             [
              0.1111111111111111,
              "#46039f"
             ],
             [
              0.2222222222222222,
              "#7201a8"
             ],
             [
              0.3333333333333333,
              "#9c179e"
             ],
             [
              0.4444444444444444,
              "#bd3786"
             ],
             [
              0.5555555555555556,
              "#d8576b"
             ],
             [
              0.6666666666666666,
              "#ed7953"
             ],
             [
              0.7777777777777778,
              "#fb9f3a"
             ],
             [
              0.8888888888888888,
              "#fdca26"
             ],
             [
              1,
              "#f0f921"
             ]
            ],
            "type": "contour"
           }
          ],
          "contourcarpet": [
           {
            "colorbar": {
             "outlinewidth": 0,
             "ticks": ""
            },
            "type": "contourcarpet"
           }
          ],
          "heatmap": [
           {
            "colorbar": {
             "outlinewidth": 0,
             "ticks": ""
            },
            "colorscale": [
             [
              0,
              "#0d0887"
             ],
             [
              0.1111111111111111,
              "#46039f"
             ],
             [
              0.2222222222222222,
              "#7201a8"
             ],
             [
              0.3333333333333333,
              "#9c179e"
             ],
             [
              0.4444444444444444,
              "#bd3786"
             ],
             [
              0.5555555555555556,
              "#d8576b"
             ],
             [
              0.6666666666666666,
              "#ed7953"
             ],
             [
              0.7777777777777778,
              "#fb9f3a"
             ],
             [
              0.8888888888888888,
              "#fdca26"
             ],
             [
              1,
              "#f0f921"
             ]
            ],
            "type": "heatmap"
           }
          ],
          "heatmapgl": [
           {
            "colorbar": {
             "outlinewidth": 0,
             "ticks": ""
            },
            "colorscale": [
             [
              0,
              "#0d0887"
             ],
             [
              0.1111111111111111,
              "#46039f"
             ],
             [
              0.2222222222222222,
              "#7201a8"
             ],
             [
              0.3333333333333333,
              "#9c179e"
             ],
             [
              0.4444444444444444,
              "#bd3786"
             ],
             [
              0.5555555555555556,
              "#d8576b"
             ],
             [
              0.6666666666666666,
              "#ed7953"
             ],
             [
              0.7777777777777778,
              "#fb9f3a"
             ],
             [
              0.8888888888888888,
              "#fdca26"
             ],
             [
              1,
              "#f0f921"
             ]
            ],
            "type": "heatmapgl"
           }
          ],
          "histogram": [
           {
            "marker": {
             "colorbar": {
              "outlinewidth": 0,
              "ticks": ""
             }
            },
            "type": "histogram"
           }
          ],
          "histogram2d": [
           {
            "colorbar": {
             "outlinewidth": 0,
             "ticks": ""
            },
            "colorscale": [
             [
              0,
              "#0d0887"
             ],
             [
              0.1111111111111111,
              "#46039f"
             ],
             [
              0.2222222222222222,
              "#7201a8"
             ],
             [
              0.3333333333333333,
              "#9c179e"
             ],
             [
              0.4444444444444444,
              "#bd3786"
             ],
             [
              0.5555555555555556,
              "#d8576b"
             ],
             [
              0.6666666666666666,
              "#ed7953"
             ],
             [
              0.7777777777777778,
              "#fb9f3a"
             ],
             [
              0.8888888888888888,
              "#fdca26"
             ],
             [
              1,
              "#f0f921"
             ]
            ],
            "type": "histogram2d"
           }
          ],
          "histogram2dcontour": [
           {
            "colorbar": {
             "outlinewidth": 0,
             "ticks": ""
            },
            "colorscale": [
             [
              0,
              "#0d0887"
             ],
             [
              0.1111111111111111,
              "#46039f"
             ],
             [
              0.2222222222222222,
              "#7201a8"
             ],
             [
              0.3333333333333333,
              "#9c179e"
             ],
             [
              0.4444444444444444,
              "#bd3786"
             ],
             [
              0.5555555555555556,
              "#d8576b"
             ],
             [
              0.6666666666666666,
              "#ed7953"
             ],
             [
              0.7777777777777778,
              "#fb9f3a"
             ],
             [
              0.8888888888888888,
              "#fdca26"
             ],
             [
              1,
              "#f0f921"
             ]
            ],
            "type": "histogram2dcontour"
           }
          ],
          "mesh3d": [
           {
            "colorbar": {
             "outlinewidth": 0,
             "ticks": ""
            },
            "type": "mesh3d"
           }
          ],
          "parcoords": [
           {
            "line": {
             "colorbar": {
              "outlinewidth": 0,
              "ticks": ""
             }
            },
            "type": "parcoords"
           }
          ],
          "pie": [
           {
            "automargin": true,
            "type": "pie"
           }
          ],
          "scatter": [
           {
            "marker": {
             "colorbar": {
              "outlinewidth": 0,
              "ticks": ""
             }
            },
            "type": "scatter"
           }
          ],
          "scatter3d": [
           {
            "line": {
             "colorbar": {
              "outlinewidth": 0,
              "ticks": ""
             }
            },
            "marker": {
             "colorbar": {
              "outlinewidth": 0,
              "ticks": ""
             }
            },
            "type": "scatter3d"
           }
          ],
          "scattercarpet": [
           {
            "marker": {
             "colorbar": {
              "outlinewidth": 0,
              "ticks": ""
             }
            },
            "type": "scattercarpet"
           }
          ],
          "scattergeo": [
           {
            "marker": {
             "colorbar": {
              "outlinewidth": 0,
              "ticks": ""
             }
            },
            "type": "scattergeo"
           }
          ],
          "scattergl": [
           {
            "marker": {
             "colorbar": {
              "outlinewidth": 0,
              "ticks": ""
             }
            },
            "type": "scattergl"
           }
          ],
          "scattermapbox": [
           {
            "marker": {
             "colorbar": {
              "outlinewidth": 0,
              "ticks": ""
             }
            },
            "type": "scattermapbox"
           }
          ],
          "scatterpolar": [
           {
            "marker": {
             "colorbar": {
              "outlinewidth": 0,
              "ticks": ""
             }
            },
            "type": "scatterpolar"
           }
          ],
          "scatterpolargl": [
           {
            "marker": {
             "colorbar": {
              "outlinewidth": 0,
              "ticks": ""
             }
            },
            "type": "scatterpolargl"
           }
          ],
          "scatterternary": [
           {
            "marker": {
             "colorbar": {
              "outlinewidth": 0,
              "ticks": ""
             }
            },
            "type": "scatterternary"
           }
          ],
          "surface": [
           {
            "colorbar": {
             "outlinewidth": 0,
             "ticks": ""
            },
            "colorscale": [
             [
              0,
              "#0d0887"
             ],
             [
              0.1111111111111111,
              "#46039f"
             ],
             [
              0.2222222222222222,
              "#7201a8"
             ],
             [
              0.3333333333333333,
              "#9c179e"
             ],
             [
              0.4444444444444444,
              "#bd3786"
             ],
             [
              0.5555555555555556,
              "#d8576b"
             ],
             [
              0.6666666666666666,
              "#ed7953"
             ],
             [
              0.7777777777777778,
              "#fb9f3a"
             ],
             [
              0.8888888888888888,
              "#fdca26"
             ],
             [
              1,
              "#f0f921"
             ]
            ],
            "type": "surface"
           }
          ],
          "table": [
           {
            "cells": {
             "fill": {
              "color": "#EBF0F8"
             },
             "line": {
              "color": "white"
             }
            },
            "header": {
             "fill": {
              "color": "#C8D4E3"
             },
             "line": {
              "color": "white"
             }
            },
            "type": "table"
           }
          ]
         },
         "layout": {
          "annotationdefaults": {
           "arrowcolor": "#2a3f5f",
           "arrowhead": 0,
           "arrowwidth": 1
          },
          "coloraxis": {
           "colorbar": {
            "outlinewidth": 0,
            "ticks": ""
           }
          },
          "colorscale": {
           "diverging": [
            [
             0,
             "#8e0152"
            ],
            [
             0.1,
             "#c51b7d"
            ],
            [
             0.2,
             "#de77ae"
            ],
            [
             0.3,
             "#f1b6da"
            ],
            [
             0.4,
             "#fde0ef"
            ],
            [
             0.5,
             "#f7f7f7"
            ],
            [
             0.6,
             "#e6f5d0"
            ],
            [
             0.7,
             "#b8e186"
            ],
            [
             0.8,
             "#7fbc41"
            ],
            [
             0.9,
             "#4d9221"
            ],
            [
             1,
             "#276419"
            ]
           ],
           "sequential": [
            [
             0,
             "#0d0887"
            ],
            [
             0.1111111111111111,
             "#46039f"
            ],
            [
             0.2222222222222222,
             "#7201a8"
            ],
            [
             0.3333333333333333,
             "#9c179e"
            ],
            [
             0.4444444444444444,
             "#bd3786"
            ],
            [
             0.5555555555555556,
             "#d8576b"
            ],
            [
             0.6666666666666666,
             "#ed7953"
            ],
            [
             0.7777777777777778,
             "#fb9f3a"
            ],
            [
             0.8888888888888888,
             "#fdca26"
            ],
            [
             1,
             "#f0f921"
            ]
           ],
           "sequentialminus": [
            [
             0,
             "#0d0887"
            ],
            [
             0.1111111111111111,
             "#46039f"
            ],
            [
             0.2222222222222222,
             "#7201a8"
            ],
            [
             0.3333333333333333,
             "#9c179e"
            ],
            [
             0.4444444444444444,
             "#bd3786"
            ],
            [
             0.5555555555555556,
             "#d8576b"
            ],
            [
             0.6666666666666666,
             "#ed7953"
            ],
            [
             0.7777777777777778,
             "#fb9f3a"
            ],
            [
             0.8888888888888888,
             "#fdca26"
            ],
            [
             1,
             "#f0f921"
            ]
           ]
          },
          "colorway": [
           "#636efa",
           "#EF553B",
           "#00cc96",
           "#ab63fa",
           "#FFA15A",
           "#19d3f3",
           "#FF6692",
           "#B6E880",
           "#FF97FF",
           "#FECB52"
          ],
          "font": {
           "color": "#2a3f5f"
          },
          "geo": {
           "bgcolor": "white",
           "lakecolor": "white",
           "landcolor": "#E5ECF6",
           "showlakes": true,
           "showland": true,
           "subunitcolor": "white"
          },
          "hoverlabel": {
           "align": "left"
          },
          "hovermode": "closest",
          "mapbox": {
           "style": "light"
          },
          "paper_bgcolor": "white",
          "plot_bgcolor": "#E5ECF6",
          "polar": {
           "angularaxis": {
            "gridcolor": "white",
            "linecolor": "white",
            "ticks": ""
           },
           "bgcolor": "#E5ECF6",
           "radialaxis": {
            "gridcolor": "white",
            "linecolor": "white",
            "ticks": ""
           }
          },
          "scene": {
           "xaxis": {
            "backgroundcolor": "#E5ECF6",
            "gridcolor": "white",
            "gridwidth": 2,
            "linecolor": "white",
            "showbackground": true,
            "ticks": "",
            "zerolinecolor": "white"
           },
           "yaxis": {
            "backgroundcolor": "#E5ECF6",
            "gridcolor": "white",
            "gridwidth": 2,
            "linecolor": "white",
            "showbackground": true,
            "ticks": "",
            "zerolinecolor": "white"
           },
           "zaxis": {
            "backgroundcolor": "#E5ECF6",
            "gridcolor": "white",
            "gridwidth": 2,
            "linecolor": "white",
            "showbackground": true,
            "ticks": "",
            "zerolinecolor": "white"
           }
          },
          "shapedefaults": {
           "line": {
            "color": "#2a3f5f"
           }
          },
          "ternary": {
           "aaxis": {
            "gridcolor": "white",
            "linecolor": "white",
            "ticks": ""
           },
           "baxis": {
            "gridcolor": "white",
            "linecolor": "white",
            "ticks": ""
           },
           "bgcolor": "#E5ECF6",
           "caxis": {
            "gridcolor": "white",
            "linecolor": "white",
            "ticks": ""
           }
          },
          "title": {
           "x": 0.05
          },
          "xaxis": {
           "automargin": true,
           "gridcolor": "white",
           "linecolor": "white",
           "ticks": "",
           "title": {
            "standoff": 15
           },
           "zerolinecolor": "white",
           "zerolinewidth": 2
          },
          "yaxis": {
           "automargin": true,
           "gridcolor": "white",
           "linecolor": "white",
           "ticks": "",
           "title": {
            "standoff": 15
           },
           "zerolinecolor": "white",
           "zerolinewidth": 2
          }
         }
        },
        "title": {
         "font": {
          "color": "#4D5663"
         }
        },
        "xaxis": {
         "gridcolor": "#E1E5ED",
         "showgrid": true,
         "tickfont": {
          "color": "#4D5663"
         },
         "title": {
          "font": {
           "color": "#4D5663"
          },
          "text": "States"
         },
         "zerolinecolor": "#E1E5ED"
        },
        "yaxis": {
         "gridcolor": "#E1E5ED",
         "showgrid": true,
         "tickfont": {
          "color": "#4D5663"
         },
         "title": {
          "font": {
           "color": "#4D5663"
          },
          "text": "Nuber of Deaths"
         },
         "zerolinecolor": "#E1E5ED"
        }
       }
      },
      "text/html": [
       "<div>\n",
       "        \n",
       "        \n",
       "            <div id=\"c17e6385-40ed-4985-a9e2-b5949b902f53\" class=\"plotly-graph-div\" style=\"height:525px; width:100%;\"></div>\n",
       "            <script type=\"text/javascript\">\n",
       "                require([\"plotly\"], function(Plotly) {\n",
       "                    window.PLOTLYENV=window.PLOTLYENV || {};\n",
       "                    window.PLOTLYENV.BASE_URL='https://plot.ly';\n",
       "                    \n",
       "                if (document.getElementById(\"c17e6385-40ed-4985-a9e2-b5949b902f53\")) {\n",
       "                    Plotly.newPlot(\n",
       "                        'c17e6385-40ed-4985-a9e2-b5949b902f53',\n",
       "                        [{\"marker\": {\"color\": \"rgba(255, 153, 51, 0.6)\", \"line\": {\"color\": \"rgba(255, 153, 51, 1.0)\", \"width\": 1}}, \"name\": \"Deaths\", \"orientation\": \"v\", \"text\": \"\", \"type\": \"bar\", \"x\": [\"Andaman and Nicobar Islands\", \"Andhra Pradesh\", \"Arunachal Pradesh\", \"Assam\", \"Bihar\", \"Chandigarh\", \"Chhattisgarh\", \"Dadra and Nagar Haveli and Daman and Diu\", \"Delhi\", \"Goa\", \"Gujarat\", \"Haryana\", \"Himachal Pradesh\", \"Jammu and Kashmir\", \"Jharkhand\", \"Karnataka\", \"Kerala\", \"Ladakh\", \"Lakshadweep\", \"Madhya Pradesh\", \"Maharashtra\", \"Manipur\", \"Meghalaya\", \"Mizoram\", \"Nagaland\", \"Odisha\", \"Puducherry\", \"Punjab\", \"Rajasthan\", \"Sikkim\", \"State Unassigned\", \"Tamil Nadu\", \"Telangana\", \"Tripura\", \"Uttar Pradesh\", \"Uttarakhand\", \"West Bengal\"], \"y\": [0, 84, 0, 8, 36, 6, 6, 0, 1327, 0, 1478, 88, 7, 59, 8, 87, 20, 1, 0, 459, 3950, 0, 1, 0, 0, 14, 4, 67, 292, 0, 0, 435, 185, 1, 399, 24, 475]}],\n",
       "                        {\"legend\": {\"bgcolor\": \"#F5F6F9\", \"font\": {\"color\": \"#4D5663\"}}, \"paper_bgcolor\": \"#F5F6F9\", \"plot_bgcolor\": \"#F5F6F9\", \"template\": {\"data\": {\"bar\": [{\"error_x\": {\"color\": \"#2a3f5f\"}, \"error_y\": {\"color\": \"#2a3f5f\"}, \"marker\": {\"line\": {\"color\": \"#E5ECF6\", \"width\": 0.5}}, \"type\": \"bar\"}], \"barpolar\": [{\"marker\": {\"line\": {\"color\": \"#E5ECF6\", \"width\": 0.5}}, \"type\": \"barpolar\"}], \"carpet\": [{\"aaxis\": {\"endlinecolor\": \"#2a3f5f\", \"gridcolor\": \"white\", \"linecolor\": \"white\", \"minorgridcolor\": \"white\", \"startlinecolor\": \"#2a3f5f\"}, \"baxis\": {\"endlinecolor\": \"#2a3f5f\", \"gridcolor\": \"white\", \"linecolor\": \"white\", \"minorgridcolor\": \"white\", \"startlinecolor\": \"#2a3f5f\"}, \"type\": \"carpet\"}], \"choropleth\": [{\"colorbar\": {\"outlinewidth\": 0, \"ticks\": \"\"}, \"type\": \"choropleth\"}], \"contour\": [{\"colorbar\": {\"outlinewidth\": 0, \"ticks\": \"\"}, \"colorscale\": [[0.0, \"#0d0887\"], [0.1111111111111111, \"#46039f\"], [0.2222222222222222, \"#7201a8\"], [0.3333333333333333, \"#9c179e\"], [0.4444444444444444, \"#bd3786\"], [0.5555555555555556, \"#d8576b\"], [0.6666666666666666, \"#ed7953\"], [0.7777777777777778, \"#fb9f3a\"], [0.8888888888888888, \"#fdca26\"], [1.0, \"#f0f921\"]], \"type\": \"contour\"}], \"contourcarpet\": [{\"colorbar\": {\"outlinewidth\": 0, \"ticks\": \"\"}, \"type\": \"contourcarpet\"}], \"heatmap\": [{\"colorbar\": {\"outlinewidth\": 0, \"ticks\": \"\"}, \"colorscale\": [[0.0, \"#0d0887\"], [0.1111111111111111, \"#46039f\"], [0.2222222222222222, \"#7201a8\"], [0.3333333333333333, \"#9c179e\"], [0.4444444444444444, \"#bd3786\"], [0.5555555555555556, \"#d8576b\"], [0.6666666666666666, \"#ed7953\"], [0.7777777777777778, \"#fb9f3a\"], [0.8888888888888888, \"#fdca26\"], [1.0, \"#f0f921\"]], \"type\": \"heatmap\"}], \"heatmapgl\": [{\"colorbar\": {\"outlinewidth\": 0, \"ticks\": \"\"}, \"colorscale\": [[0.0, \"#0d0887\"], [0.1111111111111111, \"#46039f\"], [0.2222222222222222, \"#7201a8\"], [0.3333333333333333, \"#9c179e\"], [0.4444444444444444, \"#bd3786\"], [0.5555555555555556, \"#d8576b\"], [0.6666666666666666, \"#ed7953\"], [0.7777777777777778, \"#fb9f3a\"], [0.8888888888888888, \"#fdca26\"], [1.0, \"#f0f921\"]], \"type\": \"heatmapgl\"}], \"histogram\": [{\"marker\": {\"colorbar\": {\"outlinewidth\": 0, \"ticks\": \"\"}}, \"type\": \"histogram\"}], \"histogram2d\": [{\"colorbar\": {\"outlinewidth\": 0, \"ticks\": \"\"}, \"colorscale\": [[0.0, \"#0d0887\"], [0.1111111111111111, \"#46039f\"], [0.2222222222222222, \"#7201a8\"], [0.3333333333333333, \"#9c179e\"], [0.4444444444444444, \"#bd3786\"], [0.5555555555555556, \"#d8576b\"], [0.6666666666666666, \"#ed7953\"], [0.7777777777777778, \"#fb9f3a\"], [0.8888888888888888, \"#fdca26\"], [1.0, \"#f0f921\"]], \"type\": \"histogram2d\"}], \"histogram2dcontour\": [{\"colorbar\": {\"outlinewidth\": 0, \"ticks\": \"\"}, \"colorscale\": [[0.0, \"#0d0887\"], [0.1111111111111111, \"#46039f\"], [0.2222222222222222, \"#7201a8\"], [0.3333333333333333, \"#9c179e\"], [0.4444444444444444, \"#bd3786\"], [0.5555555555555556, \"#d8576b\"], [0.6666666666666666, \"#ed7953\"], [0.7777777777777778, \"#fb9f3a\"], [0.8888888888888888, \"#fdca26\"], [1.0, \"#f0f921\"]], \"type\": \"histogram2dcontour\"}], \"mesh3d\": [{\"colorbar\": {\"outlinewidth\": 0, \"ticks\": \"\"}, \"type\": \"mesh3d\"}], \"parcoords\": [{\"line\": {\"colorbar\": {\"outlinewidth\": 0, \"ticks\": \"\"}}, \"type\": \"parcoords\"}], \"pie\": [{\"automargin\": true, \"type\": \"pie\"}], \"scatter\": [{\"marker\": {\"colorbar\": {\"outlinewidth\": 0, \"ticks\": \"\"}}, \"type\": \"scatter\"}], \"scatter3d\": [{\"line\": {\"colorbar\": {\"outlinewidth\": 0, \"ticks\": \"\"}}, \"marker\": {\"colorbar\": {\"outlinewidth\": 0, \"ticks\": \"\"}}, \"type\": \"scatter3d\"}], \"scattercarpet\": [{\"marker\": {\"colorbar\": {\"outlinewidth\": 0, \"ticks\": \"\"}}, \"type\": \"scattercarpet\"}], \"scattergeo\": [{\"marker\": {\"colorbar\": {\"outlinewidth\": 0, \"ticks\": \"\"}}, \"type\": \"scattergeo\"}], \"scattergl\": [{\"marker\": {\"colorbar\": {\"outlinewidth\": 0, \"ticks\": \"\"}}, \"type\": \"scattergl\"}], \"scattermapbox\": [{\"marker\": {\"colorbar\": {\"outlinewidth\": 0, \"ticks\": \"\"}}, \"type\": \"scattermapbox\"}], \"scatterpolar\": [{\"marker\": {\"colorbar\": {\"outlinewidth\": 0, \"ticks\": \"\"}}, \"type\": \"scatterpolar\"}], \"scatterpolargl\": [{\"marker\": {\"colorbar\": {\"outlinewidth\": 0, \"ticks\": \"\"}}, \"type\": \"scatterpolargl\"}], \"scatterternary\": [{\"marker\": {\"colorbar\": {\"outlinewidth\": 0, \"ticks\": \"\"}}, \"type\": \"scatterternary\"}], \"surface\": [{\"colorbar\": {\"outlinewidth\": 0, \"ticks\": \"\"}, \"colorscale\": [[0.0, \"#0d0887\"], [0.1111111111111111, \"#46039f\"], [0.2222222222222222, \"#7201a8\"], [0.3333333333333333, \"#9c179e\"], [0.4444444444444444, \"#bd3786\"], [0.5555555555555556, \"#d8576b\"], [0.6666666666666666, \"#ed7953\"], [0.7777777777777778, \"#fb9f3a\"], [0.8888888888888888, \"#fdca26\"], [1.0, \"#f0f921\"]], \"type\": \"surface\"}], \"table\": [{\"cells\": {\"fill\": {\"color\": \"#EBF0F8\"}, \"line\": {\"color\": \"white\"}}, \"header\": {\"fill\": {\"color\": \"#C8D4E3\"}, \"line\": {\"color\": \"white\"}}, \"type\": \"table\"}]}, \"layout\": {\"annotationdefaults\": {\"arrowcolor\": \"#2a3f5f\", \"arrowhead\": 0, \"arrowwidth\": 1}, \"coloraxis\": {\"colorbar\": {\"outlinewidth\": 0, \"ticks\": \"\"}}, \"colorscale\": {\"diverging\": [[0, \"#8e0152\"], [0.1, \"#c51b7d\"], [0.2, \"#de77ae\"], [0.3, \"#f1b6da\"], [0.4, \"#fde0ef\"], [0.5, \"#f7f7f7\"], [0.6, \"#e6f5d0\"], [0.7, \"#b8e186\"], [0.8, \"#7fbc41\"], [0.9, \"#4d9221\"], [1, \"#276419\"]], \"sequential\": [[0.0, \"#0d0887\"], [0.1111111111111111, \"#46039f\"], [0.2222222222222222, \"#7201a8\"], [0.3333333333333333, \"#9c179e\"], [0.4444444444444444, \"#bd3786\"], [0.5555555555555556, \"#d8576b\"], [0.6666666666666666, \"#ed7953\"], [0.7777777777777778, \"#fb9f3a\"], [0.8888888888888888, \"#fdca26\"], [1.0, \"#f0f921\"]], \"sequentialminus\": [[0.0, \"#0d0887\"], [0.1111111111111111, \"#46039f\"], [0.2222222222222222, \"#7201a8\"], [0.3333333333333333, \"#9c179e\"], [0.4444444444444444, \"#bd3786\"], [0.5555555555555556, \"#d8576b\"], [0.6666666666666666, \"#ed7953\"], [0.7777777777777778, \"#fb9f3a\"], [0.8888888888888888, \"#fdca26\"], [1.0, \"#f0f921\"]]}, \"colorway\": [\"#636efa\", \"#EF553B\", \"#00cc96\", \"#ab63fa\", \"#FFA15A\", \"#19d3f3\", \"#FF6692\", \"#B6E880\", \"#FF97FF\", \"#FECB52\"], \"font\": {\"color\": \"#2a3f5f\"}, \"geo\": {\"bgcolor\": \"white\", \"lakecolor\": \"white\", \"landcolor\": \"#E5ECF6\", \"showlakes\": true, \"showland\": true, \"subunitcolor\": \"white\"}, \"hoverlabel\": {\"align\": \"left\"}, \"hovermode\": \"closest\", \"mapbox\": {\"style\": \"light\"}, \"paper_bgcolor\": \"white\", \"plot_bgcolor\": \"#E5ECF6\", \"polar\": {\"angularaxis\": {\"gridcolor\": \"white\", \"linecolor\": \"white\", \"ticks\": \"\"}, \"bgcolor\": \"#E5ECF6\", \"radialaxis\": {\"gridcolor\": \"white\", \"linecolor\": \"white\", \"ticks\": \"\"}}, \"scene\": {\"xaxis\": {\"backgroundcolor\": \"#E5ECF6\", \"gridcolor\": \"white\", \"gridwidth\": 2, \"linecolor\": \"white\", \"showbackground\": true, \"ticks\": \"\", \"zerolinecolor\": \"white\"}, \"yaxis\": {\"backgroundcolor\": \"#E5ECF6\", \"gridcolor\": \"white\", \"gridwidth\": 2, \"linecolor\": \"white\", \"showbackground\": true, \"ticks\": \"\", \"zerolinecolor\": \"white\"}, \"zaxis\": {\"backgroundcolor\": \"#E5ECF6\", \"gridcolor\": \"white\", \"gridwidth\": 2, \"linecolor\": \"white\", \"showbackground\": true, \"ticks\": \"\", \"zerolinecolor\": \"white\"}}, \"shapedefaults\": {\"line\": {\"color\": \"#2a3f5f\"}}, \"ternary\": {\"aaxis\": {\"gridcolor\": \"white\", \"linecolor\": \"white\", \"ticks\": \"\"}, \"baxis\": {\"gridcolor\": \"white\", \"linecolor\": \"white\", \"ticks\": \"\"}, \"bgcolor\": \"#E5ECF6\", \"caxis\": {\"gridcolor\": \"white\", \"linecolor\": \"white\", \"ticks\": \"\"}}, \"title\": {\"x\": 0.05}, \"xaxis\": {\"automargin\": true, \"gridcolor\": \"white\", \"linecolor\": \"white\", \"ticks\": \"\", \"title\": {\"standoff\": 15}, \"zerolinecolor\": \"white\", \"zerolinewidth\": 2}, \"yaxis\": {\"automargin\": true, \"gridcolor\": \"white\", \"linecolor\": \"white\", \"ticks\": \"\", \"title\": {\"standoff\": 15}, \"zerolinecolor\": \"white\", \"zerolinewidth\": 2}}}, \"title\": {\"font\": {\"color\": \"#4D5663\"}}, \"xaxis\": {\"gridcolor\": \"#E1E5ED\", \"showgrid\": true, \"tickfont\": {\"color\": \"#4D5663\"}, \"title\": {\"font\": {\"color\": \"#4D5663\"}, \"text\": \"States\"}, \"zerolinecolor\": \"#E1E5ED\"}, \"yaxis\": {\"gridcolor\": \"#E1E5ED\", \"showgrid\": true, \"tickfont\": {\"color\": \"#4D5663\"}, \"title\": {\"font\": {\"color\": \"#4D5663\"}, \"text\": \"Nuber of Deaths\"}, \"zerolinecolor\": \"#E1E5ED\"}},\n",
       "                        {\"showLink\": true, \"linkText\": \"Export to plot.ly\", \"plotlyServerURL\": \"https://plot.ly\", \"responsive\": true}\n",
       "                    ).then(function(){\n",
       "                            \n",
       "var gd = document.getElementById('c17e6385-40ed-4985-a9e2-b5949b902f53');\n",
       "var x = new MutationObserver(function (mutations, observer) {{\n",
       "        var display = window.getComputedStyle(gd).display;\n",
       "        if (!display || display === 'none') {{\n",
       "            console.log([gd, 'removed!']);\n",
       "            Plotly.purge(gd);\n",
       "            observer.disconnect();\n",
       "        }}\n",
       "}});\n",
       "\n",
       "// Listen for the removal of the full notebook cells\n",
       "var notebookContainer = gd.closest('#notebook-container');\n",
       "if (notebookContainer) {{\n",
       "    x.observe(notebookContainer, {childList: true});\n",
       "}}\n",
       "\n",
       "// Listen for the clearing of the current output cell\n",
       "var outputEl = gd.closest('.output');\n",
       "if (outputEl) {{\n",
       "    x.observe(outputEl, {childList: true});\n",
       "}}\n",
       "\n",
       "                        })\n",
       "                };\n",
       "                });\n",
       "            </script>\n",
       "        </div>"
      ]
     },
     "metadata": {},
     "output_type": "display_data"
    }
   ],
   "source": [
    "#Plotly\n",
    "#Confirm\n",
    "Confirm.iplot(kind='bar',yaxis_title=\"Nuber of Deaths\",xaxis_title=\"States\",)"
   ]
  },
  {
   "cell_type": "markdown",
   "metadata": {},
   "source": [
    "#### Visualization Plotly Express"
   ]
  },
  {
   "cell_type": "code",
   "execution_count": 238,
   "metadata": {},
   "outputs": [],
   "source": [
    "Confirm1=Clean_dta.groupby('State')['Confirmed'].sum()"
   ]
  },
  {
   "cell_type": "code",
   "execution_count": 242,
   "metadata": {
    "scrolled": false
   },
   "outputs": [
    {
     "data": {
      "application/vnd.plotly.v1+json": {
       "config": {
        "plotlyServerURL": "https://plot.ly"
       },
       "data": [
        {
         "alignmentgroup": "True",
         "hovertemplate": "variable=Confirmed<br>State=%{x}<br>value=%{y}<extra></extra>",
         "legendgroup": "Confirmed",
         "marker": {
          "color": "#636efa"
         },
         "name": "Confirmed",
         "offsetgroup": "Confirmed",
         "orientation": "v",
         "showlegend": true,
         "textposition": "auto",
         "type": "bar",
         "x": [
          "Andaman and Nicobar Islands",
          "Andhra Pradesh",
          "Arunachal Pradesh",
          "Assam",
          "Bihar",
          "Chandigarh",
          "Chhattisgarh",
          "Dadra and Nagar Haveli and Daman and Diu",
          "Delhi",
          "Goa",
          "Gujarat",
          "Haryana",
          "Himachal Pradesh",
          "Jammu and Kashmir",
          "Jharkhand",
          "Karnataka",
          "Kerala",
          "Ladakh",
          "Lakshadweep",
          "Madhya Pradesh",
          "Maharashtra",
          "Manipur",
          "Meghalaya",
          "Mizoram",
          "Nagaland",
          "Odisha",
          "Puducherry",
          "Punjab",
          "Rajasthan",
          "Sikkim",
          "State Unassigned",
          "Tamil Nadu",
          "Telangana",
          "Tripura",
          "Uttar Pradesh",
          "Uttarakhand",
          "West Bengal"
         ],
         "xaxis": "x",
         "y": [
          41,
          6152,
          91,
          4119,
          6475,
          353,
          1662,
          36,
          41182,
          564,
          23590,
          7208,
          518,
          5041,
          1748,
          7000,
          2462,
          549,
          0,
          10802,
          107958,
          458,
          44,
          117,
          177,
          3909,
          194,
          3140,
          12694,
          68,
          6972,
          44661,
          4974,
          1079,
          13615,
          1819,
          11087
         ],
         "yaxis": "y"
        }
       ],
       "layout": {
        "barmode": "relative",
        "legend": {
         "title": {
          "text": "variable"
         },
         "tracegroupgap": 0
        },
        "margin": {
         "t": 60
        },
        "template": {
         "data": {
          "bar": [
           {
            "error_x": {
             "color": "#2a3f5f"
            },
            "error_y": {
             "color": "#2a3f5f"
            },
            "marker": {
             "line": {
              "color": "#E5ECF6",
              "width": 0.5
             }
            },
            "type": "bar"
           }
          ],
          "barpolar": [
           {
            "marker": {
             "line": {
              "color": "#E5ECF6",
              "width": 0.5
             }
            },
            "type": "barpolar"
           }
          ],
          "carpet": [
           {
            "aaxis": {
             "endlinecolor": "#2a3f5f",
             "gridcolor": "white",
             "linecolor": "white",
             "minorgridcolor": "white",
             "startlinecolor": "#2a3f5f"
            },
            "baxis": {
             "endlinecolor": "#2a3f5f",
             "gridcolor": "white",
             "linecolor": "white",
             "minorgridcolor": "white",
             "startlinecolor": "#2a3f5f"
            },
            "type": "carpet"
           }
          ],
          "choropleth": [
           {
            "colorbar": {
             "outlinewidth": 0,
             "ticks": ""
            },
            "type": "choropleth"
           }
          ],
          "contour": [
           {
            "colorbar": {
             "outlinewidth": 0,
             "ticks": ""
            },
            "colorscale": [
             [
              0,
              "#0d0887"
             ],
             [
              0.1111111111111111,
              "#46039f"
             ],
             [
              0.2222222222222222,
              "#7201a8"
             ],
             [
              0.3333333333333333,
              "#9c179e"
             ],
             [
              0.4444444444444444,
              "#bd3786"
             ],
             [
              0.5555555555555556,
              "#d8576b"
             ],
             [
              0.6666666666666666,
              "#ed7953"
             ],
             [
              0.7777777777777778,
              "#fb9f3a"
             ],
             [
              0.8888888888888888,
              "#fdca26"
             ],
             [
              1,
              "#f0f921"
             ]
            ],
            "type": "contour"
           }
          ],
          "contourcarpet": [
           {
            "colorbar": {
             "outlinewidth": 0,
             "ticks": ""
            },
            "type": "contourcarpet"
           }
          ],
          "heatmap": [
           {
            "colorbar": {
             "outlinewidth": 0,
             "ticks": ""
            },
            "colorscale": [
             [
              0,
              "#0d0887"
             ],
             [
              0.1111111111111111,
              "#46039f"
             ],
             [
              0.2222222222222222,
              "#7201a8"
             ],
             [
              0.3333333333333333,
              "#9c179e"
             ],
             [
              0.4444444444444444,
              "#bd3786"
             ],
             [
              0.5555555555555556,
              "#d8576b"
             ],
             [
              0.6666666666666666,
              "#ed7953"
             ],
             [
              0.7777777777777778,
              "#fb9f3a"
             ],
             [
              0.8888888888888888,
              "#fdca26"
             ],
             [
              1,
              "#f0f921"
             ]
            ],
            "type": "heatmap"
           }
          ],
          "heatmapgl": [
           {
            "colorbar": {
             "outlinewidth": 0,
             "ticks": ""
            },
            "colorscale": [
             [
              0,
              "#0d0887"
             ],
             [
              0.1111111111111111,
              "#46039f"
             ],
             [
              0.2222222222222222,
              "#7201a8"
             ],
             [
              0.3333333333333333,
              "#9c179e"
             ],
             [
              0.4444444444444444,
              "#bd3786"
             ],
             [
              0.5555555555555556,
              "#d8576b"
             ],
             [
              0.6666666666666666,
              "#ed7953"
             ],
             [
              0.7777777777777778,
              "#fb9f3a"
             ],
             [
              0.8888888888888888,
              "#fdca26"
             ],
             [
              1,
              "#f0f921"
             ]
            ],
            "type": "heatmapgl"
           }
          ],
          "histogram": [
           {
            "marker": {
             "colorbar": {
              "outlinewidth": 0,
              "ticks": ""
             }
            },
            "type": "histogram"
           }
          ],
          "histogram2d": [
           {
            "colorbar": {
             "outlinewidth": 0,
             "ticks": ""
            },
            "colorscale": [
             [
              0,
              "#0d0887"
             ],
             [
              0.1111111111111111,
              "#46039f"
             ],
             [
              0.2222222222222222,
              "#7201a8"
             ],
             [
              0.3333333333333333,
              "#9c179e"
             ],
             [
              0.4444444444444444,
              "#bd3786"
             ],
             [
              0.5555555555555556,
              "#d8576b"
             ],
             [
              0.6666666666666666,
              "#ed7953"
             ],
             [
              0.7777777777777778,
              "#fb9f3a"
             ],
             [
              0.8888888888888888,
              "#fdca26"
             ],
             [
              1,
              "#f0f921"
             ]
            ],
            "type": "histogram2d"
           }
          ],
          "histogram2dcontour": [
           {
            "colorbar": {
             "outlinewidth": 0,
             "ticks": ""
            },
            "colorscale": [
             [
              0,
              "#0d0887"
             ],
             [
              0.1111111111111111,
              "#46039f"
             ],
             [
              0.2222222222222222,
              "#7201a8"
             ],
             [
              0.3333333333333333,
              "#9c179e"
             ],
             [
              0.4444444444444444,
              "#bd3786"
             ],
             [
              0.5555555555555556,
              "#d8576b"
             ],
             [
              0.6666666666666666,
              "#ed7953"
             ],
             [
              0.7777777777777778,
              "#fb9f3a"
             ],
             [
              0.8888888888888888,
              "#fdca26"
             ],
             [
              1,
              "#f0f921"
             ]
            ],
            "type": "histogram2dcontour"
           }
          ],
          "mesh3d": [
           {
            "colorbar": {
             "outlinewidth": 0,
             "ticks": ""
            },
            "type": "mesh3d"
           }
          ],
          "parcoords": [
           {
            "line": {
             "colorbar": {
              "outlinewidth": 0,
              "ticks": ""
             }
            },
            "type": "parcoords"
           }
          ],
          "pie": [
           {
            "automargin": true,
            "type": "pie"
           }
          ],
          "scatter": [
           {
            "marker": {
             "colorbar": {
              "outlinewidth": 0,
              "ticks": ""
             }
            },
            "type": "scatter"
           }
          ],
          "scatter3d": [
           {
            "line": {
             "colorbar": {
              "outlinewidth": 0,
              "ticks": ""
             }
            },
            "marker": {
             "colorbar": {
              "outlinewidth": 0,
              "ticks": ""
             }
            },
            "type": "scatter3d"
           }
          ],
          "scattercarpet": [
           {
            "marker": {
             "colorbar": {
              "outlinewidth": 0,
              "ticks": ""
             }
            },
            "type": "scattercarpet"
           }
          ],
          "scattergeo": [
           {
            "marker": {
             "colorbar": {
              "outlinewidth": 0,
              "ticks": ""
             }
            },
            "type": "scattergeo"
           }
          ],
          "scattergl": [
           {
            "marker": {
             "colorbar": {
              "outlinewidth": 0,
              "ticks": ""
             }
            },
            "type": "scattergl"
           }
          ],
          "scattermapbox": [
           {
            "marker": {
             "colorbar": {
              "outlinewidth": 0,
              "ticks": ""
             }
            },
            "type": "scattermapbox"
           }
          ],
          "scatterpolar": [
           {
            "marker": {
             "colorbar": {
              "outlinewidth": 0,
              "ticks": ""
             }
            },
            "type": "scatterpolar"
           }
          ],
          "scatterpolargl": [
           {
            "marker": {
             "colorbar": {
              "outlinewidth": 0,
              "ticks": ""
             }
            },
            "type": "scatterpolargl"
           }
          ],
          "scatterternary": [
           {
            "marker": {
             "colorbar": {
              "outlinewidth": 0,
              "ticks": ""
             }
            },
            "type": "scatterternary"
           }
          ],
          "surface": [
           {
            "colorbar": {
             "outlinewidth": 0,
             "ticks": ""
            },
            "colorscale": [
             [
              0,
              "#0d0887"
             ],
             [
              0.1111111111111111,
              "#46039f"
             ],
             [
              0.2222222222222222,
              "#7201a8"
             ],
             [
              0.3333333333333333,
              "#9c179e"
             ],
             [
              0.4444444444444444,
              "#bd3786"
             ],
             [
              0.5555555555555556,
              "#d8576b"
             ],
             [
              0.6666666666666666,
              "#ed7953"
             ],
             [
              0.7777777777777778,
              "#fb9f3a"
             ],
             [
              0.8888888888888888,
              "#fdca26"
             ],
             [
              1,
              "#f0f921"
             ]
            ],
            "type": "surface"
           }
          ],
          "table": [
           {
            "cells": {
             "fill": {
              "color": "#EBF0F8"
             },
             "line": {
              "color": "white"
             }
            },
            "header": {
             "fill": {
              "color": "#C8D4E3"
             },
             "line": {
              "color": "white"
             }
            },
            "type": "table"
           }
          ]
         },
         "layout": {
          "annotationdefaults": {
           "arrowcolor": "#2a3f5f",
           "arrowhead": 0,
           "arrowwidth": 1
          },
          "coloraxis": {
           "colorbar": {
            "outlinewidth": 0,
            "ticks": ""
           }
          },
          "colorscale": {
           "diverging": [
            [
             0,
             "#8e0152"
            ],
            [
             0.1,
             "#c51b7d"
            ],
            [
             0.2,
             "#de77ae"
            ],
            [
             0.3,
             "#f1b6da"
            ],
            [
             0.4,
             "#fde0ef"
            ],
            [
             0.5,
             "#f7f7f7"
            ],
            [
             0.6,
             "#e6f5d0"
            ],
            [
             0.7,
             "#b8e186"
            ],
            [
             0.8,
             "#7fbc41"
            ],
            [
             0.9,
             "#4d9221"
            ],
            [
             1,
             "#276419"
            ]
           ],
           "sequential": [
            [
             0,
             "#0d0887"
            ],
            [
             0.1111111111111111,
             "#46039f"
            ],
            [
             0.2222222222222222,
             "#7201a8"
            ],
            [
             0.3333333333333333,
             "#9c179e"
            ],
            [
             0.4444444444444444,
             "#bd3786"
            ],
            [
             0.5555555555555556,
             "#d8576b"
            ],
            [
             0.6666666666666666,
             "#ed7953"
            ],
            [
             0.7777777777777778,
             "#fb9f3a"
            ],
            [
             0.8888888888888888,
             "#fdca26"
            ],
            [
             1,
             "#f0f921"
            ]
           ],
           "sequentialminus": [
            [
             0,
             "#0d0887"
            ],
            [
             0.1111111111111111,
             "#46039f"
            ],
            [
             0.2222222222222222,
             "#7201a8"
            ],
            [
             0.3333333333333333,
             "#9c179e"
            ],
            [
             0.4444444444444444,
             "#bd3786"
            ],
            [
             0.5555555555555556,
             "#d8576b"
            ],
            [
             0.6666666666666666,
             "#ed7953"
            ],
            [
             0.7777777777777778,
             "#fb9f3a"
            ],
            [
             0.8888888888888888,
             "#fdca26"
            ],
            [
             1,
             "#f0f921"
            ]
           ]
          },
          "colorway": [
           "#636efa",
           "#EF553B",
           "#00cc96",
           "#ab63fa",
           "#FFA15A",
           "#19d3f3",
           "#FF6692",
           "#B6E880",
           "#FF97FF",
           "#FECB52"
          ],
          "font": {
           "color": "#2a3f5f"
          },
          "geo": {
           "bgcolor": "white",
           "lakecolor": "white",
           "landcolor": "#E5ECF6",
           "showlakes": true,
           "showland": true,
           "subunitcolor": "white"
          },
          "hoverlabel": {
           "align": "left"
          },
          "hovermode": "closest",
          "mapbox": {
           "style": "light"
          },
          "paper_bgcolor": "white",
          "plot_bgcolor": "#E5ECF6",
          "polar": {
           "angularaxis": {
            "gridcolor": "white",
            "linecolor": "white",
            "ticks": ""
           },
           "bgcolor": "#E5ECF6",
           "radialaxis": {
            "gridcolor": "white",
            "linecolor": "white",
            "ticks": ""
           }
          },
          "scene": {
           "xaxis": {
            "backgroundcolor": "#E5ECF6",
            "gridcolor": "white",
            "gridwidth": 2,
            "linecolor": "white",
            "showbackground": true,
            "ticks": "",
            "zerolinecolor": "white"
           },
           "yaxis": {
            "backgroundcolor": "#E5ECF6",
            "gridcolor": "white",
            "gridwidth": 2,
            "linecolor": "white",
            "showbackground": true,
            "ticks": "",
            "zerolinecolor": "white"
           },
           "zaxis": {
            "backgroundcolor": "#E5ECF6",
            "gridcolor": "white",
            "gridwidth": 2,
            "linecolor": "white",
            "showbackground": true,
            "ticks": "",
            "zerolinecolor": "white"
           }
          },
          "shapedefaults": {
           "line": {
            "color": "#2a3f5f"
           }
          },
          "ternary": {
           "aaxis": {
            "gridcolor": "white",
            "linecolor": "white",
            "ticks": ""
           },
           "baxis": {
            "gridcolor": "white",
            "linecolor": "white",
            "ticks": ""
           },
           "bgcolor": "#E5ECF6",
           "caxis": {
            "gridcolor": "white",
            "linecolor": "white",
            "ticks": ""
           }
          },
          "title": {
           "x": 0.05
          },
          "xaxis": {
           "automargin": true,
           "gridcolor": "white",
           "linecolor": "white",
           "ticks": "",
           "title": {
            "standoff": 15
           },
           "zerolinecolor": "white",
           "zerolinewidth": 2
          },
          "yaxis": {
           "automargin": true,
           "gridcolor": "white",
           "linecolor": "white",
           "ticks": "",
           "title": {
            "standoff": 15
           },
           "zerolinecolor": "white",
           "zerolinewidth": 2
          }
         }
        },
        "xaxis": {
         "anchor": "y",
         "domain": [
          0,
          1
         ],
         "title": {
          "text": "State"
         }
        },
        "yaxis": {
         "anchor": "x",
         "domain": [
          0,
          1
         ],
         "title": {
          "text": "value"
         }
        }
       }
      },
      "text/html": [
       "<div>\n",
       "        \n",
       "        \n",
       "            <div id=\"f7a372a6-df17-45f0-a2e8-3164f9eb28ad\" class=\"plotly-graph-div\" style=\"height:525px; width:100%;\"></div>\n",
       "            <script type=\"text/javascript\">\n",
       "                require([\"plotly\"], function(Plotly) {\n",
       "                    window.PLOTLYENV=window.PLOTLYENV || {};\n",
       "                    \n",
       "                if (document.getElementById(\"f7a372a6-df17-45f0-a2e8-3164f9eb28ad\")) {\n",
       "                    Plotly.newPlot(\n",
       "                        'f7a372a6-df17-45f0-a2e8-3164f9eb28ad',\n",
       "                        [{\"alignmentgroup\": \"True\", \"hovertemplate\": \"variable=Confirmed<br>State=%{x}<br>value=%{y}<extra></extra>\", \"legendgroup\": \"Confirmed\", \"marker\": {\"color\": \"#636efa\"}, \"name\": \"Confirmed\", \"offsetgroup\": \"Confirmed\", \"orientation\": \"v\", \"showlegend\": true, \"textposition\": \"auto\", \"type\": \"bar\", \"x\": [\"Andaman and Nicobar Islands\", \"Andhra Pradesh\", \"Arunachal Pradesh\", \"Assam\", \"Bihar\", \"Chandigarh\", \"Chhattisgarh\", \"Dadra and Nagar Haveli and Daman and Diu\", \"Delhi\", \"Goa\", \"Gujarat\", \"Haryana\", \"Himachal Pradesh\", \"Jammu and Kashmir\", \"Jharkhand\", \"Karnataka\", \"Kerala\", \"Ladakh\", \"Lakshadweep\", \"Madhya Pradesh\", \"Maharashtra\", \"Manipur\", \"Meghalaya\", \"Mizoram\", \"Nagaland\", \"Odisha\", \"Puducherry\", \"Punjab\", \"Rajasthan\", \"Sikkim\", \"State Unassigned\", \"Tamil Nadu\", \"Telangana\", \"Tripura\", \"Uttar Pradesh\", \"Uttarakhand\", \"West Bengal\"], \"xaxis\": \"x\", \"y\": [41, 6152, 91, 4119, 6475, 353, 1662, 36, 41182, 564, 23590, 7208, 518, 5041, 1748, 7000, 2462, 549, 0, 10802, 107958, 458, 44, 117, 177, 3909, 194, 3140, 12694, 68, 6972, 44661, 4974, 1079, 13615, 1819, 11087], \"yaxis\": \"y\"}],\n",
       "                        {\"barmode\": \"relative\", \"legend\": {\"title\": {\"text\": \"variable\"}, \"tracegroupgap\": 0}, \"margin\": {\"t\": 60}, \"template\": {\"data\": {\"bar\": [{\"error_x\": {\"color\": \"#2a3f5f\"}, \"error_y\": {\"color\": \"#2a3f5f\"}, \"marker\": {\"line\": {\"color\": \"#E5ECF6\", \"width\": 0.5}}, \"type\": \"bar\"}], \"barpolar\": [{\"marker\": {\"line\": {\"color\": \"#E5ECF6\", \"width\": 0.5}}, \"type\": \"barpolar\"}], \"carpet\": [{\"aaxis\": {\"endlinecolor\": \"#2a3f5f\", \"gridcolor\": \"white\", \"linecolor\": \"white\", \"minorgridcolor\": \"white\", \"startlinecolor\": \"#2a3f5f\"}, \"baxis\": {\"endlinecolor\": \"#2a3f5f\", \"gridcolor\": \"white\", \"linecolor\": \"white\", \"minorgridcolor\": \"white\", \"startlinecolor\": \"#2a3f5f\"}, \"type\": \"carpet\"}], \"choropleth\": [{\"colorbar\": {\"outlinewidth\": 0, \"ticks\": \"\"}, \"type\": \"choropleth\"}], \"contour\": [{\"colorbar\": {\"outlinewidth\": 0, \"ticks\": \"\"}, \"colorscale\": [[0.0, \"#0d0887\"], [0.1111111111111111, \"#46039f\"], [0.2222222222222222, \"#7201a8\"], [0.3333333333333333, \"#9c179e\"], [0.4444444444444444, \"#bd3786\"], [0.5555555555555556, \"#d8576b\"], [0.6666666666666666, \"#ed7953\"], [0.7777777777777778, \"#fb9f3a\"], [0.8888888888888888, \"#fdca26\"], [1.0, \"#f0f921\"]], \"type\": \"contour\"}], \"contourcarpet\": [{\"colorbar\": {\"outlinewidth\": 0, \"ticks\": \"\"}, \"type\": \"contourcarpet\"}], \"heatmap\": [{\"colorbar\": {\"outlinewidth\": 0, \"ticks\": \"\"}, \"colorscale\": [[0.0, \"#0d0887\"], [0.1111111111111111, \"#46039f\"], [0.2222222222222222, \"#7201a8\"], [0.3333333333333333, \"#9c179e\"], [0.4444444444444444, \"#bd3786\"], [0.5555555555555556, \"#d8576b\"], [0.6666666666666666, \"#ed7953\"], [0.7777777777777778, \"#fb9f3a\"], [0.8888888888888888, \"#fdca26\"], [1.0, \"#f0f921\"]], \"type\": \"heatmap\"}], \"heatmapgl\": [{\"colorbar\": {\"outlinewidth\": 0, \"ticks\": \"\"}, \"colorscale\": [[0.0, \"#0d0887\"], [0.1111111111111111, \"#46039f\"], [0.2222222222222222, \"#7201a8\"], [0.3333333333333333, \"#9c179e\"], [0.4444444444444444, \"#bd3786\"], [0.5555555555555556, \"#d8576b\"], [0.6666666666666666, \"#ed7953\"], [0.7777777777777778, \"#fb9f3a\"], [0.8888888888888888, \"#fdca26\"], [1.0, \"#f0f921\"]], \"type\": \"heatmapgl\"}], \"histogram\": [{\"marker\": {\"colorbar\": {\"outlinewidth\": 0, \"ticks\": \"\"}}, \"type\": \"histogram\"}], \"histogram2d\": [{\"colorbar\": {\"outlinewidth\": 0, \"ticks\": \"\"}, \"colorscale\": [[0.0, \"#0d0887\"], [0.1111111111111111, \"#46039f\"], [0.2222222222222222, \"#7201a8\"], [0.3333333333333333, \"#9c179e\"], [0.4444444444444444, \"#bd3786\"], [0.5555555555555556, \"#d8576b\"], [0.6666666666666666, \"#ed7953\"], [0.7777777777777778, \"#fb9f3a\"], [0.8888888888888888, \"#fdca26\"], [1.0, \"#f0f921\"]], \"type\": \"histogram2d\"}], \"histogram2dcontour\": [{\"colorbar\": {\"outlinewidth\": 0, \"ticks\": \"\"}, \"colorscale\": [[0.0, \"#0d0887\"], [0.1111111111111111, \"#46039f\"], [0.2222222222222222, \"#7201a8\"], [0.3333333333333333, \"#9c179e\"], [0.4444444444444444, \"#bd3786\"], [0.5555555555555556, \"#d8576b\"], [0.6666666666666666, \"#ed7953\"], [0.7777777777777778, \"#fb9f3a\"], [0.8888888888888888, \"#fdca26\"], [1.0, \"#f0f921\"]], \"type\": \"histogram2dcontour\"}], \"mesh3d\": [{\"colorbar\": {\"outlinewidth\": 0, \"ticks\": \"\"}, \"type\": \"mesh3d\"}], \"parcoords\": [{\"line\": {\"colorbar\": {\"outlinewidth\": 0, \"ticks\": \"\"}}, \"type\": \"parcoords\"}], \"pie\": [{\"automargin\": true, \"type\": \"pie\"}], \"scatter\": [{\"marker\": {\"colorbar\": {\"outlinewidth\": 0, \"ticks\": \"\"}}, \"type\": \"scatter\"}], \"scatter3d\": [{\"line\": {\"colorbar\": {\"outlinewidth\": 0, \"ticks\": \"\"}}, \"marker\": {\"colorbar\": {\"outlinewidth\": 0, \"ticks\": \"\"}}, \"type\": \"scatter3d\"}], \"scattercarpet\": [{\"marker\": {\"colorbar\": {\"outlinewidth\": 0, \"ticks\": \"\"}}, \"type\": \"scattercarpet\"}], \"scattergeo\": [{\"marker\": {\"colorbar\": {\"outlinewidth\": 0, \"ticks\": \"\"}}, \"type\": \"scattergeo\"}], \"scattergl\": [{\"marker\": {\"colorbar\": {\"outlinewidth\": 0, \"ticks\": \"\"}}, \"type\": \"scattergl\"}], \"scattermapbox\": [{\"marker\": {\"colorbar\": {\"outlinewidth\": 0, \"ticks\": \"\"}}, \"type\": \"scattermapbox\"}], \"scatterpolar\": [{\"marker\": {\"colorbar\": {\"outlinewidth\": 0, \"ticks\": \"\"}}, \"type\": \"scatterpolar\"}], \"scatterpolargl\": [{\"marker\": {\"colorbar\": {\"outlinewidth\": 0, \"ticks\": \"\"}}, \"type\": \"scatterpolargl\"}], \"scatterternary\": [{\"marker\": {\"colorbar\": {\"outlinewidth\": 0, \"ticks\": \"\"}}, \"type\": \"scatterternary\"}], \"surface\": [{\"colorbar\": {\"outlinewidth\": 0, \"ticks\": \"\"}, \"colorscale\": [[0.0, \"#0d0887\"], [0.1111111111111111, \"#46039f\"], [0.2222222222222222, \"#7201a8\"], [0.3333333333333333, \"#9c179e\"], [0.4444444444444444, \"#bd3786\"], [0.5555555555555556, \"#d8576b\"], [0.6666666666666666, \"#ed7953\"], [0.7777777777777778, \"#fb9f3a\"], [0.8888888888888888, \"#fdca26\"], [1.0, \"#f0f921\"]], \"type\": \"surface\"}], \"table\": [{\"cells\": {\"fill\": {\"color\": \"#EBF0F8\"}, \"line\": {\"color\": \"white\"}}, \"header\": {\"fill\": {\"color\": \"#C8D4E3\"}, \"line\": {\"color\": \"white\"}}, \"type\": \"table\"}]}, \"layout\": {\"annotationdefaults\": {\"arrowcolor\": \"#2a3f5f\", \"arrowhead\": 0, \"arrowwidth\": 1}, \"coloraxis\": {\"colorbar\": {\"outlinewidth\": 0, \"ticks\": \"\"}}, \"colorscale\": {\"diverging\": [[0, \"#8e0152\"], [0.1, \"#c51b7d\"], [0.2, \"#de77ae\"], [0.3, \"#f1b6da\"], [0.4, \"#fde0ef\"], [0.5, \"#f7f7f7\"], [0.6, \"#e6f5d0\"], [0.7, \"#b8e186\"], [0.8, \"#7fbc41\"], [0.9, \"#4d9221\"], [1, \"#276419\"]], \"sequential\": [[0.0, \"#0d0887\"], [0.1111111111111111, \"#46039f\"], [0.2222222222222222, \"#7201a8\"], [0.3333333333333333, \"#9c179e\"], [0.4444444444444444, \"#bd3786\"], [0.5555555555555556, \"#d8576b\"], [0.6666666666666666, \"#ed7953\"], [0.7777777777777778, \"#fb9f3a\"], [0.8888888888888888, \"#fdca26\"], [1.0, \"#f0f921\"]], \"sequentialminus\": [[0.0, \"#0d0887\"], [0.1111111111111111, \"#46039f\"], [0.2222222222222222, \"#7201a8\"], [0.3333333333333333, \"#9c179e\"], [0.4444444444444444, \"#bd3786\"], [0.5555555555555556, \"#d8576b\"], [0.6666666666666666, \"#ed7953\"], [0.7777777777777778, \"#fb9f3a\"], [0.8888888888888888, \"#fdca26\"], [1.0, \"#f0f921\"]]}, \"colorway\": [\"#636efa\", \"#EF553B\", \"#00cc96\", \"#ab63fa\", \"#FFA15A\", \"#19d3f3\", \"#FF6692\", \"#B6E880\", \"#FF97FF\", \"#FECB52\"], \"font\": {\"color\": \"#2a3f5f\"}, \"geo\": {\"bgcolor\": \"white\", \"lakecolor\": \"white\", \"landcolor\": \"#E5ECF6\", \"showlakes\": true, \"showland\": true, \"subunitcolor\": \"white\"}, \"hoverlabel\": {\"align\": \"left\"}, \"hovermode\": \"closest\", \"mapbox\": {\"style\": \"light\"}, \"paper_bgcolor\": \"white\", \"plot_bgcolor\": \"#E5ECF6\", \"polar\": {\"angularaxis\": {\"gridcolor\": \"white\", \"linecolor\": \"white\", \"ticks\": \"\"}, \"bgcolor\": \"#E5ECF6\", \"radialaxis\": {\"gridcolor\": \"white\", \"linecolor\": \"white\", \"ticks\": \"\"}}, \"scene\": {\"xaxis\": {\"backgroundcolor\": \"#E5ECF6\", \"gridcolor\": \"white\", \"gridwidth\": 2, \"linecolor\": \"white\", \"showbackground\": true, \"ticks\": \"\", \"zerolinecolor\": \"white\"}, \"yaxis\": {\"backgroundcolor\": \"#E5ECF6\", \"gridcolor\": \"white\", \"gridwidth\": 2, \"linecolor\": \"white\", \"showbackground\": true, \"ticks\": \"\", \"zerolinecolor\": \"white\"}, \"zaxis\": {\"backgroundcolor\": \"#E5ECF6\", \"gridcolor\": \"white\", \"gridwidth\": 2, \"linecolor\": \"white\", \"showbackground\": true, \"ticks\": \"\", \"zerolinecolor\": \"white\"}}, \"shapedefaults\": {\"line\": {\"color\": \"#2a3f5f\"}}, \"ternary\": {\"aaxis\": {\"gridcolor\": \"white\", \"linecolor\": \"white\", \"ticks\": \"\"}, \"baxis\": {\"gridcolor\": \"white\", \"linecolor\": \"white\", \"ticks\": \"\"}, \"bgcolor\": \"#E5ECF6\", \"caxis\": {\"gridcolor\": \"white\", \"linecolor\": \"white\", \"ticks\": \"\"}}, \"title\": {\"x\": 0.05}, \"xaxis\": {\"automargin\": true, \"gridcolor\": \"white\", \"linecolor\": \"white\", \"ticks\": \"\", \"title\": {\"standoff\": 15}, \"zerolinecolor\": \"white\", \"zerolinewidth\": 2}, \"yaxis\": {\"automargin\": true, \"gridcolor\": \"white\", \"linecolor\": \"white\", \"ticks\": \"\", \"title\": {\"standoff\": 15}, \"zerolinecolor\": \"white\", \"zerolinewidth\": 2}}}, \"xaxis\": {\"anchor\": \"y\", \"domain\": [0.0, 1.0], \"title\": {\"text\": \"State\"}}, \"yaxis\": {\"anchor\": \"x\", \"domain\": [0.0, 1.0], \"title\": {\"text\": \"value\"}}},\n",
       "                        {\"responsive\": true}\n",
       "                    ).then(function(){\n",
       "                            \n",
       "var gd = document.getElementById('f7a372a6-df17-45f0-a2e8-3164f9eb28ad');\n",
       "var x = new MutationObserver(function (mutations, observer) {{\n",
       "        var display = window.getComputedStyle(gd).display;\n",
       "        if (!display || display === 'none') {{\n",
       "            console.log([gd, 'removed!']);\n",
       "            Plotly.purge(gd);\n",
       "            observer.disconnect();\n",
       "        }}\n",
       "}});\n",
       "\n",
       "// Listen for the removal of the full notebook cells\n",
       "var notebookContainer = gd.closest('#notebook-container');\n",
       "if (notebookContainer) {{\n",
       "    x.observe(notebookContainer, {childList: true});\n",
       "}}\n",
       "\n",
       "// Listen for the clearing of the current output cell\n",
       "var outputEl = gd.closest('.output');\n",
       "if (outputEl) {{\n",
       "    x.observe(outputEl, {childList: true});\n",
       "}}\n",
       "\n",
       "                        })\n",
       "                };\n",
       "                });\n",
       "            </script>\n",
       "        </div>"
      ]
     },
     "metadata": {},
     "output_type": "display_data"
    }
   ],
   "source": [
    "pz.bar(Confirm1)"
   ]
  },
  {
   "cell_type": "markdown",
   "metadata": {},
   "source": [
    "#### Visulization through Matplotlib"
   ]
  },
  {
   "cell_type": "code",
   "execution_count": 198,
   "metadata": {
    "scrolled": false
   },
   "outputs": [
    {
     "data": {
      "text/plain": [
       "<BarContainer object of 37 artists>"
      ]
     },
     "execution_count": 198,
     "metadata": {},
     "output_type": "execute_result"
    },
    {
     "data": {
      "image/png": "[encoded data removed]",
      "text/plain": [
       "<Figure size 720x576 with 1 Axes>"
      ]
     },
     "metadata": {
      "needs_background": "light"
     },
     "output_type": "display_data"
    }
   ],
   "source": [
    "plt.bar(Clean_dta['State_code'],Clean_dta['Confirmed'], color ='Pink',  \n",
    "        width = 0.7) "
   ]
  },
  {
   "cell_type": "markdown",
   "metadata": {},
   "source": [
    "### Time Series Analysis "
   ]
  },
  {
   "cell_type": "code",
   "execution_count": 200,
   "metadata": {
    "scrolled": false
   },
   "outputs": [
    {
     "data": {
      "text/html": [
       "<div>\n",
       "<style scoped>\n",
       "    .dataframe tbody tr th:only-of-type {\n",
       "        vertical-align: middle;\n",
       "    }\n",
       "\n",
       "    .dataframe tbody tr th {\n",
       "        vertical-align: top;\n",
       "    }\n",
       "\n",
       "    .dataframe thead th {\n",
       "        text-align: right;\n",
       "    }\n",
       "</style>\n",
       "<table border=\"1\" class=\"dataframe\">\n",
       "  <thead>\n",
       "    <tr style=\"text-align: right;\">\n",
       "      <th></th>\n",
       "      <th>Date</th>\n",
       "      <th>Daily Confirmed</th>\n",
       "      <th>Total Confirmed</th>\n",
       "      <th>Daily Recovered</th>\n",
       "      <th>Total Recovered</th>\n",
       "      <th>Daily Deceased</th>\n",
       "      <th>Total Deceased</th>\n",
       "    </tr>\n",
       "  </thead>\n",
       "  <tbody>\n",
       "    <tr>\n",
       "      <th>0</th>\n",
       "      <td>30 January</td>\n",
       "      <td>1</td>\n",
       "      <td>1</td>\n",
       "      <td>0</td>\n",
       "      <td>0</td>\n",
       "      <td>0</td>\n",
       "      <td>0</td>\n",
       "    </tr>\n",
       "    <tr>\n",
       "      <th>1</th>\n",
       "      <td>31 January</td>\n",
       "      <td>0</td>\n",
       "      <td>1</td>\n",
       "      <td>0</td>\n",
       "      <td>0</td>\n",
       "      <td>0</td>\n",
       "      <td>0</td>\n",
       "    </tr>\n",
       "    <tr>\n",
       "      <th>2</th>\n",
       "      <td>01 February</td>\n",
       "      <td>0</td>\n",
       "      <td>1</td>\n",
       "      <td>0</td>\n",
       "      <td>0</td>\n",
       "      <td>0</td>\n",
       "      <td>0</td>\n",
       "    </tr>\n",
       "    <tr>\n",
       "      <th>3</th>\n",
       "      <td>02 February</td>\n",
       "      <td>1</td>\n",
       "      <td>2</td>\n",
       "      <td>0</td>\n",
       "      <td>0</td>\n",
       "      <td>0</td>\n",
       "      <td>0</td>\n",
       "    </tr>\n",
       "    <tr>\n",
       "      <th>4</th>\n",
       "      <td>03 February</td>\n",
       "      <td>1</td>\n",
       "      <td>3</td>\n",
       "      <td>0</td>\n",
       "      <td>0</td>\n",
       "      <td>0</td>\n",
       "      <td>0</td>\n",
       "    </tr>\n",
       "    <tr>\n",
       "      <th>...</th>\n",
       "      <td>...</td>\n",
       "      <td>...</td>\n",
       "      <td>...</td>\n",
       "      <td>...</td>\n",
       "      <td>...</td>\n",
       "      <td>...</td>\n",
       "      <td>...</td>\n",
       "    </tr>\n",
       "    <tr>\n",
       "      <th>132</th>\n",
       "      <td>10 June</td>\n",
       "      <td>11156</td>\n",
       "      <td>287158</td>\n",
       "      <td>6275</td>\n",
       "      <td>140928</td>\n",
       "      <td>358</td>\n",
       "      <td>8107</td>\n",
       "    </tr>\n",
       "    <tr>\n",
       "      <th>133</th>\n",
       "      <td>11 June</td>\n",
       "      <td>11135</td>\n",
       "      <td>298293</td>\n",
       "      <td>6044</td>\n",
       "      <td>146972</td>\n",
       "      <td>394</td>\n",
       "      <td>8501</td>\n",
       "    </tr>\n",
       "    <tr>\n",
       "      <th>134</th>\n",
       "      <td>12 June</td>\n",
       "      <td>11306</td>\n",
       "      <td>309599</td>\n",
       "      <td>7263</td>\n",
       "      <td>154235</td>\n",
       "      <td>388</td>\n",
       "      <td>8889</td>\n",
       "    </tr>\n",
       "    <tr>\n",
       "      <th>135</th>\n",
       "      <td>13 June</td>\n",
       "      <td>12039</td>\n",
       "      <td>321638</td>\n",
       "      <td>8092</td>\n",
       "      <td>162327</td>\n",
       "      <td>309</td>\n",
       "      <td>9198</td>\n",
       "    </tr>\n",
       "    <tr>\n",
       "      <th>136</th>\n",
       "      <td>14 June</td>\n",
       "      <td>11378</td>\n",
       "      <td>333016</td>\n",
       "      <td>7356</td>\n",
       "      <td>169683</td>\n",
       "      <td>321</td>\n",
       "      <td>9519</td>\n",
       "    </tr>\n",
       "  </tbody>\n",
       "</table>\n",
       "<p>137 rows × 7 columns</p>\n",
       "</div>"
      ],
      "text/plain": [
       "             Date  Daily Confirmed  Total Confirmed  Daily Recovered  \\\n",
       "0     30 January                 1                1                0   \n",
       "1     31 January                 0                1                0   \n",
       "2    01 February                 0                1                0   \n",
       "3    02 February                 1                2                0   \n",
       "4    03 February                 1                3                0   \n",
       "..            ...              ...              ...              ...   \n",
       "132      10 June             11156           287158             6275   \n",
       "133      11 June             11135           298293             6044   \n",
       "134      12 June             11306           309599             7263   \n",
       "135      13 June             12039           321638             8092   \n",
       "136      14 June             11378           333016             7356   \n",
       "\n",
       "     Total Recovered  Daily Deceased  Total Deceased  \n",
       "0                  0               0               0  \n",
       "1                  0               0               0  \n",
       "2                  0               0               0  \n",
       "3                  0               0               0  \n",
       "4                  0               0               0  \n",
       "..               ...             ...             ...  \n",
       "132           140928             358            8107  \n",
       "133           146972             394            8501  \n",
       "134           154235             388            8889  \n",
       "135           162327             309            9198  \n",
       "136           169683             321            9519  \n",
       "\n",
       "[137 rows x 7 columns]"
      ]
     },
     "execution_count": 200,
     "metadata": {},
     "output_type": "execute_result"
    }
   ],
   "source": [
    "time_series=pd.read_csv('https://api.covid19india.org/csv/latest/case_time_series.csv')\n",
    "time_series"
   ]
  },
  {
   "cell_type": "code",
   "execution_count": 201,
   "metadata": {},
   "outputs": [],
   "source": [
    "Y = time_series.iloc[110:,1].values #Stores Daily Confirmed\n",
    "R = time_series.iloc[61:,3].values #Stores Daily Recovered\n",
    "D = time_series.iloc[61:,5].values #Stores Daily Deceased\n",
    "X = time_series.iloc[110:,0] #Stores Date"
   ]
  },
  {
   "cell_type": "code",
   "execution_count": 202,
   "metadata": {
    "scrolled": false
   },
   "outputs": [
    {
     "data": {
      "text/plain": [
       "Text(0.5, 1.0, 'COVID-19 IN : Daily Confrimed\\n')"
      ]
     },
     "execution_count": 202,
     "metadata": {},
     "output_type": "execute_result"
    },
    {
     "data": {
      "image/png": "[encoded data removed]",
      "text/plain": [
       "<Figure size 1440x504 with 1 Axes>"
      ]
     },
     "metadata": {
      "needs_background": "light"
     },
     "output_type": "display_data"
    }
   ],
   "source": [
    "plt.figure(figsize=(20,7))\n",
    "ax = plt.axes() \n",
    "ax.grid(linewidth=0.2, color='#8f8f8f')  \n",
    "  \n",
    "ax.set_facecolor(\"black\")  \n",
    "ax.set_xlabel('\\nDate',size=15,color='#4bb4f2') \n",
    "ax.set_ylabel('Daily Confirmed\\n', \n",
    "              size=15,color='#4bb4f2') \n",
    "  \n",
    "ax.plot(X,Y, \n",
    "        color='#1F77B4', \n",
    "        marker='o', \n",
    "        linewidth=2, \n",
    "        markersize=15, \n",
    "        markeredgecolor='#035E9B')\n",
    "plt.title(\"COVID-19 IN : Daily Confrimed\\n\",\n",
    "          size=30,color='#28a9ee')\n"
   ]
  },
  {
   "cell_type": "code",
   "execution_count": 204,
   "metadata": {},
   "outputs": [
    {
     "data": {
      "application/vnd.plotly.v1+json": {
       "config": {
        "plotlyServerURL": "https://plot.ly"
       },
       "data": [
        {
         "hovertemplate": "x=%{x}<br>y=%{y}<extra></extra>",
         "legendgroup": "",
         "line": {
          "color": "#636efa",
          "dash": "solid"
         },
         "mode": "lines",
         "name": "",
         "orientation": "v",
         "showlegend": false,
         "type": "scatter",
         "x": [
          "30 January ",
          "31 January ",
          "01 February ",
          "02 February ",
          "03 February ",
          "04 February ",
          "05 February ",
          "06 February ",
          "07 February ",
          "08 February ",
          "09 February ",
          "10 February ",
          "11 February ",
          "12 February ",
          "13 February ",
          "14 February ",
          "15 February ",
          "16 February ",
          "17 February ",
          "18 February ",
          "19 February ",
          "20 February ",
          "21 February ",
          "22 February ",
          "23 February ",
          "24 February ",
          "25 February ",
          "26 February ",
          "27 February ",
          "28 February ",
          "29 February ",
          "01 March ",
          "02 March ",
          "03 March ",
          "04 March ",
          "05 March ",
          "06 March ",
          "07 March ",
          "08 March ",
          "09 March ",
          "10 March ",
          "11 March ",
          "12 March ",
          "13 March ",
          "14 March ",
          "15 March ",
          "16 March ",
          "17 March ",
          "18 March ",
          "19 March ",
          "20 March ",
          "21 March ",
          "22 March ",
          "23 March ",
          "24 March ",
          "25 March ",
          "26 March ",
          "27 March ",
          "28 March ",
          "29 March ",
          "30 March ",
          "31 March ",
          "01 April ",
          "02 April ",
          "03 April ",
          "04 April ",
          "05 April ",
          "06 April ",
          "07 April ",
          "08 April ",
          "09 April ",
          "10 April ",
          "11 April ",
          "12 April ",
          "13 April ",
          "14 April ",
          "15 April ",
          "16 April ",
          "17 April ",
          "18 April ",
          "19 April ",
          "20 April ",
          "21 April ",
          "22 April ",
          "23 April ",
          "24 April ",
          "25 April ",
          "26 April ",
          "27 April ",
          "28 April ",
          "29 April ",
          "30 April ",
          "01 May ",
          "02 May ",
          "03 May ",
          "04 May ",
          "05 May ",
          "06 May ",
          "07 May ",
          "08 May ",
          "09 May ",
          "10 May ",
          "11 May ",
          "12 May ",
          "13 May ",
          "14 May ",
          "15 May ",
          "16 May ",
          "17 May ",
          "18 May ",
          "19 May ",
          "20 May ",
          "21 May ",
          "22 May ",
          "23 May ",
          "24 May ",
          "25 May ",
          "26 May ",
          "27 May ",
          "28 May ",
          "29 May ",
          "30 May ",
          "31 May ",
          "01 June ",
          "02 June ",
          "03 June ",
          "04 June ",
          "05 June ",
          "06 June ",
          "07 June ",
          "08 June ",
          "09 June ",
          "10 June ",
          "11 June ",
          "12 June ",
          "13 June ",
          "14 June "
         ],
         "xaxis": "x",
         "y": [
          1,
          0,
          0,
          1,
          1,
          0,
          0,
          0,
          0,
          0,
          0,
          0,
          0,
          0,
          0,
          0,
          0,
          0,
          0,
          0,
          0,
          0,
          0,
          0,
          0,
          0,
          0,
          0,
          0,
          0,
          0,
          0,
          2,
          1,
          22,
          2,
          1,
          3,
          5,
          9,
          15,
          8,
          10,
          10,
          11,
          10,
          14,
          20,
          25,
          27,
          58,
          78,
          69,
          94,
          74,
          86,
          73,
          153,
          136,
          120,
          187,
          309,
          424,
          486,
          560,
          579,
          609,
          484,
          573,
          565,
          813,
          871,
          854,
          758,
          1243,
          1031,
          886,
          1061,
          922,
          1371,
          1580,
          1239,
          1537,
          1292,
          1667,
          1408,
          1835,
          1607,
          1568,
          1902,
          1705,
          1801,
          2396,
          2564,
          2952,
          3656,
          2971,
          3602,
          3344,
          3339,
          3175,
          4311,
          3592,
          3562,
          3726,
          3991,
          3808,
          4794,
          5049,
          4628,
          6154,
          5720,
          6023,
          6536,
          6667,
          7111,
          6414,
          5907,
          7246,
          7254,
          8138,
          8364,
          8789,
          7723,
          8815,
          9689,
          9847,
          9472,
          10408,
          10882,
          8536,
          9981,
          11156,
          11135,
          11306,
          12039,
          11378
         ],
         "yaxis": "y"
        }
       ],
       "layout": {
        "legend": {
         "tracegroupgap": 0
        },
        "template": {
         "data": {
          "bar": [
           {
            "error_x": {
             "color": "#2a3f5f"
            },
            "error_y": {
             "color": "#2a3f5f"
            },
            "marker": {
             "line": {
              "color": "#E5ECF6",
              "width": 0.5
             }
            },
            "type": "bar"
           }
          ],
          "barpolar": [
           {
            "marker": {
             "line": {
              "color": "#E5ECF6",
              "width": 0.5
             }
            },
            "type": "barpolar"
           }
          ],
          "carpet": [
           {
            "aaxis": {
             "endlinecolor": "#2a3f5f",
             "gridcolor": "white",
             "linecolor": "white",
             "minorgridcolor": "white",
             "startlinecolor": "#2a3f5f"
            },
            "baxis": {
             "endlinecolor": "#2a3f5f",
             "gridcolor": "white",
             "linecolor": "white",
             "minorgridcolor": "white",
             "startlinecolor": "#2a3f5f"
            },
            "type": "carpet"
           }
          ],
          "choropleth": [
           {
            "colorbar": {
             "outlinewidth": 0,
             "ticks": ""
            },
            "type": "choropleth"
           }
          ],
          "contour": [
           {
            "colorbar": {
             "outlinewidth": 0,
             "ticks": ""
            },
            "colorscale": [
             [
              0,
              "#0d0887"
             ],
             [
              0.1111111111111111,
              "#46039f"
             ],
             [
              0.2222222222222222,
              "#7201a8"
             ],
             [
              0.3333333333333333,
              "#9c179e"
             ],
             [
              0.4444444444444444,
              "#bd3786"
             ],
             [
              0.5555555555555556,
              "#d8576b"
             ],
             [
              0.6666666666666666,
              "#ed7953"
             ],
             [
              0.7777777777777778,
              "#fb9f3a"
             ],
             [
              0.8888888888888888,
              "#fdca26"
             ],
             [
              1,
              "#f0f921"
             ]
            ],
            "type": "contour"
           }
          ],
          "contourcarpet": [
           {
            "colorbar": {
             "outlinewidth": 0,
             "ticks": ""
            },
            "type": "contourcarpet"
           }
          ],
          "heatmap": [
           {
            "colorbar": {
             "outlinewidth": 0,
             "ticks": ""
            },
            "colorscale": [
             [
              0,
              "#0d0887"
             ],
             [
              0.1111111111111111,
              "#46039f"
             ],
             [
              0.2222222222222222,
              "#7201a8"
             ],
             [
              0.3333333333333333,
              "#9c179e"
             ],
             [
              0.4444444444444444,
              "#bd3786"
             ],
             [
              0.5555555555555556,
              "#d8576b"
             ],
             [
              0.6666666666666666,
              "#ed7953"
             ],
             [
              0.7777777777777778,
              "#fb9f3a"
             ],
             [
              0.8888888888888888,
              "#fdca26"
             ],
             [
              1,
              "#f0f921"
             ]
            ],
            "type": "heatmap"
           }
          ],
          "heatmapgl": [
           {
            "colorbar": {
             "outlinewidth": 0,
             "ticks": ""
            },
            "colorscale": [
             [
              0,
              "#0d0887"
             ],
             [
              0.1111111111111111,
              "#46039f"
             ],
             [
              0.2222222222222222,
              "#7201a8"
             ],
             [
              0.3333333333333333,
              "#9c179e"
             ],
             [
              0.4444444444444444,
              "#bd3786"
             ],
             [
              0.5555555555555556,
              "#d8576b"
             ],
             [
              0.6666666666666666,
              "#ed7953"
             ],
             [
              0.7777777777777778,
              "#fb9f3a"
             ],
             [
              0.8888888888888888,
              "#fdca26"
             ],
             [
              1,
              "#f0f921"
             ]
            ],
            "type": "heatmapgl"
           }
          ],
          "histogram": [
           {
            "marker": {
             "colorbar": {
              "outlinewidth": 0,
              "ticks": ""
             }
            },
            "type": "histogram"
           }
          ],
          "histogram2d": [
           {
            "colorbar": {
             "outlinewidth": 0,
             "ticks": ""
            },
            "colorscale": [
             [
              0,
              "#0d0887"
             ],
             [
              0.1111111111111111,
              "#46039f"
             ],
             [
              0.2222222222222222,
              "#7201a8"
             ],
             [
              0.3333333333333333,
              "#9c179e"
             ],
             [
              0.4444444444444444,
              "#bd3786"
             ],
             [
              0.5555555555555556,
              "#d8576b"
             ],
             [
              0.6666666666666666,
              "#ed7953"
             ],
             [
              0.7777777777777778,
              "#fb9f3a"
             ],
             [
              0.8888888888888888,
              "#fdca26"
             ],
             [
              1,
              "#f0f921"
             ]
            ],
            "type": "histogram2d"
           }
          ],
          "histogram2dcontour": [
           {
            "colorbar": {
             "outlinewidth": 0,
             "ticks": ""
            },
            "colorscale": [
             [
              0,
              "#0d0887"
             ],
             [
              0.1111111111111111,
              "#46039f"
             ],
             [
              0.2222222222222222,
              "#7201a8"
             ],
             [
              0.3333333333333333,
              "#9c179e"
             ],
             [
              0.4444444444444444,
              "#bd3786"
             ],
             [
              0.5555555555555556,
              "#d8576b"
             ],
             [
              0.6666666666666666,
              "#ed7953"
             ],
             [
              0.7777777777777778,
              "#fb9f3a"
             ],
             [
              0.8888888888888888,
              "#fdca26"
             ],
             [
              1,
              "#f0f921"
             ]
            ],
            "type": "histogram2dcontour"
           }
          ],
          "mesh3d": [
           {
            "colorbar": {
             "outlinewidth": 0,
             "ticks": ""
            },
            "type": "mesh3d"
           }
          ],
          "parcoords": [
           {
            "line": {
             "colorbar": {
              "outlinewidth": 0,
              "ticks": ""
             }
            },
            "type": "parcoords"
           }
          ],
          "pie": [
           {
            "automargin": true,
            "type": "pie"
           }
          ],
          "scatter": [
           {
            "marker": {
             "colorbar": {
              "outlinewidth": 0,
              "ticks": ""
             }
            },
            "type": "scatter"
           }
          ],
          "scatter3d": [
           {
            "line": {
             "colorbar": {
              "outlinewidth": 0,
              "ticks": ""
             }
            },
            "marker": {
             "colorbar": {
              "outlinewidth": 0,
              "ticks": ""
             }
            },
            "type": "scatter3d"
           }
          ],
          "scattercarpet": [
           {
            "marker": {
             "colorbar": {
              "outlinewidth": 0,
              "ticks": ""
             }
            },
            "type": "scattercarpet"
           }
          ],
          "scattergeo": [
           {
            "marker": {
             "colorbar": {
              "outlinewidth": 0,
              "ticks": ""
             }
            },
            "type": "scattergeo"
           }
          ],
          "scattergl": [
           {
            "marker": {
             "colorbar": {
              "outlinewidth": 0,
              "ticks": ""
             }
            },
            "type": "scattergl"
           }
          ],
          "scattermapbox": [
           {
            "marker": {
             "colorbar": {
              "outlinewidth": 0,
              "ticks": ""
             }
            },
            "type": "scattermapbox"
           }
          ],
          "scatterpolar": [
           {
            "marker": {
             "colorbar": {
              "outlinewidth": 0,
              "ticks": ""
             }
            },
            "type": "scatterpolar"
           }
          ],
          "scatterpolargl": [
           {
            "marker": {
             "colorbar": {
              "outlinewidth": 0,
              "ticks": ""
             }
            },
            "type": "scatterpolargl"
           }
          ],
          "scatterternary": [
           {
            "marker": {
             "colorbar": {
              "outlinewidth": 0,
              "ticks": ""
             }
            },
            "type": "scatterternary"
           }
          ],
          "surface": [
           {
            "colorbar": {
             "outlinewidth": 0,
             "ticks": ""
            },
            "colorscale": [
             [
              0,
              "#0d0887"
             ],
             [
              0.1111111111111111,
              "#46039f"
             ],
             [
              0.2222222222222222,
              "#7201a8"
             ],
             [
              0.3333333333333333,
              "#9c179e"
             ],
             [
              0.4444444444444444,
              "#bd3786"
             ],
             [
              0.5555555555555556,
              "#d8576b"
             ],
             [
              0.6666666666666666,
              "#ed7953"
             ],
             [
              0.7777777777777778,
              "#fb9f3a"
             ],
             [
              0.8888888888888888,
              "#fdca26"
             ],
             [
              1,
              "#f0f921"
             ]
            ],
            "type": "surface"
           }
          ],
          "table": [
           {
            "cells": {
             "fill": {
              "color": "#EBF0F8"
             },
             "line": {
              "color": "white"
             }
            },
            "header": {
             "fill": {
              "color": "#C8D4E3"
             },
             "line": {
              "color": "white"
             }
            },
            "type": "table"
           }
          ]
         },
         "layout": {
          "annotationdefaults": {
           "arrowcolor": "#2a3f5f",
           "arrowhead": 0,
           "arrowwidth": 1
          },
          "coloraxis": {
           "colorbar": {
            "outlinewidth": 0,
            "ticks": ""
           }
          },
          "colorscale": {
           "diverging": [
            [
             0,
             "#8e0152"
            ],
            [
             0.1,
             "#c51b7d"
            ],
            [
             0.2,
             "#de77ae"
            ],
            [
             0.3,
             "#f1b6da"
            ],
            [
             0.4,
             "#fde0ef"
            ],
            [
             0.5,
             "#f7f7f7"
            ],
            [
             0.6,
             "#e6f5d0"
            ],
            [
             0.7,
             "#b8e186"
            ],
            [
             0.8,
             "#7fbc41"
            ],
            [
             0.9,
             "#4d9221"
            ],
            [
             1,
             "#276419"
            ]
           ],
           "sequential": [
            [
             0,
             "#0d0887"
            ],
            [
             0.1111111111111111,
             "#46039f"
            ],
            [
             0.2222222222222222,
             "#7201a8"
            ],
            [
             0.3333333333333333,
             "#9c179e"
            ],
            [
             0.4444444444444444,
             "#bd3786"
            ],
            [
             0.5555555555555556,
             "#d8576b"
            ],
            [
             0.6666666666666666,
             "#ed7953"
            ],
            [
             0.7777777777777778,
             "#fb9f3a"
            ],
            [
             0.8888888888888888,
             "#fdca26"
            ],
            [
             1,
             "#f0f921"
            ]
           ],
           "sequentialminus": [
            [
             0,
             "#0d0887"
            ],
            [
             0.1111111111111111,
             "#46039f"
            ],
            [
             0.2222222222222222,
             "#7201a8"
            ],
            [
             0.3333333333333333,
             "#9c179e"
            ],
            [
             0.4444444444444444,
             "#bd3786"
            ],
            [
             0.5555555555555556,
             "#d8576b"
            ],
            [
             0.6666666666666666,
             "#ed7953"
            ],
            [
             0.7777777777777778,
             "#fb9f3a"
            ],
            [
             0.8888888888888888,
             "#fdca26"
            ],
            [
             1,
             "#f0f921"
            ]
           ]
          },
          "colorway": [
           "#636efa",
           "#EF553B",
           "#00cc96",
           "#ab63fa",
           "#FFA15A",
           "#19d3f3",
           "#FF6692",
           "#B6E880",
           "#FF97FF",
           "#FECB52"
          ],
          "font": {
           "color": "#2a3f5f"
          },
          "geo": {
           "bgcolor": "white",
           "lakecolor": "white",
           "landcolor": "#E5ECF6",
           "showlakes": true,
           "showland": true,
           "subunitcolor": "white"
          },
          "hoverlabel": {
           "align": "left"
          },
          "hovermode": "closest",
          "mapbox": {
           "style": "light"
          },
          "paper_bgcolor": "white",
          "plot_bgcolor": "#E5ECF6",
          "polar": {
           "angularaxis": {
            "gridcolor": "white",
            "linecolor": "white",
            "ticks": ""
           },
           "bgcolor": "#E5ECF6",
           "radialaxis": {
            "gridcolor": "white",
            "linecolor": "white",
            "ticks": ""
           }
          },
          "scene": {
           "xaxis": {
            "backgroundcolor": "#E5ECF6",
            "gridcolor": "white",
            "gridwidth": 2,
            "linecolor": "white",
            "showbackground": true,
            "ticks": "",
            "zerolinecolor": "white"
           },
           "yaxis": {
            "backgroundcolor": "#E5ECF6",
            "gridcolor": "white",
            "gridwidth": 2,
            "linecolor": "white",
            "showbackground": true,
            "ticks": "",
            "zerolinecolor": "white"
           },
           "zaxis": {
            "backgroundcolor": "#E5ECF6",
            "gridcolor": "white",
            "gridwidth": 2,
            "linecolor": "white",
            "showbackground": true,
            "ticks": "",
            "zerolinecolor": "white"
           }
          },
          "shapedefaults": {
           "line": {
            "color": "#2a3f5f"
           }
          },
          "ternary": {
           "aaxis": {
            "gridcolor": "white",
            "linecolor": "white",
            "ticks": ""
           },
           "baxis": {
            "gridcolor": "white",
            "linecolor": "white",
            "ticks": ""
           },
           "bgcolor": "#E5ECF6",
           "caxis": {
            "gridcolor": "white",
            "linecolor": "white",
            "ticks": ""
           }
          },
          "title": {
           "x": 0.05
          },
          "xaxis": {
           "automargin": true,
           "gridcolor": "white",
           "linecolor": "white",
           "ticks": "",
           "title": {
            "standoff": 15
           },
           "zerolinecolor": "white",
           "zerolinewidth": 2
          },
          "yaxis": {
           "automargin": true,
           "gridcolor": "white",
           "linecolor": "white",
           "ticks": "",
           "title": {
            "standoff": 15
           },
           "zerolinecolor": "white",
           "zerolinewidth": 2
          }
         }
        },
        "title": {
         "text": "Time Series with Rangeslider"
        },
        "xaxis": {
         "anchor": "y",
         "domain": [
          0,
          1
         ],
         "rangeslider": {
          "visible": true
         },
         "title": {
          "text": "x"
         }
        },
        "yaxis": {
         "anchor": "x",
         "domain": [
          0,
          1
         ],
         "title": {
          "text": "y"
         }
        }
       }
      },
      "text/html": [
       "<div>\n",
       "        \n",
       "        \n",
       "            <div id=\"58119431-2ab3-4ba9-a424-97d6283116e0\" class=\"plotly-graph-div\" style=\"height:525px; width:100%;\"></div>\n",
       "            <script type=\"text/javascript\">\n",
       "                require([\"plotly\"], function(Plotly) {\n",
       "                    window.PLOTLYENV=window.PLOTLYENV || {};\n",
       "                    \n",
       "                if (document.getElementById(\"58119431-2ab3-4ba9-a424-97d6283116e0\")) {\n",
       "                    Plotly.newPlot(\n",
       "                        '58119431-2ab3-4ba9-a424-97d6283116e0',\n",
       "                        [{\"hovertemplate\": \"x=%{x}<br>y=%{y}<extra></extra>\", \"legendgroup\": \"\", \"line\": {\"color\": \"#636efa\", \"dash\": \"solid\"}, \"mode\": \"lines\", \"name\": \"\", \"orientation\": \"v\", \"showlegend\": false, \"type\": \"scatter\", \"x\": [\"30 January \", \"31 January \", \"01 February \", \"02 February \", \"03 February \", \"04 February \", \"05 February \", \"06 February \", \"07 February \", \"08 February \", \"09 February \", \"10 February \", \"11 February \", \"12 February \", \"13 February \", \"14 February \", \"15 February \", \"16 February \", \"17 February \", \"18 February \", \"19 February \", \"20 February \", \"21 February \", \"22 February \", \"23 February \", \"24 February \", \"25 February \", \"26 February \", \"27 February \", \"28 February \", \"29 February \", \"01 March \", \"02 March \", \"03 March \", \"04 March \", \"05 March \", \"06 March \", \"07 March \", \"08 March \", \"09 March \", \"10 March \", \"11 March \", \"12 March \", \"13 March \", \"14 March \", \"15 March \", \"16 March \", \"17 March \", \"18 March \", \"19 March \", \"20 March \", \"21 March \", \"22 March \", \"23 March \", \"24 March \", \"25 March \", \"26 March \", \"27 March \", \"28 March \", \"29 March \", \"30 March \", \"31 March \", \"01 April \", \"02 April \", \"03 April \", \"04 April \", \"05 April \", \"06 April \", \"07 April \", \"08 April \", \"09 April \", \"10 April \", \"11 April \", \"12 April \", \"13 April \", \"14 April \", \"15 April \", \"16 April \", \"17 April \", \"18 April \", \"19 April \", \"20 April \", \"21 April \", \"22 April \", \"23 April \", \"24 April \", \"25 April \", \"26 April \", \"27 April \", \"28 April \", \"29 April \", \"30 April \", \"01 May \", \"02 May \", \"03 May \", \"04 May \", \"05 May \", \"06 May \", \"07 May \", \"08 May \", \"09 May \", \"10 May \", \"11 May \", \"12 May \", \"13 May \", \"14 May \", \"15 May \", \"16 May \", \"17 May \", \"18 May \", \"19 May \", \"20 May \", \"21 May \", \"22 May \", \"23 May \", \"24 May \", \"25 May \", \"26 May \", \"27 May \", \"28 May \", \"29 May \", \"30 May \", \"31 May \", \"01 June \", \"02 June \", \"03 June \", \"04 June \", \"05 June \", \"06 June \", \"07 June \", \"08 June \", \"09 June \", \"10 June \", \"11 June \", \"12 June \", \"13 June \", \"14 June \"], \"xaxis\": \"x\", \"y\": [1, 0, 0, 1, 1, 0, 0, 0, 0, 0, 0, 0, 0, 0, 0, 0, 0, 0, 0, 0, 0, 0, 0, 0, 0, 0, 0, 0, 0, 0, 0, 0, 2, 1, 22, 2, 1, 3, 5, 9, 15, 8, 10, 10, 11, 10, 14, 20, 25, 27, 58, 78, 69, 94, 74, 86, 73, 153, 136, 120, 187, 309, 424, 486, 560, 579, 609, 484, 573, 565, 813, 871, 854, 758, 1243, 1031, 886, 1061, 922, 1371, 1580, 1239, 1537, 1292, 1667, 1408, 1835, 1607, 1568, 1902, 1705, 1801, 2396, 2564, 2952, 3656, 2971, 3602, 3344, 3339, 3175, 4311, 3592, 3562, 3726, 3991, 3808, 4794, 5049, 4628, 6154, 5720, 6023, 6536, 6667, 7111, 6414, 5907, 7246, 7254, 8138, 8364, 8789, 7723, 8815, 9689, 9847, 9472, 10408, 10882, 8536, 9981, 11156, 11135, 11306, 12039, 11378], \"yaxis\": \"y\"}],\n",
       "                        {\"legend\": {\"tracegroupgap\": 0}, \"template\": {\"data\": {\"bar\": [{\"error_x\": {\"color\": \"#2a3f5f\"}, \"error_y\": {\"color\": \"#2a3f5f\"}, \"marker\": {\"line\": {\"color\": \"#E5ECF6\", \"width\": 0.5}}, \"type\": \"bar\"}], \"barpolar\": [{\"marker\": {\"line\": {\"color\": \"#E5ECF6\", \"width\": 0.5}}, \"type\": \"barpolar\"}], \"carpet\": [{\"aaxis\": {\"endlinecolor\": \"#2a3f5f\", \"gridcolor\": \"white\", \"linecolor\": \"white\", \"minorgridcolor\": \"white\", \"startlinecolor\": \"#2a3f5f\"}, \"baxis\": {\"endlinecolor\": \"#2a3f5f\", \"gridcolor\": \"white\", \"linecolor\": \"white\", \"minorgridcolor\": \"white\", \"startlinecolor\": \"#2a3f5f\"}, \"type\": \"carpet\"}], \"choropleth\": [{\"colorbar\": {\"outlinewidth\": 0, \"ticks\": \"\"}, \"type\": \"choropleth\"}], \"contour\": [{\"colorbar\": {\"outlinewidth\": 0, \"ticks\": \"\"}, \"colorscale\": [[0.0, \"#0d0887\"], [0.1111111111111111, \"#46039f\"], [0.2222222222222222, \"#7201a8\"], [0.3333333333333333, \"#9c179e\"], [0.4444444444444444, \"#bd3786\"], [0.5555555555555556, \"#d8576b\"], [0.6666666666666666, \"#ed7953\"], [0.7777777777777778, \"#fb9f3a\"], [0.8888888888888888, \"#fdca26\"], [1.0, \"#f0f921\"]], \"type\": \"contour\"}], \"contourcarpet\": [{\"colorbar\": {\"outlinewidth\": 0, \"ticks\": \"\"}, \"type\": \"contourcarpet\"}], \"heatmap\": [{\"colorbar\": {\"outlinewidth\": 0, \"ticks\": \"\"}, \"colorscale\": [[0.0, \"#0d0887\"], [0.1111111111111111, \"#46039f\"], [0.2222222222222222, \"#7201a8\"], [0.3333333333333333, \"#9c179e\"], [0.4444444444444444, \"#bd3786\"], [0.5555555555555556, \"#d8576b\"], [0.6666666666666666, \"#ed7953\"], [0.7777777777777778, \"#fb9f3a\"], [0.8888888888888888, \"#fdca26\"], [1.0, \"#f0f921\"]], \"type\": \"heatmap\"}], \"heatmapgl\": [{\"colorbar\": {\"outlinewidth\": 0, \"ticks\": \"\"}, \"colorscale\": [[0.0, \"#0d0887\"], [0.1111111111111111, \"#46039f\"], [0.2222222222222222, \"#7201a8\"], [0.3333333333333333, \"#9c179e\"], [0.4444444444444444, \"#bd3786\"], [0.5555555555555556, \"#d8576b\"], [0.6666666666666666, \"#ed7953\"], [0.7777777777777778, \"#fb9f3a\"], [0.8888888888888888, \"#fdca26\"], [1.0, \"#f0f921\"]], \"type\": \"heatmapgl\"}], \"histogram\": [{\"marker\": {\"colorbar\": {\"outlinewidth\": 0, \"ticks\": \"\"}}, \"type\": \"histogram\"}], \"histogram2d\": [{\"colorbar\": {\"outlinewidth\": 0, \"ticks\": \"\"}, \"colorscale\": [[0.0, \"#0d0887\"], [0.1111111111111111, \"#46039f\"], [0.2222222222222222, \"#7201a8\"], [0.3333333333333333, \"#9c179e\"], [0.4444444444444444, \"#bd3786\"], [0.5555555555555556, \"#d8576b\"], [0.6666666666666666, \"#ed7953\"], [0.7777777777777778, \"#fb9f3a\"], [0.8888888888888888, \"#fdca26\"], [1.0, \"#f0f921\"]], \"type\": \"histogram2d\"}], \"histogram2dcontour\": [{\"colorbar\": {\"outlinewidth\": 0, \"ticks\": \"\"}, \"colorscale\": [[0.0, \"#0d0887\"], [0.1111111111111111, \"#46039f\"], [0.2222222222222222, \"#7201a8\"], [0.3333333333333333, \"#9c179e\"], [0.4444444444444444, \"#bd3786\"], [0.5555555555555556, \"#d8576b\"], [0.6666666666666666, \"#ed7953\"], [0.7777777777777778, \"#fb9f3a\"], [0.8888888888888888, \"#fdca26\"], [1.0, \"#f0f921\"]], \"type\": \"histogram2dcontour\"}], \"mesh3d\": [{\"colorbar\": {\"outlinewidth\": 0, \"ticks\": \"\"}, \"type\": \"mesh3d\"}], \"parcoords\": [{\"line\": {\"colorbar\": {\"outlinewidth\": 0, \"ticks\": \"\"}}, \"type\": \"parcoords\"}], \"pie\": [{\"automargin\": true, \"type\": \"pie\"}], \"scatter\": [{\"marker\": {\"colorbar\": {\"outlinewidth\": 0, \"ticks\": \"\"}}, \"type\": \"scatter\"}], \"scatter3d\": [{\"line\": {\"colorbar\": {\"outlinewidth\": 0, \"ticks\": \"\"}}, \"marker\": {\"colorbar\": {\"outlinewidth\": 0, \"ticks\": \"\"}}, \"type\": \"scatter3d\"}], \"scattercarpet\": [{\"marker\": {\"colorbar\": {\"outlinewidth\": 0, \"ticks\": \"\"}}, \"type\": \"scattercarpet\"}], \"scattergeo\": [{\"marker\": {\"colorbar\": {\"outlinewidth\": 0, \"ticks\": \"\"}}, \"type\": \"scattergeo\"}], \"scattergl\": [{\"marker\": {\"colorbar\": {\"outlinewidth\": 0, \"ticks\": \"\"}}, \"type\": \"scattergl\"}], \"scattermapbox\": [{\"marker\": {\"colorbar\": {\"outlinewidth\": 0, \"ticks\": \"\"}}, \"type\": \"scattermapbox\"}], \"scatterpolar\": [{\"marker\": {\"colorbar\": {\"outlinewidth\": 0, \"ticks\": \"\"}}, \"type\": \"scatterpolar\"}], \"scatterpolargl\": [{\"marker\": {\"colorbar\": {\"outlinewidth\": 0, \"ticks\": \"\"}}, \"type\": \"scatterpolargl\"}], \"scatterternary\": [{\"marker\": {\"colorbar\": {\"outlinewidth\": 0, \"ticks\": \"\"}}, \"type\": \"scatterternary\"}], \"surface\": [{\"colorbar\": {\"outlinewidth\": 0, \"ticks\": \"\"}, \"colorscale\": [[0.0, \"#0d0887\"], [0.1111111111111111, \"#46039f\"], [0.2222222222222222, \"#7201a8\"], [0.3333333333333333, \"#9c179e\"], [0.4444444444444444, \"#bd3786\"], [0.5555555555555556, \"#d8576b\"], [0.6666666666666666, \"#ed7953\"], [0.7777777777777778, \"#fb9f3a\"], [0.8888888888888888, \"#fdca26\"], [1.0, \"#f0f921\"]], \"type\": \"surface\"}], \"table\": [{\"cells\": {\"fill\": {\"color\": \"#EBF0F8\"}, \"line\": {\"color\": \"white\"}}, \"header\": {\"fill\": {\"color\": \"#C8D4E3\"}, \"line\": {\"color\": \"white\"}}, \"type\": \"table\"}]}, \"layout\": {\"annotationdefaults\": {\"arrowcolor\": \"#2a3f5f\", \"arrowhead\": 0, \"arrowwidth\": 1}, \"coloraxis\": {\"colorbar\": {\"outlinewidth\": 0, \"ticks\": \"\"}}, \"colorscale\": {\"diverging\": [[0, \"#8e0152\"], [0.1, \"#c51b7d\"], [0.2, \"#de77ae\"], [0.3, \"#f1b6da\"], [0.4, \"#fde0ef\"], [0.5, \"#f7f7f7\"], [0.6, \"#e6f5d0\"], [0.7, \"#b8e186\"], [0.8, \"#7fbc41\"], [0.9, \"#4d9221\"], [1, \"#276419\"]], \"sequential\": [[0.0, \"#0d0887\"], [0.1111111111111111, \"#46039f\"], [0.2222222222222222, \"#7201a8\"], [0.3333333333333333, \"#9c179e\"], [0.4444444444444444, \"#bd3786\"], [0.5555555555555556, \"#d8576b\"], [0.6666666666666666, \"#ed7953\"], [0.7777777777777778, \"#fb9f3a\"], [0.8888888888888888, \"#fdca26\"], [1.0, \"#f0f921\"]], \"sequentialminus\": [[0.0, \"#0d0887\"], [0.1111111111111111, \"#46039f\"], [0.2222222222222222, \"#7201a8\"], [0.3333333333333333, \"#9c179e\"], [0.4444444444444444, \"#bd3786\"], [0.5555555555555556, \"#d8576b\"], [0.6666666666666666, \"#ed7953\"], [0.7777777777777778, \"#fb9f3a\"], [0.8888888888888888, \"#fdca26\"], [1.0, \"#f0f921\"]]}, \"colorway\": [\"#636efa\", \"#EF553B\", \"#00cc96\", \"#ab63fa\", \"#FFA15A\", \"#19d3f3\", \"#FF6692\", \"#B6E880\", \"#FF97FF\", \"#FECB52\"], \"font\": {\"color\": \"#2a3f5f\"}, \"geo\": {\"bgcolor\": \"white\", \"lakecolor\": \"white\", \"landcolor\": \"#E5ECF6\", \"showlakes\": true, \"showland\": true, \"subunitcolor\": \"white\"}, \"hoverlabel\": {\"align\": \"left\"}, \"hovermode\": \"closest\", \"mapbox\": {\"style\": \"light\"}, \"paper_bgcolor\": \"white\", \"plot_bgcolor\": \"#E5ECF6\", \"polar\": {\"angularaxis\": {\"gridcolor\": \"white\", \"linecolor\": \"white\", \"ticks\": \"\"}, \"bgcolor\": \"#E5ECF6\", \"radialaxis\": {\"gridcolor\": \"white\", \"linecolor\": \"white\", \"ticks\": \"\"}}, \"scene\": {\"xaxis\": {\"backgroundcolor\": \"#E5ECF6\", \"gridcolor\": \"white\", \"gridwidth\": 2, \"linecolor\": \"white\", \"showbackground\": true, \"ticks\": \"\", \"zerolinecolor\": \"white\"}, \"yaxis\": {\"backgroundcolor\": \"#E5ECF6\", \"gridcolor\": \"white\", \"gridwidth\": 2, \"linecolor\": \"white\", \"showbackground\": true, \"ticks\": \"\", \"zerolinecolor\": \"white\"}, \"zaxis\": {\"backgroundcolor\": \"#E5ECF6\", \"gridcolor\": \"white\", \"gridwidth\": 2, \"linecolor\": \"white\", \"showbackground\": true, \"ticks\": \"\", \"zerolinecolor\": \"white\"}}, \"shapedefaults\": {\"line\": {\"color\": \"#2a3f5f\"}}, \"ternary\": {\"aaxis\": {\"gridcolor\": \"white\", \"linecolor\": \"white\", \"ticks\": \"\"}, \"baxis\": {\"gridcolor\": \"white\", \"linecolor\": \"white\", \"ticks\": \"\"}, \"bgcolor\": \"#E5ECF6\", \"caxis\": {\"gridcolor\": \"white\", \"linecolor\": \"white\", \"ticks\": \"\"}}, \"title\": {\"x\": 0.05}, \"xaxis\": {\"automargin\": true, \"gridcolor\": \"white\", \"linecolor\": \"white\", \"ticks\": \"\", \"title\": {\"standoff\": 15}, \"zerolinecolor\": \"white\", \"zerolinewidth\": 2}, \"yaxis\": {\"automargin\": true, \"gridcolor\": \"white\", \"linecolor\": \"white\", \"ticks\": \"\", \"title\": {\"standoff\": 15}, \"zerolinecolor\": \"white\", \"zerolinewidth\": 2}}}, \"title\": {\"text\": \"Time Series with Rangeslider\"}, \"xaxis\": {\"anchor\": \"y\", \"domain\": [0.0, 1.0], \"rangeslider\": {\"visible\": true}, \"title\": {\"text\": \"x\"}}, \"yaxis\": {\"anchor\": \"x\", \"domain\": [0.0, 1.0], \"title\": {\"text\": \"y\"}}},\n",
       "                        {\"responsive\": true}\n",
       "                    ).then(function(){\n",
       "                            \n",
       "var gd = document.getElementById('58119431-2ab3-4ba9-a424-97d6283116e0');\n",
       "var x = new MutationObserver(function (mutations, observer) {{\n",
       "        var display = window.getComputedStyle(gd).display;\n",
       "        if (!display || display === 'none') {{\n",
       "            console.log([gd, 'removed!']);\n",
       "            Plotly.purge(gd);\n",
       "            observer.disconnect();\n",
       "        }}\n",
       "}});\n",
       "\n",
       "// Listen for the removal of the full notebook cells\n",
       "var notebookContainer = gd.closest('#notebook-container');\n",
       "if (notebookContainer) {{\n",
       "    x.observe(notebookContainer, {childList: true});\n",
       "}}\n",
       "\n",
       "// Listen for the clearing of the current output cell\n",
       "var outputEl = gd.closest('.output');\n",
       "if (outputEl) {{\n",
       "    x.observe(outputEl, {childList: true});\n",
       "}}\n",
       "\n",
       "                        })\n",
       "                };\n",
       "                });\n",
       "            </script>\n",
       "        </div>"
      ]
     },
     "metadata": {},
     "output_type": "display_data"
    }
   ],
   "source": [
    "Y1 = time_series.iloc[0:,1].values\n",
    "X1= time_series.iloc[0:,0]\n",
    "fig = pz.line(time_series,X1,Y1, title='Time Series with Rangeslider')\n",
    "\n",
    "fig.update_xaxes(rangeslider_visible=True)\n",
    "fig.show()"
   ]
  },
  {
   "cell_type": "markdown",
   "metadata": {},
   "source": [
    "### Visualization on Indian Map"
   ]
  },
  {
   "cell_type": "code",
   "execution_count": 257,
   "metadata": {},
   "outputs": [],
   "source": [
    "india_cord=pd.read_csv('/home/ajax/Desktop/Coordinates.csv')\n",
    "#final.rename(columns={'location':'Country'},inplace=True)\n",
    "india_cord.rename(columns={'Name of State / UT':'State'},inplace =True)"
   ]
  },
  {
   "cell_type": "code",
   "execution_count": 258,
   "metadata": {},
   "outputs": [
    {
     "data": {
      "text/html": [
       "<div>\n",
       "<style scoped>\n",
       "    .dataframe tbody tr th:only-of-type {\n",
       "        vertical-align: middle;\n",
       "    }\n",
       "\n",
       "    .dataframe tbody tr th {\n",
       "        vertical-align: top;\n",
       "    }\n",
       "\n",
       "    .dataframe thead th {\n",
       "        text-align: right;\n",
       "    }\n",
       "</style>\n",
       "<table border=\"1\" class=\"dataframe\">\n",
       "  <thead>\n",
       "    <tr style=\"text-align: right;\">\n",
       "      <th></th>\n",
       "      <th>State</th>\n",
       "      <th>Lat</th>\n",
       "      <th>Long</th>\n",
       "      <th>Confirmed</th>\n",
       "      <th>Recovered</th>\n",
       "      <th>Deaths</th>\n",
       "      <th>Active</th>\n",
       "      <th>Migrated_Other</th>\n",
       "      <th>State_code</th>\n",
       "    </tr>\n",
       "  </thead>\n",
       "  <tbody>\n",
       "    <tr>\n",
       "      <th>0</th>\n",
       "      <td>Andhra Pradesh</td>\n",
       "      <td>14.750429</td>\n",
       "      <td>78.570026</td>\n",
       "      <td>6152</td>\n",
       "      <td>3316</td>\n",
       "      <td>84</td>\n",
       "      <td>2752</td>\n",
       "      <td>0</td>\n",
       "      <td>AP</td>\n",
       "    </tr>\n",
       "    <tr>\n",
       "      <th>1</th>\n",
       "      <td>Delhi</td>\n",
       "      <td>28.669993</td>\n",
       "      <td>77.230004</td>\n",
       "      <td>41182</td>\n",
       "      <td>15823</td>\n",
       "      <td>1327</td>\n",
       "      <td>24032</td>\n",
       "      <td>0</td>\n",
       "      <td>DL</td>\n",
       "    </tr>\n",
       "    <tr>\n",
       "      <th>2</th>\n",
       "      <td>Haryana</td>\n",
       "      <td>28.450006</td>\n",
       "      <td>77.019991</td>\n",
       "      <td>7208</td>\n",
       "      <td>3003</td>\n",
       "      <td>88</td>\n",
       "      <td>4117</td>\n",
       "      <td>0</td>\n",
       "      <td>HR</td>\n",
       "    </tr>\n",
       "    <tr>\n",
       "      <th>3</th>\n",
       "      <td>Karnataka</td>\n",
       "      <td>12.570381</td>\n",
       "      <td>76.919997</td>\n",
       "      <td>7000</td>\n",
       "      <td>3960</td>\n",
       "      <td>87</td>\n",
       "      <td>2951</td>\n",
       "      <td>2</td>\n",
       "      <td>KA</td>\n",
       "    </tr>\n",
       "    <tr>\n",
       "      <th>4</th>\n",
       "      <td>Kerala</td>\n",
       "      <td>8.900373</td>\n",
       "      <td>76.569993</td>\n",
       "      <td>2462</td>\n",
       "      <td>1101</td>\n",
       "      <td>20</td>\n",
       "      <td>1340</td>\n",
       "      <td>1</td>\n",
       "      <td>KL</td>\n",
       "    </tr>\n",
       "    <tr>\n",
       "      <th>5</th>\n",
       "      <td>Maharashtra</td>\n",
       "      <td>19.250232</td>\n",
       "      <td>73.160175</td>\n",
       "      <td>107958</td>\n",
       "      <td>50978</td>\n",
       "      <td>3950</td>\n",
       "      <td>53017</td>\n",
       "      <td>13</td>\n",
       "      <td>MH</td>\n",
       "    </tr>\n",
       "    <tr>\n",
       "      <th>6</th>\n",
       "      <td>Punjab</td>\n",
       "      <td>31.519974</td>\n",
       "      <td>75.980003</td>\n",
       "      <td>3140</td>\n",
       "      <td>2356</td>\n",
       "      <td>67</td>\n",
       "      <td>717</td>\n",
       "      <td>0</td>\n",
       "      <td>PB</td>\n",
       "    </tr>\n",
       "    <tr>\n",
       "      <th>7</th>\n",
       "      <td>Rajasthan</td>\n",
       "      <td>26.449999</td>\n",
       "      <td>74.639981</td>\n",
       "      <td>12694</td>\n",
       "      <td>9566</td>\n",
       "      <td>292</td>\n",
       "      <td>2836</td>\n",
       "      <td>0</td>\n",
       "      <td>RJ</td>\n",
       "    </tr>\n",
       "    <tr>\n",
       "      <th>8</th>\n",
       "      <td>Tamil Nadu</td>\n",
       "      <td>12.920386</td>\n",
       "      <td>79.150042</td>\n",
       "      <td>44661</td>\n",
       "      <td>24547</td>\n",
       "      <td>435</td>\n",
       "      <td>19679</td>\n",
       "      <td>0</td>\n",
       "      <td>TN</td>\n",
       "    </tr>\n",
       "    <tr>\n",
       "      <th>9</th>\n",
       "      <td>Uttar Pradesh</td>\n",
       "      <td>27.599981</td>\n",
       "      <td>78.050006</td>\n",
       "      <td>13615</td>\n",
       "      <td>8268</td>\n",
       "      <td>399</td>\n",
       "      <td>4948</td>\n",
       "      <td>0</td>\n",
       "      <td>UP</td>\n",
       "    </tr>\n",
       "    <tr>\n",
       "      <th>10</th>\n",
       "      <td>Uttarakhand</td>\n",
       "      <td>30.320409</td>\n",
       "      <td>78.050006</td>\n",
       "      <td>1819</td>\n",
       "      <td>1111</td>\n",
       "      <td>24</td>\n",
       "      <td>675</td>\n",
       "      <td>9</td>\n",
       "      <td>UT</td>\n",
       "    </tr>\n",
       "  </tbody>\n",
       "</table>\n",
       "</div>"
      ],
      "text/plain": [
       "             State        Lat       Long  Confirmed  Recovered  Deaths  \\\n",
       "0   Andhra Pradesh  14.750429  78.570026       6152       3316      84   \n",
       "1            Delhi  28.669993  77.230004      41182      15823    1327   \n",
       "2          Haryana  28.450006  77.019991       7208       3003      88   \n",
       "3        Karnataka  12.570381  76.919997       7000       3960      87   \n",
       "4           Kerala   8.900373  76.569993       2462       1101      20   \n",
       "5      Maharashtra  19.250232  73.160175     107958      50978    3950   \n",
       "6           Punjab  31.519974  75.980003       3140       2356      67   \n",
       "7        Rajasthan  26.449999  74.639981      12694       9566     292   \n",
       "8       Tamil Nadu  12.920386  79.150042      44661      24547     435   \n",
       "9    Uttar Pradesh  27.599981  78.050006      13615       8268     399   \n",
       "10     Uttarakhand  30.320409  78.050006       1819       1111      24   \n",
       "\n",
       "    Active  Migrated_Other State_code  \n",
       "0     2752               0         AP  \n",
       "1    24032               0         DL  \n",
       "2     4117               0         HR  \n",
       "3     2951               2         KA  \n",
       "4     1340               1         KL  \n",
       "5    53017              13         MH  \n",
       "6      717               0         PB  \n",
       "7     2836               0         RJ  \n",
       "8    19679               0         TN  \n",
       "9     4948               0         UP  \n",
       "10     675               9         UT  "
      ]
     },
     "execution_count": 258,
     "metadata": {},
     "output_type": "execute_result"
    }
   ],
   "source": [
    "df_full=pd.merge(india_cord,Clean_dta,on='State')\n",
    "df_full"
   ]
  },
  {
   "cell_type": "code",
   "execution_count": null,
   "metadata": {},
   "outputs": [],
   "source": []
  },
  {
   "cell_type": "markdown",
   "metadata": {},
   "source": [
    "## Now Let's Do The Analysis & Visualization  on World Data-Set "
   ]
  },
  {
   "cell_type": "code",
   "execution_count": 214,
   "metadata": {},
   "outputs": [],
   "source": [
    "world=pd.read_csv('https://covid.ourworldindata.org/data/owid-covid-data.csv')\n",
    "world.drop(['median_age','population_density','population','population','stringency_index','tests_units','tests_units','new_tests_smoothed_per_thousand','new_tests_smoothed_per_thousand','new_tests_smoothed','new_tests_per_thousand','total_tests_per_thousand','new_tests','total_tests','new_deaths_per_million','total_deaths_per_million','continent','new_cases','new_deaths','total_cases_per_million','new_cases_per_million','aged_65_older','aged_70_older','gdp_per_capita','extreme_poverty','cvd_death_rate','diabetes_prevalence','female_smokers','male_smokers','handwashing_facilities','hospital_beds_per_thousand'],axis=1,inplace=True)\n",
    "world.groupby(['location']).sum()\n",
    "world =world.sort_values(by=['total_cases','total_deaths'],ascending =False)"
   ]
  },
  {
   "cell_type": "code",
   "execution_count": 182,
   "metadata": {},
   "outputs": [],
   "source": [
    "curr_date=date.today()\n",
    "world['date'] =pd.to_datetime(world.date)\n",
    "world.date = world.date.dt.date\n",
    "world=world[world['iso_code'].isin(['CRI','GMB','GEO','DEU','GHA','GIB','GRC','GRL','GRD','GUM','GTM','GGY','GIN','GNB','GUY','HTI','HND','HKG','HUN','ISL','IDN','IRN','IRQ','IRL','IMN','ISR','CIV','HRV','CUB','CUW','CYP','CZE','COD','DNK','DJI','DMA','DOM','ECU','EGY','SLV','GNQ','ERI','EST','ETH','FRO','FLK','FJI','FIN','FRA','PYF','GAB','CPV','CYM','CAF','TCD','CHL','CHN','COL','COM','COG','BRN','BGR','BFA','BDI','KHM','CMR','CAN','OWID_WRL','BIH','VGB','BRA','BWA','BOL','BES','BTN','BMU','BLR','BLZ','BEN','BEL','BRB','BHR','BHS','BHR','AZE','ARM','ABW','AUS','AUT','ARG','ATG','AIA','AGO','AND','DZA','ALB','AFG','CHN','IND','USA','KOR','NZL','ESP','GBR','ITA','JPN','BRA'])]\n",
    "final=world.loc[world.date==curr_date]\n",
    "final.drop(['date'],axis=1,inplace=True)\n",
    "final.rename(columns={'location':'Country'},inplace=True)\n",
    "final.set_index(\"iso_code\", inplace = True) "
   ]
  },
  {
   "cell_type": "code",
   "execution_count": 212,
   "metadata": {},
   "outputs": [],
   "source": [
    "final=final.sort_values(by=['total_cases','total_deaths'],ascending =False)"
   ]
  },
  {
   "cell_type": "markdown",
   "metadata": {},
   "source": [
    "#### Total Cases Globally are:-"
   ]
  },
  {
   "cell_type": "code",
   "execution_count": 161,
   "metadata": {},
   "outputs": [
    {
     "data": {
      "text/plain": [
       "7882230.0"
      ]
     },
     "execution_count": 161,
     "metadata": {},
     "output_type": "execute_result"
    }
   ],
   "source": [
    "final.iat[0,0]"
   ]
  },
  {
   "cell_type": "code",
   "execution_count": 211,
   "metadata": {},
   "outputs": [
    {
     "data": {
      "text/html": [
       "<div>\n",
       "<style scoped>\n",
       "    .dataframe tbody tr th:only-of-type {\n",
       "        vertical-align: middle;\n",
       "    }\n",
       "\n",
       "    .dataframe tbody tr th {\n",
       "        vertical-align: top;\n",
       "    }\n",
       "\n",
       "    .dataframe thead th {\n",
       "        text-align: right;\n",
       "    }\n",
       "</style>\n",
       "<table border=\"1\" class=\"dataframe\">\n",
       "  <thead>\n",
       "    <tr style=\"text-align: right;\">\n",
       "      <th></th>\n",
       "      <th>Country</th>\n",
       "      <th>total_cases</th>\n",
       "      <th>total_deaths</th>\n",
       "    </tr>\n",
       "    <tr>\n",
       "      <th>iso_code</th>\n",
       "      <th></th>\n",
       "      <th></th>\n",
       "      <th></th>\n",
       "    </tr>\n",
       "  </thead>\n",
       "  <tbody>\n",
       "    <tr>\n",
       "      <th>USA</th>\n",
       "      <td>United States</td>\n",
       "      <td>2094069.0</td>\n",
       "      <td>115732.0</td>\n",
       "    </tr>\n",
       "    <tr>\n",
       "      <th>BRA</th>\n",
       "      <td>Brazil</td>\n",
       "      <td>867624.0</td>\n",
       "      <td>43332.0</td>\n",
       "    </tr>\n",
       "    <tr>\n",
       "      <th>IND</th>\n",
       "      <td>India</td>\n",
       "      <td>332424.0</td>\n",
       "      <td>9520.0</td>\n",
       "    </tr>\n",
       "    <tr>\n",
       "      <th>GBR</th>\n",
       "      <td>United Kingdom</td>\n",
       "      <td>295889.0</td>\n",
       "      <td>41698.0</td>\n",
       "    </tr>\n",
       "    <tr>\n",
       "      <th>ITA</th>\n",
       "      <td>Italy</td>\n",
       "      <td>236989.0</td>\n",
       "      <td>34345.0</td>\n",
       "    </tr>\n",
       "    <tr>\n",
       "      <th>IRN</th>\n",
       "      <td>Iran</td>\n",
       "      <td>187427.0</td>\n",
       "      <td>8837.0</td>\n",
       "    </tr>\n",
       "    <tr>\n",
       "      <th>DEU</th>\n",
       "      <td>Germany</td>\n",
       "      <td>186461.0</td>\n",
       "      <td>8791.0</td>\n",
       "    </tr>\n",
       "    <tr>\n",
       "      <th>CHL</th>\n",
       "      <td>Chile</td>\n",
       "      <td>174293.0</td>\n",
       "      <td>3323.0</td>\n",
       "    </tr>\n",
       "    <tr>\n",
       "      <th>FRA</th>\n",
       "      <td>France</td>\n",
       "      <td>157220.0</td>\n",
       "      <td>29407.0</td>\n",
       "    </tr>\n",
       "    <tr>\n",
       "      <th>CAN</th>\n",
       "      <td>Canada</td>\n",
       "      <td>98776.0</td>\n",
       "      <td>8146.0</td>\n",
       "    </tr>\n",
       "  </tbody>\n",
       "</table>\n",
       "</div>"
      ],
      "text/plain": [
       "                 Country  total_cases  total_deaths\n",
       "iso_code                                           \n",
       "USA        United States    2094069.0      115732.0\n",
       "BRA               Brazil     867624.0       43332.0\n",
       "IND                India     332424.0        9520.0\n",
       "GBR       United Kingdom     295889.0       41698.0\n",
       "ITA                Italy     236989.0       34345.0\n",
       "IRN                 Iran     187427.0        8837.0\n",
       "DEU              Germany     186461.0        8791.0\n",
       "CHL                Chile     174293.0        3323.0\n",
       "FRA               France     157220.0       29407.0\n",
       "CAN               Canada      98776.0        8146.0"
      ]
     },
     "execution_count": 211,
     "metadata": {},
     "output_type": "execute_result"
    }
   ],
   "source": [
    "final=final[final.Country != 'World']\n",
    "final.head(10)"
   ]
  },
  {
   "cell_type": "markdown",
   "metadata": {},
   "source": [
    "### Now lets do Some Visualization"
   ]
  },
  {
   "cell_type": "code",
   "execution_count": 221,
   "metadata": {
    "scrolled": false
   },
   "outputs": [
    {
     "data": {
      "application/vnd.plotly.v1+json": {
       "config": {
        "plotlyServerURL": "https://plot.ly"
       },
       "data": [
        {
         "hovertemplate": "<b>%{hovertext}</b><br><br>Country=%{x}<br>total_cases=%{marker.size}<extra></extra>",
         "hovertext": [
          "United States"
         ],
         "legendgroup": "United States",
         "marker": {
          "color": "#636efa",
          "size": [
           2094069
          ],
          "sizemode": "area",
          "sizeref": 209.4069,
          "symbol": "circle"
         },
         "mode": "markers",
         "name": "United States",
         "orientation": "v",
         "showlegend": true,
         "type": "scatter",
         "x": [
          "United States"
         ],
         "xaxis": "x",
         "y": [
          2094069
         ],
         "yaxis": "y"
        },
        {
         "hovertemplate": "<b>%{hovertext}</b><br><br>Country=%{x}<br>total_cases=%{marker.size}<extra></extra>",
         "hovertext": [
          "Brazil"
         ],
         "legendgroup": "Brazil",
         "marker": {
          "color": "#EF553B",
          "size": [
           867624
          ],
          "sizemode": "area",
          "sizeref": 209.4069,
          "symbol": "circle"
         },
         "mode": "markers",
         "name": "Brazil",
         "orientation": "v",
         "showlegend": true,
         "type": "scatter",
         "x": [
          "Brazil"
         ],
         "xaxis": "x",
         "y": [
          867624
         ],
         "yaxis": "y"
        },
        {
         "hovertemplate": "<b>%{hovertext}</b><br><br>Country=%{x}<br>total_cases=%{marker.size}<extra></extra>",
         "hovertext": [
          "India"
         ],
         "legendgroup": "India",
         "marker": {
          "color": "#00cc96",
          "size": [
           332424
          ],
          "sizemode": "area",
          "sizeref": 209.4069,
          "symbol": "circle"
         },
         "mode": "markers",
         "name": "India",
         "orientation": "v",
         "showlegend": true,
         "type": "scatter",
         "x": [
          "India"
         ],
         "xaxis": "x",
         "y": [
          332424
         ],
         "yaxis": "y"
        },
        {
         "hovertemplate": "<b>%{hovertext}</b><br><br>Country=%{x}<br>total_cases=%{marker.size}<extra></extra>",
         "hovertext": [
          "United Kingdom"
         ],
         "legendgroup": "United Kingdom",
         "marker": {
          "color": "#ab63fa",
          "size": [
           295889
          ],
          "sizemode": "area",
          "sizeref": 209.4069,
          "symbol": "circle"
         },
         "mode": "markers",
         "name": "United Kingdom",
         "orientation": "v",
         "showlegend": true,
         "type": "scatter",
         "x": [
          "United Kingdom"
         ],
         "xaxis": "x",
         "y": [
          295889
         ],
         "yaxis": "y"
        },
        {
         "hovertemplate": "<b>%{hovertext}</b><br><br>Country=%{x}<br>total_cases=%{marker.size}<extra></extra>",
         "hovertext": [
          "Italy"
         ],
         "legendgroup": "Italy",
         "marker": {
          "color": "#FFA15A",
          "size": [
           236989
          ],
          "sizemode": "area",
          "sizeref": 209.4069,
          "symbol": "circle"
         },
         "mode": "markers",
         "name": "Italy",
         "orientation": "v",
         "showlegend": true,
         "type": "scatter",
         "x": [
          "Italy"
         ],
         "xaxis": "x",
         "y": [
          236989
         ],
         "yaxis": "y"
        },
        {
         "hovertemplate": "<b>%{hovertext}</b><br><br>Country=%{x}<br>total_cases=%{marker.size}<extra></extra>",
         "hovertext": [
          "Iran"
         ],
         "legendgroup": "Iran",
         "marker": {
          "color": "#19d3f3",
          "size": [
           187427
          ],
          "sizemode": "area",
          "sizeref": 209.4069,
          "symbol": "circle"
         },
         "mode": "markers",
         "name": "Iran",
         "orientation": "v",
         "showlegend": true,
         "type": "scatter",
         "x": [
          "Iran"
         ],
         "xaxis": "x",
         "y": [
          187427
         ],
         "yaxis": "y"
        },
        {
         "hovertemplate": "<b>%{hovertext}</b><br><br>Country=%{x}<br>total_cases=%{marker.size}<extra></extra>",
         "hovertext": [
          "Germany"
         ],
         "legendgroup": "Germany",
         "marker": {
          "color": "#FF6692",
          "size": [
           186461
          ],
          "sizemode": "area",
          "sizeref": 209.4069,
          "symbol": "circle"
         },
         "mode": "markers",
         "name": "Germany",
         "orientation": "v",
         "showlegend": true,
         "type": "scatter",
         "x": [
          "Germany"
         ],
         "xaxis": "x",
         "y": [
          186461
         ],
         "yaxis": "y"
        },
        {
         "hovertemplate": "<b>%{hovertext}</b><br><br>Country=%{x}<br>total_cases=%{marker.size}<extra></extra>",
         "hovertext": [
          "Chile"
         ],
         "legendgroup": "Chile",
         "marker": {
          "color": "#B6E880",
          "size": [
           174293
          ],
          "sizemode": "area",
          "sizeref": 209.4069,
          "symbol": "circle"
         },
         "mode": "markers",
         "name": "Chile",
         "orientation": "v",
         "showlegend": true,
         "type": "scatter",
         "x": [
          "Chile"
         ],
         "xaxis": "x",
         "y": [
          174293
         ],
         "yaxis": "y"
        },
        {
         "hovertemplate": "<b>%{hovertext}</b><br><br>Country=%{x}<br>total_cases=%{marker.size}<extra></extra>",
         "hovertext": [
          "France"
         ],
         "legendgroup": "France",
         "marker": {
          "color": "#FF97FF",
          "size": [
           157220
          ],
          "sizemode": "area",
          "sizeref": 209.4069,
          "symbol": "circle"
         },
         "mode": "markers",
         "name": "France",
         "orientation": "v",
         "showlegend": true,
         "type": "scatter",
         "x": [
          "France"
         ],
         "xaxis": "x",
         "y": [
          157220
         ],
         "yaxis": "y"
        },
        {
         "hovertemplate": "<b>%{hovertext}</b><br><br>Country=%{x}<br>total_cases=%{marker.size}<extra></extra>",
         "hovertext": [
          "Canada"
         ],
         "legendgroup": "Canada",
         "marker": {
          "color": "#FECB52",
          "size": [
           98776
          ],
          "sizemode": "area",
          "sizeref": 209.4069,
          "symbol": "circle"
         },
         "mode": "markers",
         "name": "Canada",
         "orientation": "v",
         "showlegend": true,
         "type": "scatter",
         "x": [
          "Canada"
         ],
         "xaxis": "x",
         "y": [
          98776
         ],
         "yaxis": "y"
        },
        {
         "hovertemplate": "<b>%{hovertext}</b><br><br>Country=%{x}<br>total_cases=%{marker.size}<extra></extra>",
         "hovertext": [
          "China"
         ],
         "legendgroup": "China",
         "marker": {
          "color": "#636efa",
          "size": [
           84335
          ],
          "sizemode": "area",
          "sizeref": 209.4069,
          "symbol": "circle"
         },
         "mode": "markers",
         "name": "China",
         "orientation": "v",
         "showlegend": true,
         "type": "scatter",
         "x": [
          "China"
         ],
         "xaxis": "x",
         "y": [
          84335
         ],
         "yaxis": "y"
        },
        {
         "hovertemplate": "<b>%{hovertext}</b><br><br>Country=%{x}<br>total_cases=%{marker.size}<extra></extra>",
         "hovertext": [
          "Belgium"
         ],
         "legendgroup": "Belgium",
         "marker": {
          "color": "#EF553B",
          "size": [
           60029
          ],
          "sizemode": "area",
          "sizeref": 209.4069,
          "symbol": "circle"
         },
         "mode": "markers",
         "name": "Belgium",
         "orientation": "v",
         "showlegend": true,
         "type": "scatter",
         "x": [
          "Belgium"
         ],
         "xaxis": "x",
         "y": [
          60029
         ],
         "yaxis": "y"
        },
        {
         "hovertemplate": "<b>%{hovertext}</b><br><br>Country=%{x}<br>total_cases=%{marker.size}<extra></extra>",
         "hovertext": [
          "Belarus"
         ],
         "legendgroup": "Belarus",
         "marker": {
          "color": "#00cc96",
          "size": [
           53973
          ],
          "sizemode": "area",
          "sizeref": 209.4069,
          "symbol": "circle"
         },
         "mode": "markers",
         "name": "Belarus",
         "orientation": "v",
         "showlegend": true,
         "type": "scatter",
         "x": [
          "Belarus"
         ],
         "xaxis": "x",
         "y": [
          53973
         ],
         "yaxis": "y"
        },
        {
         "hovertemplate": "<b>%{hovertext}</b><br><br>Country=%{x}<br>total_cases=%{marker.size}<extra></extra>",
         "hovertext": [
          "Colombia"
         ],
         "legendgroup": "Colombia",
         "marker": {
          "color": "#ab63fa",
          "size": [
           50939
          ],
          "sizemode": "area",
          "sizeref": 209.4069,
          "symbol": "circle"
         },
         "mode": "markers",
         "name": "Colombia",
         "orientation": "v",
         "showlegend": true,
         "type": "scatter",
         "x": [
          "Colombia"
         ],
         "xaxis": "x",
         "y": [
          50939
         ],
         "yaxis": "y"
        },
        {
         "hovertemplate": "<b>%{hovertext}</b><br><br>Country=%{x}<br>total_cases=%{marker.size}<extra></extra>",
         "hovertext": [
          "Ecuador"
         ],
         "legendgroup": "Ecuador",
         "marker": {
          "color": "#FFA15A",
          "size": [
           46751
          ],
          "sizemode": "area",
          "sizeref": 209.4069,
          "symbol": "circle"
         },
         "mode": "markers",
         "name": "Ecuador",
         "orientation": "v",
         "showlegend": true,
         "type": "scatter",
         "x": [
          "Ecuador"
         ],
         "xaxis": "x",
         "y": [
          46751
         ],
         "yaxis": "y"
        }
       ],
       "layout": {
        "font": {
         "family": "Courier New, monospace",
         "size": 18
        },
        "legend": {
         "itemsizing": "constant",
         "title": {
          "text": "Country"
         },
         "tracegroupgap": 0
        },
        "margin": {
         "t": 60
        },
        "template": {
         "data": {
          "bar": [
           {
            "error_x": {
             "color": "#2a3f5f"
            },
            "error_y": {
             "color": "#2a3f5f"
            },
            "marker": {
             "line": {
              "color": "#E5ECF6",
              "width": 0.5
             }
            },
            "type": "bar"
           }
          ],
          "barpolar": [
           {
            "marker": {
             "line": {
              "color": "#E5ECF6",
              "width": 0.5
             }
            },
            "type": "barpolar"
           }
          ],
          "carpet": [
           {
            "aaxis": {
             "endlinecolor": "#2a3f5f",
             "gridcolor": "white",
             "linecolor": "white",
             "minorgridcolor": "white",
             "startlinecolor": "#2a3f5f"
            },
            "baxis": {
             "endlinecolor": "#2a3f5f",
             "gridcolor": "white",
             "linecolor": "white",
             "minorgridcolor": "white",
             "startlinecolor": "#2a3f5f"
            },
            "type": "carpet"
           }
          ],
          "choropleth": [
           {
            "colorbar": {
             "outlinewidth": 0,
             "ticks": ""
            },
            "type": "choropleth"
           }
          ],
          "contour": [
           {
            "colorbar": {
             "outlinewidth": 0,
             "ticks": ""
            },
            "colorscale": [
             [
              0,
              "#0d0887"
             ],
             [
              0.1111111111111111,
              "#46039f"
             ],
             [
              0.2222222222222222,
              "#7201a8"
             ],
             [
              0.3333333333333333,
              "#9c179e"
             ],
             [
              0.4444444444444444,
              "#bd3786"
             ],
             [
              0.5555555555555556,
              "#d8576b"
             ],
             [
              0.6666666666666666,
              "#ed7953"
             ],
             [
              0.7777777777777778,
              "#fb9f3a"
             ],
             [
              0.8888888888888888,
              "#fdca26"
             ],
             [
              1,
              "#f0f921"
             ]
            ],
            "type": "contour"
           }
          ],
          "contourcarpet": [
           {
            "colorbar": {
             "outlinewidth": 0,
             "ticks": ""
            },
            "type": "contourcarpet"
           }
          ],
          "heatmap": [
           {
            "colorbar": {
             "outlinewidth": 0,
             "ticks": ""
            },
            "colorscale": [
             [
              0,
              "#0d0887"
             ],
             [
              0.1111111111111111,
              "#46039f"
             ],
             [
              0.2222222222222222,
              "#7201a8"
             ],
             [
              0.3333333333333333,
              "#9c179e"
             ],
             [
              0.4444444444444444,
              "#bd3786"
             ],
             [
              0.5555555555555556,
              "#d8576b"
             ],
             [
              0.6666666666666666,
              "#ed7953"
             ],
             [
              0.7777777777777778,
              "#fb9f3a"
             ],
             [
              0.8888888888888888,
              "#fdca26"
             ],
             [
              1,
              "#f0f921"
             ]
            ],
            "type": "heatmap"
           }
          ],
          "heatmapgl": [
           {
            "colorbar": {
             "outlinewidth": 0,
             "ticks": ""
            },
            "colorscale": [
             [
              0,
              "#0d0887"
             ],
             [
              0.1111111111111111,
              "#46039f"
             ],
             [
              0.2222222222222222,
              "#7201a8"
             ],
             [
              0.3333333333333333,
              "#9c179e"
             ],
             [
              0.4444444444444444,
              "#bd3786"
             ],
             [
              0.5555555555555556,
              "#d8576b"
             ],
             [
              0.6666666666666666,
              "#ed7953"
             ],
             [
              0.7777777777777778,
              "#fb9f3a"
             ],
             [
              0.8888888888888888,
              "#fdca26"
             ],
             [
              1,
              "#f0f921"
             ]
            ],
            "type": "heatmapgl"
           }
          ],
          "histogram": [
           {
            "marker": {
             "colorbar": {
              "outlinewidth": 0,
              "ticks": ""
             }
            },
            "type": "histogram"
           }
          ],
          "histogram2d": [
           {
            "colorbar": {
             "outlinewidth": 0,
             "ticks": ""
            },
            "colorscale": [
             [
              0,
              "#0d0887"
             ],
             [
              0.1111111111111111,
              "#46039f"
             ],
             [
              0.2222222222222222,
              "#7201a8"
             ],
             [
              0.3333333333333333,
              "#9c179e"
             ],
             [
              0.4444444444444444,
              "#bd3786"
             ],
             [
              0.5555555555555556,
              "#d8576b"
             ],
             [
              0.6666666666666666,
              "#ed7953"
             ],
             [
              0.7777777777777778,
              "#fb9f3a"
             ],
             [
              0.8888888888888888,
              "#fdca26"
             ],
             [
              1,
              "#f0f921"
             ]
            ],
            "type": "histogram2d"
           }
          ],
          "histogram2dcontour": [
           {
            "colorbar": {
             "outlinewidth": 0,
             "ticks": ""
            },
            "colorscale": [
             [
              0,
              "#0d0887"
             ],
             [
              0.1111111111111111,
              "#46039f"
             ],
             [
              0.2222222222222222,
              "#7201a8"
             ],
             [
              0.3333333333333333,
              "#9c179e"
             ],
             [
              0.4444444444444444,
              "#bd3786"
             ],
             [
              0.5555555555555556,
              "#d8576b"
             ],
             [
              0.6666666666666666,
              "#ed7953"
             ],
             [
              0.7777777777777778,
              "#fb9f3a"
             ],
             [
              0.8888888888888888,
              "#fdca26"
             ],
             [
              1,
              "#f0f921"
             ]
            ],
            "type": "histogram2dcontour"
           }
          ],
          "mesh3d": [
           {
            "colorbar": {
             "outlinewidth": 0,
             "ticks": ""
            },
            "type": "mesh3d"
           }
          ],
          "parcoords": [
           {
            "line": {
             "colorbar": {
              "outlinewidth": 0,
              "ticks": ""
             }
            },
            "type": "parcoords"
           }
          ],
          "pie": [
           {
            "automargin": true,
            "type": "pie"
           }
          ],
          "scatter": [
           {
            "marker": {
             "colorbar": {
              "outlinewidth": 0,
              "ticks": ""
             }
            },
            "type": "scatter"
           }
          ],
          "scatter3d": [
           {
            "line": {
             "colorbar": {
              "outlinewidth": 0,
              "ticks": ""
             }
            },
            "marker": {
             "colorbar": {
              "outlinewidth": 0,
              "ticks": ""
             }
            },
            "type": "scatter3d"
           }
          ],
          "scattercarpet": [
           {
            "marker": {
             "colorbar": {
              "outlinewidth": 0,
              "ticks": ""
             }
            },
            "type": "scattercarpet"
           }
          ],
          "scattergeo": [
           {
            "marker": {
             "colorbar": {
              "outlinewidth": 0,
              "ticks": ""
             }
            },
            "type": "scattergeo"
           }
          ],
          "scattergl": [
           {
            "marker": {
             "colorbar": {
              "outlinewidth": 0,
              "ticks": ""
             }
            },
            "type": "scattergl"
           }
          ],
          "scattermapbox": [
           {
            "marker": {
             "colorbar": {
              "outlinewidth": 0,
              "ticks": ""
             }
            },
            "type": "scattermapbox"
           }
          ],
          "scatterpolar": [
           {
            "marker": {
             "colorbar": {
              "outlinewidth": 0,
              "ticks": ""
             }
            },
            "type": "scatterpolar"
           }
          ],
          "scatterpolargl": [
           {
            "marker": {
             "colorbar": {
              "outlinewidth": 0,
              "ticks": ""
             }
            },
            "type": "scatterpolargl"
           }
          ],
          "scatterternary": [
           {
            "marker": {
             "colorbar": {
              "outlinewidth": 0,
              "ticks": ""
             }
            },
            "type": "scatterternary"
           }
          ],
          "surface": [
           {
            "colorbar": {
             "outlinewidth": 0,
             "ticks": ""
            },
            "colorscale": [
             [
              0,
              "#0d0887"
             ],
             [
              0.1111111111111111,
              "#46039f"
             ],
             [
              0.2222222222222222,
              "#7201a8"
             ],
             [
              0.3333333333333333,
              "#9c179e"
             ],
             [
              0.4444444444444444,
              "#bd3786"
             ],
             [
              0.5555555555555556,
              "#d8576b"
             ],
             [
              0.6666666666666666,
              "#ed7953"
             ],
             [
              0.7777777777777778,
              "#fb9f3a"
             ],
             [
              0.8888888888888888,
              "#fdca26"
             ],
             [
              1,
              "#f0f921"
             ]
            ],
            "type": "surface"
           }
          ],
          "table": [
           {
            "cells": {
             "fill": {
              "color": "#EBF0F8"
             },
             "line": {
              "color": "white"
             }
            },
            "header": {
             "fill": {
              "color": "#C8D4E3"
             },
             "line": {
              "color": "white"
             }
            },
            "type": "table"
           }
          ]
         },
         "layout": {
          "annotationdefaults": {
           "arrowcolor": "#2a3f5f",
           "arrowhead": 0,
           "arrowwidth": 1
          },
          "coloraxis": {
           "colorbar": {
            "outlinewidth": 0,
            "ticks": ""
           }
          },
          "colorscale": {
           "diverging": [
            [
             0,
             "#8e0152"
            ],
            [
             0.1,
             "#c51b7d"
            ],
            [
             0.2,
             "#de77ae"
            ],
            [
             0.3,
             "#f1b6da"
            ],
            [
             0.4,
             "#fde0ef"
            ],
            [
             0.5,
             "#f7f7f7"
            ],
            [
             0.6,
             "#e6f5d0"
            ],
            [
             0.7,
             "#b8e186"
            ],
            [
             0.8,
             "#7fbc41"
            ],
            [
             0.9,
             "#4d9221"
            ],
            [
             1,
             "#276419"
            ]
           ],
           "sequential": [
            [
             0,
             "#0d0887"
            ],
            [
             0.1111111111111111,
             "#46039f"
            ],
            [
             0.2222222222222222,
             "#7201a8"
            ],
            [
             0.3333333333333333,
             "#9c179e"
            ],
            [
             0.4444444444444444,
             "#bd3786"
            ],
            [
             0.5555555555555556,
             "#d8576b"
            ],
            [
             0.6666666666666666,
             "#ed7953"
            ],
            [
             0.7777777777777778,
             "#fb9f3a"
            ],
            [
             0.8888888888888888,
             "#fdca26"
            ],
            [
             1,
             "#f0f921"
            ]
           ],
           "sequentialminus": [
            [
             0,
             "#0d0887"
            ],
            [
             0.1111111111111111,
             "#46039f"
            ],
            [
             0.2222222222222222,
             "#7201a8"
            ],
            [
             0.3333333333333333,
             "#9c179e"
            ],
            [
             0.4444444444444444,
             "#bd3786"
            ],
            [
             0.5555555555555556,
             "#d8576b"
            ],
            [
             0.6666666666666666,
             "#ed7953"
            ],
            [
             0.7777777777777778,
             "#fb9f3a"
            ],
            [
             0.8888888888888888,
             "#fdca26"
            ],
            [
             1,
             "#f0f921"
            ]
           ]
          },
          "colorway": [
           "#636efa",
           "#EF553B",
           "#00cc96",
           "#ab63fa",
           "#FFA15A",
           "#19d3f3",
           "#FF6692",
           "#B6E880",
           "#FF97FF",
           "#FECB52"
          ],
          "font": {
           "color": "#2a3f5f"
          },
          "geo": {
           "bgcolor": "white",
           "lakecolor": "white",
           "landcolor": "#E5ECF6",
           "showlakes": true,
           "showland": true,
           "subunitcolor": "white"
          },
          "hoverlabel": {
           "align": "left"
          },
          "hovermode": "closest",
          "mapbox": {
           "style": "light"
          },
          "paper_bgcolor": "white",
          "plot_bgcolor": "#E5ECF6",
          "polar": {
           "angularaxis": {
            "gridcolor": "white",
            "linecolor": "white",
            "ticks": ""
           },
           "bgcolor": "#E5ECF6",
           "radialaxis": {
            "gridcolor": "white",
            "linecolor": "white",
            "ticks": ""
           }
          },
          "scene": {
           "xaxis": {
            "backgroundcolor": "#E5ECF6",
            "gridcolor": "white",
            "gridwidth": 2,
            "linecolor": "white",
            "showbackground": true,
            "ticks": "",
            "zerolinecolor": "white"
           },
           "yaxis": {
            "backgroundcolor": "#E5ECF6",
            "gridcolor": "white",
            "gridwidth": 2,
            "linecolor": "white",
            "showbackground": true,
            "ticks": "",
            "zerolinecolor": "white"
           },
           "zaxis": {
            "backgroundcolor": "#E5ECF6",
            "gridcolor": "white",
            "gridwidth": 2,
            "linecolor": "white",
            "showbackground": true,
            "ticks": "",
            "zerolinecolor": "white"
           }
          },
          "shapedefaults": {
           "line": {
            "color": "#2a3f5f"
           }
          },
          "ternary": {
           "aaxis": {
            "gridcolor": "white",
            "linecolor": "white",
            "ticks": ""
           },
           "baxis": {
            "gridcolor": "white",
            "linecolor": "white",
            "ticks": ""
           },
           "bgcolor": "#E5ECF6",
           "caxis": {
            "gridcolor": "white",
            "linecolor": "white",
            "ticks": ""
           }
          },
          "title": {
           "x": 0.05
          },
          "xaxis": {
           "automargin": true,
           "gridcolor": "white",
           "linecolor": "white",
           "ticks": "",
           "title": {
            "standoff": 15
           },
           "zerolinecolor": "white",
           "zerolinewidth": 2
          },
          "yaxis": {
           "automargin": true,
           "gridcolor": "white",
           "linecolor": "white",
           "ticks": "",
           "title": {
            "standoff": 15
           },
           "zerolinecolor": "white",
           "zerolinewidth": 2
          }
         }
        },
        "title": {
         "text": "Coutry wise Confirmed cases"
        },
        "xaxis": {
         "anchor": "y",
         "categoryarray": [
          "United States",
          "Brazil",
          "India",
          "United Kingdom",
          "Italy",
          "Iran",
          "Germany",
          "Chile",
          "France",
          "Canada",
          "China",
          "Belgium",
          "Belarus",
          "Colombia",
          "Ecuador"
         ],
         "categoryorder": "array",
         "domain": [
          0,
          1
         ],
         "title": {
          "text": "Country"
         }
        },
        "yaxis": {
         "anchor": "x",
         "domain": [
          0,
          1
         ],
         "title": {
          "text": "Total Confirm Cases"
         }
        }
       }
      },
      "text/html": [
       "<div>\n",
       "        \n",
       "        \n",
       "            <div id=\"7c21db15-c7b1-4c02-ad93-d9e3b8691e50\" class=\"plotly-graph-div\" style=\"height:525px; width:100%;\"></div>\n",
       "            <script type=\"text/javascript\">\n",
       "                require([\"plotly\"], function(Plotly) {\n",
       "                    window.PLOTLYENV=window.PLOTLYENV || {};\n",
       "                    \n",
       "                if (document.getElementById(\"7c21db15-c7b1-4c02-ad93-d9e3b8691e50\")) {\n",
       "                    Plotly.newPlot(\n",
       "                        '7c21db15-c7b1-4c02-ad93-d9e3b8691e50',\n",
       "                        [{\"hovertemplate\": \"<b>%{hovertext}</b><br><br>Country=%{x}<br>total_cases=%{marker.size}<extra></extra>\", \"hovertext\": [\"United States\"], \"legendgroup\": \"United States\", \"marker\": {\"color\": \"#636efa\", \"size\": [2094069.0], \"sizemode\": \"area\", \"sizeref\": 209.4069, \"symbol\": \"circle\"}, \"mode\": \"markers\", \"name\": \"United States\", \"orientation\": \"v\", \"showlegend\": true, \"type\": \"scatter\", \"x\": [\"United States\"], \"xaxis\": \"x\", \"y\": [2094069.0], \"yaxis\": \"y\"}, {\"hovertemplate\": \"<b>%{hovertext}</b><br><br>Country=%{x}<br>total_cases=%{marker.size}<extra></extra>\", \"hovertext\": [\"Brazil\"], \"legendgroup\": \"Brazil\", \"marker\": {\"color\": \"#EF553B\", \"size\": [867624.0], \"sizemode\": \"area\", \"sizeref\": 209.4069, \"symbol\": \"circle\"}, \"mode\": \"markers\", \"name\": \"Brazil\", \"orientation\": \"v\", \"showlegend\": true, \"type\": \"scatter\", \"x\": [\"Brazil\"], \"xaxis\": \"x\", \"y\": [867624.0], \"yaxis\": \"y\"}, {\"hovertemplate\": \"<b>%{hovertext}</b><br><br>Country=%{x}<br>total_cases=%{marker.size}<extra></extra>\", \"hovertext\": [\"India\"], \"legendgroup\": \"India\", \"marker\": {\"color\": \"#00cc96\", \"size\": [332424.0], \"sizemode\": \"area\", \"sizeref\": 209.4069, \"symbol\": \"circle\"}, \"mode\": \"markers\", \"name\": \"India\", \"orientation\": \"v\", \"showlegend\": true, \"type\": \"scatter\", \"x\": [\"India\"], \"xaxis\": \"x\", \"y\": [332424.0], \"yaxis\": \"y\"}, {\"hovertemplate\": \"<b>%{hovertext}</b><br><br>Country=%{x}<br>total_cases=%{marker.size}<extra></extra>\", \"hovertext\": [\"United Kingdom\"], \"legendgroup\": \"United Kingdom\", \"marker\": {\"color\": \"#ab63fa\", \"size\": [295889.0], \"sizemode\": \"area\", \"sizeref\": 209.4069, \"symbol\": \"circle\"}, \"mode\": \"markers\", \"name\": \"United Kingdom\", \"orientation\": \"v\", \"showlegend\": true, \"type\": \"scatter\", \"x\": [\"United Kingdom\"], \"xaxis\": \"x\", \"y\": [295889.0], \"yaxis\": \"y\"}, {\"hovertemplate\": \"<b>%{hovertext}</b><br><br>Country=%{x}<br>total_cases=%{marker.size}<extra></extra>\", \"hovertext\": [\"Italy\"], \"legendgroup\": \"Italy\", \"marker\": {\"color\": \"#FFA15A\", \"size\": [236989.0], \"sizemode\": \"area\", \"sizeref\": 209.4069, \"symbol\": \"circle\"}, \"mode\": \"markers\", \"name\": \"Italy\", \"orientation\": \"v\", \"showlegend\": true, \"type\": \"scatter\", \"x\": [\"Italy\"], \"xaxis\": \"x\", \"y\": [236989.0], \"yaxis\": \"y\"}, {\"hovertemplate\": \"<b>%{hovertext}</b><br><br>Country=%{x}<br>total_cases=%{marker.size}<extra></extra>\", \"hovertext\": [\"Iran\"], \"legendgroup\": \"Iran\", \"marker\": {\"color\": \"#19d3f3\", \"size\": [187427.0], \"sizemode\": \"area\", \"sizeref\": 209.4069, \"symbol\": \"circle\"}, \"mode\": \"markers\", \"name\": \"Iran\", \"orientation\": \"v\", \"showlegend\": true, \"type\": \"scatter\", \"x\": [\"Iran\"], \"xaxis\": \"x\", \"y\": [187427.0], \"yaxis\": \"y\"}, {\"hovertemplate\": \"<b>%{hovertext}</b><br><br>Country=%{x}<br>total_cases=%{marker.size}<extra></extra>\", \"hovertext\": [\"Germany\"], \"legendgroup\": \"Germany\", \"marker\": {\"color\": \"#FF6692\", \"size\": [186461.0], \"sizemode\": \"area\", \"sizeref\": 209.4069, \"symbol\": \"circle\"}, \"mode\": \"markers\", \"name\": \"Germany\", \"orientation\": \"v\", \"showlegend\": true, \"type\": \"scatter\", \"x\": [\"Germany\"], \"xaxis\": \"x\", \"y\": [186461.0], \"yaxis\": \"y\"}, {\"hovertemplate\": \"<b>%{hovertext}</b><br><br>Country=%{x}<br>total_cases=%{marker.size}<extra></extra>\", \"hovertext\": [\"Chile\"], \"legendgroup\": \"Chile\", \"marker\": {\"color\": \"#B6E880\", \"size\": [174293.0], \"sizemode\": \"area\", \"sizeref\": 209.4069, \"symbol\": \"circle\"}, \"mode\": \"markers\", \"name\": \"Chile\", \"orientation\": \"v\", \"showlegend\": true, \"type\": \"scatter\", \"x\": [\"Chile\"], \"xaxis\": \"x\", \"y\": [174293.0], \"yaxis\": \"y\"}, {\"hovertemplate\": \"<b>%{hovertext}</b><br><br>Country=%{x}<br>total_cases=%{marker.size}<extra></extra>\", \"hovertext\": [\"France\"], \"legendgroup\": \"France\", \"marker\": {\"color\": \"#FF97FF\", \"size\": [157220.0], \"sizemode\": \"area\", \"sizeref\": 209.4069, \"symbol\": \"circle\"}, \"mode\": \"markers\", \"name\": \"France\", \"orientation\": \"v\", \"showlegend\": true, \"type\": \"scatter\", \"x\": [\"France\"], \"xaxis\": \"x\", \"y\": [157220.0], \"yaxis\": \"y\"}, {\"hovertemplate\": \"<b>%{hovertext}</b><br><br>Country=%{x}<br>total_cases=%{marker.size}<extra></extra>\", \"hovertext\": [\"Canada\"], \"legendgroup\": \"Canada\", \"marker\": {\"color\": \"#FECB52\", \"size\": [98776.0], \"sizemode\": \"area\", \"sizeref\": 209.4069, \"symbol\": \"circle\"}, \"mode\": \"markers\", \"name\": \"Canada\", \"orientation\": \"v\", \"showlegend\": true, \"type\": \"scatter\", \"x\": [\"Canada\"], \"xaxis\": \"x\", \"y\": [98776.0], \"yaxis\": \"y\"}, {\"hovertemplate\": \"<b>%{hovertext}</b><br><br>Country=%{x}<br>total_cases=%{marker.size}<extra></extra>\", \"hovertext\": [\"China\"], \"legendgroup\": \"China\", \"marker\": {\"color\": \"#636efa\", \"size\": [84335.0], \"sizemode\": \"area\", \"sizeref\": 209.4069, \"symbol\": \"circle\"}, \"mode\": \"markers\", \"name\": \"China\", \"orientation\": \"v\", \"showlegend\": true, \"type\": \"scatter\", \"x\": [\"China\"], \"xaxis\": \"x\", \"y\": [84335.0], \"yaxis\": \"y\"}, {\"hovertemplate\": \"<b>%{hovertext}</b><br><br>Country=%{x}<br>total_cases=%{marker.size}<extra></extra>\", \"hovertext\": [\"Belgium\"], \"legendgroup\": \"Belgium\", \"marker\": {\"color\": \"#EF553B\", \"size\": [60029.0], \"sizemode\": \"area\", \"sizeref\": 209.4069, \"symbol\": \"circle\"}, \"mode\": \"markers\", \"name\": \"Belgium\", \"orientation\": \"v\", \"showlegend\": true, \"type\": \"scatter\", \"x\": [\"Belgium\"], \"xaxis\": \"x\", \"y\": [60029.0], \"yaxis\": \"y\"}, {\"hovertemplate\": \"<b>%{hovertext}</b><br><br>Country=%{x}<br>total_cases=%{marker.size}<extra></extra>\", \"hovertext\": [\"Belarus\"], \"legendgroup\": \"Belarus\", \"marker\": {\"color\": \"#00cc96\", \"size\": [53973.0], \"sizemode\": \"area\", \"sizeref\": 209.4069, \"symbol\": \"circle\"}, \"mode\": \"markers\", \"name\": \"Belarus\", \"orientation\": \"v\", \"showlegend\": true, \"type\": \"scatter\", \"x\": [\"Belarus\"], \"xaxis\": \"x\", \"y\": [53973.0], \"yaxis\": \"y\"}, {\"hovertemplate\": \"<b>%{hovertext}</b><br><br>Country=%{x}<br>total_cases=%{marker.size}<extra></extra>\", \"hovertext\": [\"Colombia\"], \"legendgroup\": \"Colombia\", \"marker\": {\"color\": \"#ab63fa\", \"size\": [50939.0], \"sizemode\": \"area\", \"sizeref\": 209.4069, \"symbol\": \"circle\"}, \"mode\": \"markers\", \"name\": \"Colombia\", \"orientation\": \"v\", \"showlegend\": true, \"type\": \"scatter\", \"x\": [\"Colombia\"], \"xaxis\": \"x\", \"y\": [50939.0], \"yaxis\": \"y\"}, {\"hovertemplate\": \"<b>%{hovertext}</b><br><br>Country=%{x}<br>total_cases=%{marker.size}<extra></extra>\", \"hovertext\": [\"Ecuador\"], \"legendgroup\": \"Ecuador\", \"marker\": {\"color\": \"#FFA15A\", \"size\": [46751.0], \"sizemode\": \"area\", \"sizeref\": 209.4069, \"symbol\": \"circle\"}, \"mode\": \"markers\", \"name\": \"Ecuador\", \"orientation\": \"v\", \"showlegend\": true, \"type\": \"scatter\", \"x\": [\"Ecuador\"], \"xaxis\": \"x\", \"y\": [46751.0], \"yaxis\": \"y\"}],\n",
       "                        {\"font\": {\"family\": \"Courier New, monospace\", \"size\": 18}, \"legend\": {\"itemsizing\": \"constant\", \"title\": {\"text\": \"Country\"}, \"tracegroupgap\": 0}, \"margin\": {\"t\": 60}, \"template\": {\"data\": {\"bar\": [{\"error_x\": {\"color\": \"#2a3f5f\"}, \"error_y\": {\"color\": \"#2a3f5f\"}, \"marker\": {\"line\": {\"color\": \"#E5ECF6\", \"width\": 0.5}}, \"type\": \"bar\"}], \"barpolar\": [{\"marker\": {\"line\": {\"color\": \"#E5ECF6\", \"width\": 0.5}}, \"type\": \"barpolar\"}], \"carpet\": [{\"aaxis\": {\"endlinecolor\": \"#2a3f5f\", \"gridcolor\": \"white\", \"linecolor\": \"white\", \"minorgridcolor\": \"white\", \"startlinecolor\": \"#2a3f5f\"}, \"baxis\": {\"endlinecolor\": \"#2a3f5f\", \"gridcolor\": \"white\", \"linecolor\": \"white\", \"minorgridcolor\": \"white\", \"startlinecolor\": \"#2a3f5f\"}, \"type\": \"carpet\"}], \"choropleth\": [{\"colorbar\": {\"outlinewidth\": 0, \"ticks\": \"\"}, \"type\": \"choropleth\"}], \"contour\": [{\"colorbar\": {\"outlinewidth\": 0, \"ticks\": \"\"}, \"colorscale\": [[0.0, \"#0d0887\"], [0.1111111111111111, \"#46039f\"], [0.2222222222222222, \"#7201a8\"], [0.3333333333333333, \"#9c179e\"], [0.4444444444444444, \"#bd3786\"], [0.5555555555555556, \"#d8576b\"], [0.6666666666666666, \"#ed7953\"], [0.7777777777777778, \"#fb9f3a\"], [0.8888888888888888, \"#fdca26\"], [1.0, \"#f0f921\"]], \"type\": \"contour\"}], \"contourcarpet\": [{\"colorbar\": {\"outlinewidth\": 0, \"ticks\": \"\"}, \"type\": \"contourcarpet\"}], \"heatmap\": [{\"colorbar\": {\"outlinewidth\": 0, \"ticks\": \"\"}, \"colorscale\": [[0.0, \"#0d0887\"], [0.1111111111111111, \"#46039f\"], [0.2222222222222222, \"#7201a8\"], [0.3333333333333333, \"#9c179e\"], [0.4444444444444444, \"#bd3786\"], [0.5555555555555556, \"#d8576b\"], [0.6666666666666666, \"#ed7953\"], [0.7777777777777778, \"#fb9f3a\"], [0.8888888888888888, \"#fdca26\"], [1.0, \"#f0f921\"]], \"type\": \"heatmap\"}], \"heatmapgl\": [{\"colorbar\": {\"outlinewidth\": 0, \"ticks\": \"\"}, \"colorscale\": [[0.0, \"#0d0887\"], [0.1111111111111111, \"#46039f\"], [0.2222222222222222, \"#7201a8\"], [0.3333333333333333, \"#9c179e\"], [0.4444444444444444, \"#bd3786\"], [0.5555555555555556, \"#d8576b\"], [0.6666666666666666, \"#ed7953\"], [0.7777777777777778, \"#fb9f3a\"], [0.8888888888888888, \"#fdca26\"], [1.0, \"#f0f921\"]], \"type\": \"heatmapgl\"}], \"histogram\": [{\"marker\": {\"colorbar\": {\"outlinewidth\": 0, \"ticks\": \"\"}}, \"type\": \"histogram\"}], \"histogram2d\": [{\"colorbar\": {\"outlinewidth\": 0, \"ticks\": \"\"}, \"colorscale\": [[0.0, \"#0d0887\"], [0.1111111111111111, \"#46039f\"], [0.2222222222222222, \"#7201a8\"], [0.3333333333333333, \"#9c179e\"], [0.4444444444444444, \"#bd3786\"], [0.5555555555555556, \"#d8576b\"], [0.6666666666666666, \"#ed7953\"], [0.7777777777777778, \"#fb9f3a\"], [0.8888888888888888, \"#fdca26\"], [1.0, \"#f0f921\"]], \"type\": \"histogram2d\"}], \"histogram2dcontour\": [{\"colorbar\": {\"outlinewidth\": 0, \"ticks\": \"\"}, \"colorscale\": [[0.0, \"#0d0887\"], [0.1111111111111111, \"#46039f\"], [0.2222222222222222, \"#7201a8\"], [0.3333333333333333, \"#9c179e\"], [0.4444444444444444, \"#bd3786\"], [0.5555555555555556, \"#d8576b\"], [0.6666666666666666, \"#ed7953\"], [0.7777777777777778, \"#fb9f3a\"], [0.8888888888888888, \"#fdca26\"], [1.0, \"#f0f921\"]], \"type\": \"histogram2dcontour\"}], \"mesh3d\": [{\"colorbar\": {\"outlinewidth\": 0, \"ticks\": \"\"}, \"type\": \"mesh3d\"}], \"parcoords\": [{\"line\": {\"colorbar\": {\"outlinewidth\": 0, \"ticks\": \"\"}}, \"type\": \"parcoords\"}], \"pie\": [{\"automargin\": true, \"type\": \"pie\"}], \"scatter\": [{\"marker\": {\"colorbar\": {\"outlinewidth\": 0, \"ticks\": \"\"}}, \"type\": \"scatter\"}], \"scatter3d\": [{\"line\": {\"colorbar\": {\"outlinewidth\": 0, \"ticks\": \"\"}}, \"marker\": {\"colorbar\": {\"outlinewidth\": 0, \"ticks\": \"\"}}, \"type\": \"scatter3d\"}], \"scattercarpet\": [{\"marker\": {\"colorbar\": {\"outlinewidth\": 0, \"ticks\": \"\"}}, \"type\": \"scattercarpet\"}], \"scattergeo\": [{\"marker\": {\"colorbar\": {\"outlinewidth\": 0, \"ticks\": \"\"}}, \"type\": \"scattergeo\"}], \"scattergl\": [{\"marker\": {\"colorbar\": {\"outlinewidth\": 0, \"ticks\": \"\"}}, \"type\": \"scattergl\"}], \"scattermapbox\": [{\"marker\": {\"colorbar\": {\"outlinewidth\": 0, \"ticks\": \"\"}}, \"type\": \"scattermapbox\"}], \"scatterpolar\": [{\"marker\": {\"colorbar\": {\"outlinewidth\": 0, \"ticks\": \"\"}}, \"type\": \"scatterpolar\"}], \"scatterpolargl\": [{\"marker\": {\"colorbar\": {\"outlinewidth\": 0, \"ticks\": \"\"}}, \"type\": \"scatterpolargl\"}], \"scatterternary\": [{\"marker\": {\"colorbar\": {\"outlinewidth\": 0, \"ticks\": \"\"}}, \"type\": \"scatterternary\"}], \"surface\": [{\"colorbar\": {\"outlinewidth\": 0, \"ticks\": \"\"}, \"colorscale\": [[0.0, \"#0d0887\"], [0.1111111111111111, \"#46039f\"], [0.2222222222222222, \"#7201a8\"], [0.3333333333333333, \"#9c179e\"], [0.4444444444444444, \"#bd3786\"], [0.5555555555555556, \"#d8576b\"], [0.6666666666666666, \"#ed7953\"], [0.7777777777777778, \"#fb9f3a\"], [0.8888888888888888, \"#fdca26\"], [1.0, \"#f0f921\"]], \"type\": \"surface\"}], \"table\": [{\"cells\": {\"fill\": {\"color\": \"#EBF0F8\"}, \"line\": {\"color\": \"white\"}}, \"header\": {\"fill\": {\"color\": \"#C8D4E3\"}, \"line\": {\"color\": \"white\"}}, \"type\": \"table\"}]}, \"layout\": {\"annotationdefaults\": {\"arrowcolor\": \"#2a3f5f\", \"arrowhead\": 0, \"arrowwidth\": 1}, \"coloraxis\": {\"colorbar\": {\"outlinewidth\": 0, \"ticks\": \"\"}}, \"colorscale\": {\"diverging\": [[0, \"#8e0152\"], [0.1, \"#c51b7d\"], [0.2, \"#de77ae\"], [0.3, \"#f1b6da\"], [0.4, \"#fde0ef\"], [0.5, \"#f7f7f7\"], [0.6, \"#e6f5d0\"], [0.7, \"#b8e186\"], [0.8, \"#7fbc41\"], [0.9, \"#4d9221\"], [1, \"#276419\"]], \"sequential\": [[0.0, \"#0d0887\"], [0.1111111111111111, \"#46039f\"], [0.2222222222222222, \"#7201a8\"], [0.3333333333333333, \"#9c179e\"], [0.4444444444444444, \"#bd3786\"], [0.5555555555555556, \"#d8576b\"], [0.6666666666666666, \"#ed7953\"], [0.7777777777777778, \"#fb9f3a\"], [0.8888888888888888, \"#fdca26\"], [1.0, \"#f0f921\"]], \"sequentialminus\": [[0.0, \"#0d0887\"], [0.1111111111111111, \"#46039f\"], [0.2222222222222222, \"#7201a8\"], [0.3333333333333333, \"#9c179e\"], [0.4444444444444444, \"#bd3786\"], [0.5555555555555556, \"#d8576b\"], [0.6666666666666666, \"#ed7953\"], [0.7777777777777778, \"#fb9f3a\"], [0.8888888888888888, \"#fdca26\"], [1.0, \"#f0f921\"]]}, \"colorway\": [\"#636efa\", \"#EF553B\", \"#00cc96\", \"#ab63fa\", \"#FFA15A\", \"#19d3f3\", \"#FF6692\", \"#B6E880\", \"#FF97FF\", \"#FECB52\"], \"font\": {\"color\": \"#2a3f5f\"}, \"geo\": {\"bgcolor\": \"white\", \"lakecolor\": \"white\", \"landcolor\": \"#E5ECF6\", \"showlakes\": true, \"showland\": true, \"subunitcolor\": \"white\"}, \"hoverlabel\": {\"align\": \"left\"}, \"hovermode\": \"closest\", \"mapbox\": {\"style\": \"light\"}, \"paper_bgcolor\": \"white\", \"plot_bgcolor\": \"#E5ECF6\", \"polar\": {\"angularaxis\": {\"gridcolor\": \"white\", \"linecolor\": \"white\", \"ticks\": \"\"}, \"bgcolor\": \"#E5ECF6\", \"radialaxis\": {\"gridcolor\": \"white\", \"linecolor\": \"white\", \"ticks\": \"\"}}, \"scene\": {\"xaxis\": {\"backgroundcolor\": \"#E5ECF6\", \"gridcolor\": \"white\", \"gridwidth\": 2, \"linecolor\": \"white\", \"showbackground\": true, \"ticks\": \"\", \"zerolinecolor\": \"white\"}, \"yaxis\": {\"backgroundcolor\": \"#E5ECF6\", \"gridcolor\": \"white\", \"gridwidth\": 2, \"linecolor\": \"white\", \"showbackground\": true, \"ticks\": \"\", \"zerolinecolor\": \"white\"}, \"zaxis\": {\"backgroundcolor\": \"#E5ECF6\", \"gridcolor\": \"white\", \"gridwidth\": 2, \"linecolor\": \"white\", \"showbackground\": true, \"ticks\": \"\", \"zerolinecolor\": \"white\"}}, \"shapedefaults\": {\"line\": {\"color\": \"#2a3f5f\"}}, \"ternary\": {\"aaxis\": {\"gridcolor\": \"white\", \"linecolor\": \"white\", \"ticks\": \"\"}, \"baxis\": {\"gridcolor\": \"white\", \"linecolor\": \"white\", \"ticks\": \"\"}, \"bgcolor\": \"#E5ECF6\", \"caxis\": {\"gridcolor\": \"white\", \"linecolor\": \"white\", \"ticks\": \"\"}}, \"title\": {\"x\": 0.05}, \"xaxis\": {\"automargin\": true, \"gridcolor\": \"white\", \"linecolor\": \"white\", \"ticks\": \"\", \"title\": {\"standoff\": 15}, \"zerolinecolor\": \"white\", \"zerolinewidth\": 2}, \"yaxis\": {\"automargin\": true, \"gridcolor\": \"white\", \"linecolor\": \"white\", \"ticks\": \"\", \"title\": {\"standoff\": 15}, \"zerolinecolor\": \"white\", \"zerolinewidth\": 2}}}, \"title\": {\"text\": \"Coutry wise Confirmed cases\"}, \"xaxis\": {\"anchor\": \"y\", \"categoryarray\": [\"United States\", \"Brazil\", \"India\", \"United Kingdom\", \"Italy\", \"Iran\", \"Germany\", \"Chile\", \"France\", \"Canada\", \"China\", \"Belgium\", \"Belarus\", \"Colombia\", \"Ecuador\"], \"categoryorder\": \"array\", \"domain\": [0.0, 1.0], \"title\": {\"text\": \"Country\"}}, \"yaxis\": {\"anchor\": \"x\", \"domain\": [0.0, 1.0], \"title\": {\"text\": \"Total Confirm Cases\"}}},\n",
       "                        {\"responsive\": true}\n",
       "                    ).then(function(){\n",
       "                            \n",
       "var gd = document.getElementById('7c21db15-c7b1-4c02-ad93-d9e3b8691e50');\n",
       "var x = new MutationObserver(function (mutations, observer) {{\n",
       "        var display = window.getComputedStyle(gd).display;\n",
       "        if (!display || display === 'none') {{\n",
       "            console.log([gd, 'removed!']);\n",
       "            Plotly.purge(gd);\n",
       "            observer.disconnect();\n",
       "        }}\n",
       "}});\n",
       "\n",
       "// Listen for the removal of the full notebook cells\n",
       "var notebookContainer = gd.closest('#notebook-container');\n",
       "if (notebookContainer) {{\n",
       "    x.observe(notebookContainer, {childList: true});\n",
       "}}\n",
       "\n",
       "// Listen for the clearing of the current output cell\n",
       "var outputEl = gd.closest('.output');\n",
       "if (outputEl) {{\n",
       "    x.observe(outputEl, {childList: true});\n",
       "}}\n",
       "\n",
       "                        })\n",
       "                };\n",
       "                });\n",
       "            </script>\n",
       "        </div>"
      ]
     },
     "metadata": {},
     "output_type": "display_data"
    }
   ],
   "source": [
    "fig=pz.scatter(final.head(15),x='Country',y='total_cases',size='total_cases',\n",
    "              color='Country',hover_name='Country',size_max=100)\n",
    "fig.update_layout(\n",
    "    title=\"Coutry wise Confirmed cases\",\n",
    "    yaxis_title=\"Total Confirm Cases\",\n",
    "    font=dict(\n",
    "        family=\"Courier New, monospace\",\n",
    "        size=18\n",
    "    )\n",
    ")\n",
    "\n",
    "\n",
    "fig.show()"
   ]
  },
  {
   "cell_type": "markdown",
   "metadata": {},
   "source": [
    "### Total No.of Deaths in Different Countrues"
   ]
  },
  {
   "cell_type": "code",
   "execution_count": 216,
   "metadata": {},
   "outputs": [
    {
     "data": {
      "application/vnd.plotly.v1+json": {
       "config": {
        "linkText": "Export to plot.ly",
        "plotlyServerURL": "https://plot.ly",
        "showLink": true
       },
       "data": [
        {
         "marker": {
          "color": "rgba(255, 153, 51, 0.6)",
          "line": {
           "color": "rgba(255, 153, 51, 1.0)",
           "width": 1
          }
         },
         "name": "total_deaths",
         "orientation": "v",
         "text": "",
         "type": "bar",
         "x": [
          "United States",
          "Brazil",
          "India",
          "United Kingdom",
          "Italy",
          "Iran",
          "Germany",
          "Chile",
          "France",
          "Canada"
         ],
         "y": [
          115732,
          43332,
          9520,
          41698,
          34345,
          8837,
          8791,
          3323,
          29407,
          8146
         ]
        }
       ],
       "layout": {
        "legend": {
         "bgcolor": "#F5F6F9",
         "font": {
          "color": "#4D5663"
         }
        },
        "paper_bgcolor": "#F5F6F9",
        "plot_bgcolor": "#F5F6F9",
        "template": {
         "data": {
          "bar": [
           {
            "error_x": {
             "color": "#2a3f5f"
            },
            "error_y": {
             "color": "#2a3f5f"
            },
            "marker": {
             "line": {
              "color": "#E5ECF6",
              "width": 0.5
             }
            },
            "type": "bar"
           }
          ],
          "barpolar": [
           {
            "marker": {
             "line": {
              "color": "#E5ECF6",
              "width": 0.5
             }
            },
            "type": "barpolar"
           }
          ],
          "carpet": [
           {
            "aaxis": {
             "endlinecolor": "#2a3f5f",
             "gridcolor": "white",
             "linecolor": "white",
             "minorgridcolor": "white",
             "startlinecolor": "#2a3f5f"
            },
            "baxis": {
             "endlinecolor": "#2a3f5f",
             "gridcolor": "white",
             "linecolor": "white",
             "minorgridcolor": "white",
             "startlinecolor": "#2a3f5f"
            },
            "type": "carpet"
           }
          ],
          "choropleth": [
           {
            "colorbar": {
             "outlinewidth": 0,
             "ticks": ""
            },
            "type": "choropleth"
           }
          ],
          "contour": [
           {
            "colorbar": {
             "outlinewidth": 0,
             "ticks": ""
            },
            "colorscale": [
             [
              0,
              "#0d0887"
             ],
             [
              0.1111111111111111,
              "#46039f"
             ],
             [
              0.2222222222222222,
              "#7201a8"
             ],
             [
              0.3333333333333333,
              "#9c179e"
             ],
             [
              0.4444444444444444,
              "#bd3786"
             ],
             [
              0.5555555555555556,
              "#d8576b"
             ],
             [
              0.6666666666666666,
              "#ed7953"
             ],
             [
              0.7777777777777778,
              "#fb9f3a"
             ],
             [
              0.8888888888888888,
              "#fdca26"
             ],
             [
              1,
              "#f0f921"
             ]
            ],
            "type": "contour"
           }
          ],
          "contourcarpet": [
           {
            "colorbar": {
             "outlinewidth": 0,
             "ticks": ""
            },
            "type": "contourcarpet"
           }
          ],
          "heatmap": [
           {
            "colorbar": {
             "outlinewidth": 0,
             "ticks": ""
            },
            "colorscale": [
             [
              0,
              "#0d0887"
             ],
             [
              0.1111111111111111,
              "#46039f"
             ],
             [
              0.2222222222222222,
              "#7201a8"
             ],
             [
              0.3333333333333333,
              "#9c179e"
             ],
             [
              0.4444444444444444,
              "#bd3786"
             ],
             [
              0.5555555555555556,
              "#d8576b"
             ],
             [
              0.6666666666666666,
              "#ed7953"
             ],
             [
              0.7777777777777778,
              "#fb9f3a"
             ],
             [
              0.8888888888888888,
              "#fdca26"
             ],
             [
              1,
              "#f0f921"
             ]
            ],
            "type": "heatmap"
           }
          ],
          "heatmapgl": [
           {
            "colorbar": {
             "outlinewidth": 0,
             "ticks": ""
            },
            "colorscale": [
             [
              0,
              "#0d0887"
             ],
             [
              0.1111111111111111,
              "#46039f"
             ],
             [
              0.2222222222222222,
              "#7201a8"
             ],
             [
              0.3333333333333333,
              "#9c179e"
             ],
             [
              0.4444444444444444,
              "#bd3786"
             ],
             [
              0.5555555555555556,
              "#d8576b"
             ],
             [
              0.6666666666666666,
              "#ed7953"
             ],
             [
              0.7777777777777778,
              "#fb9f3a"
             ],
             [
              0.8888888888888888,
              "#fdca26"
             ],
             [
              1,
              "#f0f921"
             ]
            ],
            "type": "heatmapgl"
           }
          ],
          "histogram": [
           {
            "marker": {
             "colorbar": {
              "outlinewidth": 0,
              "ticks": ""
             }
            },
            "type": "histogram"
           }
          ],
          "histogram2d": [
           {
            "colorbar": {
             "outlinewidth": 0,
             "ticks": ""
            },
            "colorscale": [
             [
              0,
              "#0d0887"
             ],
             [
              0.1111111111111111,
              "#46039f"
             ],
             [
              0.2222222222222222,
              "#7201a8"
             ],
             [
              0.3333333333333333,
              "#9c179e"
             ],
             [
              0.4444444444444444,
              "#bd3786"
             ],
             [
              0.5555555555555556,
              "#d8576b"
             ],
             [
              0.6666666666666666,
              "#ed7953"
             ],
             [
              0.7777777777777778,
              "#fb9f3a"
             ],
             [
              0.8888888888888888,
              "#fdca26"
             ],
             [
              1,
              "#f0f921"
             ]
            ],
            "type": "histogram2d"
           }
          ],
          "histogram2dcontour": [
           {
            "colorbar": {
             "outlinewidth": 0,
             "ticks": ""
            },
            "colorscale": [
             [
              0,
              "#0d0887"
             ],
             [
              0.1111111111111111,
              "#46039f"
             ],
             [
              0.2222222222222222,
              "#7201a8"
             ],
             [
              0.3333333333333333,
              "#9c179e"
             ],
             [
              0.4444444444444444,
              "#bd3786"
             ],
             [
              0.5555555555555556,
              "#d8576b"
             ],
             [
              0.6666666666666666,
              "#ed7953"
             ],
             [
              0.7777777777777778,
              "#fb9f3a"
             ],
             [
              0.8888888888888888,
              "#fdca26"
             ],
             [
              1,
              "#f0f921"
             ]
            ],
            "type": "histogram2dcontour"
           }
          ],
          "mesh3d": [
           {
            "colorbar": {
             "outlinewidth": 0,
             "ticks": ""
            },
            "type": "mesh3d"
           }
          ],
          "parcoords": [
           {
            "line": {
             "colorbar": {
              "outlinewidth": 0,
              "ticks": ""
             }
            },
            "type": "parcoords"
           }
          ],
          "pie": [
           {
            "automargin": true,
            "type": "pie"
           }
          ],
          "scatter": [
           {
            "marker": {
             "colorbar": {
              "outlinewidth": 0,
              "ticks": ""
             }
            },
            "type": "scatter"
           }
          ],
          "scatter3d": [
           {
            "line": {
             "colorbar": {
              "outlinewidth": 0,
              "ticks": ""
             }
            },
            "marker": {
             "colorbar": {
              "outlinewidth": 0,
              "ticks": ""
             }
            },
            "type": "scatter3d"
           }
          ],
          "scattercarpet": [
           {
            "marker": {
             "colorbar": {
              "outlinewidth": 0,
              "ticks": ""
             }
            },
            "type": "scattercarpet"
           }
          ],
          "scattergeo": [
           {
            "marker": {
             "colorbar": {
              "outlinewidth": 0,
              "ticks": ""
             }
            },
            "type": "scattergeo"
           }
          ],
          "scattergl": [
           {
            "marker": {
             "colorbar": {
              "outlinewidth": 0,
              "ticks": ""
             }
            },
            "type": "scattergl"
           }
          ],
          "scattermapbox": [
           {
            "marker": {
             "colorbar": {
              "outlinewidth": 0,
              "ticks": ""
             }
            },
            "type": "scattermapbox"
           }
          ],
          "scatterpolar": [
           {
            "marker": {
             "colorbar": {
              "outlinewidth": 0,
              "ticks": ""
             }
            },
            "type": "scatterpolar"
           }
          ],
          "scatterpolargl": [
           {
            "marker": {
             "colorbar": {
              "outlinewidth": 0,
              "ticks": ""
             }
            },
            "type": "scatterpolargl"
           }
          ],
          "scatterternary": [
           {
            "marker": {
             "colorbar": {
              "outlinewidth": 0,
              "ticks": ""
             }
            },
            "type": "scatterternary"
           }
          ],
          "surface": [
           {
            "colorbar": {
             "outlinewidth": 0,
             "ticks": ""
            },
            "colorscale": [
             [
              0,
              "#0d0887"
             ],
             [
              0.1111111111111111,
              "#46039f"
             ],
             [
              0.2222222222222222,
              "#7201a8"
             ],
             [
              0.3333333333333333,
              "#9c179e"
             ],
             [
              0.4444444444444444,
              "#bd3786"
             ],
             [
              0.5555555555555556,
              "#d8576b"
             ],
             [
              0.6666666666666666,
              "#ed7953"
             ],
             [
              0.7777777777777778,
              "#fb9f3a"
             ],
             [
              0.8888888888888888,
              "#fdca26"
             ],
             [
              1,
              "#f0f921"
             ]
            ],
            "type": "surface"
           }
          ],
          "table": [
           {
            "cells": {
             "fill": {
              "color": "#EBF0F8"
             },
             "line": {
              "color": "white"
             }
            },
            "header": {
             "fill": {
              "color": "#C8D4E3"
             },
             "line": {
              "color": "white"
             }
            },
            "type": "table"
           }
          ]
         },
         "layout": {
          "annotationdefaults": {
           "arrowcolor": "#2a3f5f",
           "arrowhead": 0,
           "arrowwidth": 1
          },
          "coloraxis": {
           "colorbar": {
            "outlinewidth": 0,
            "ticks": ""
           }
          },
          "colorscale": {
           "diverging": [
            [
             0,
             "#8e0152"
            ],
            [
             0.1,
             "#c51b7d"
            ],
            [
             0.2,
             "#de77ae"
            ],
            [
             0.3,
             "#f1b6da"
            ],
            [
             0.4,
             "#fde0ef"
            ],
            [
             0.5,
             "#f7f7f7"
            ],
            [
             0.6,
             "#e6f5d0"
            ],
            [
             0.7,
             "#b8e186"
            ],
            [
             0.8,
             "#7fbc41"
            ],
            [
             0.9,
             "#4d9221"
            ],
            [
             1,
             "#276419"
            ]
           ],
           "sequential": [
            [
             0,
             "#0d0887"
            ],
            [
             0.1111111111111111,
             "#46039f"
            ],
            [
             0.2222222222222222,
             "#7201a8"
            ],
            [
             0.3333333333333333,
             "#9c179e"
            ],
            [
             0.4444444444444444,
             "#bd3786"
            ],
            [
             0.5555555555555556,
             "#d8576b"
            ],
            [
             0.6666666666666666,
             "#ed7953"
            ],
            [
             0.7777777777777778,
             "#fb9f3a"
            ],
            [
             0.8888888888888888,
             "#fdca26"
            ],
            [
             1,
             "#f0f921"
            ]
           ],
           "sequentialminus": [
            [
             0,
             "#0d0887"
            ],
            [
             0.1111111111111111,
             "#46039f"
            ],
            [
             0.2222222222222222,
             "#7201a8"
            ],
            [
             0.3333333333333333,
             "#9c179e"
            ],
            [
             0.4444444444444444,
             "#bd3786"
            ],
            [
             0.5555555555555556,
             "#d8576b"
            ],
            [
             0.6666666666666666,
             "#ed7953"
            ],
            [
             0.7777777777777778,
             "#fb9f3a"
            ],
            [
             0.8888888888888888,
             "#fdca26"
            ],
            [
             1,
             "#f0f921"
            ]
           ]
          },
          "colorway": [
           "#636efa",
           "#EF553B",
           "#00cc96",
           "#ab63fa",
           "#FFA15A",
           "#19d3f3",
           "#FF6692",
           "#B6E880",
           "#FF97FF",
           "#FECB52"
          ],
          "font": {
           "color": "#2a3f5f"
          },
          "geo": {
           "bgcolor": "white",
           "lakecolor": "white",
           "landcolor": "#E5ECF6",
           "showlakes": true,
           "showland": true,
           "subunitcolor": "white"
          },
          "hoverlabel": {
           "align": "left"
          },
          "hovermode": "closest",
          "mapbox": {
           "style": "light"
          },
          "paper_bgcolor": "white",
          "plot_bgcolor": "#E5ECF6",
          "polar": {
           "angularaxis": {
            "gridcolor": "white",
            "linecolor": "white",
            "ticks": ""
           },
           "bgcolor": "#E5ECF6",
           "radialaxis": {
            "gridcolor": "white",
            "linecolor": "white",
            "ticks": ""
           }
          },
          "scene": {
           "xaxis": {
            "backgroundcolor": "#E5ECF6",
            "gridcolor": "white",
            "gridwidth": 2,
            "linecolor": "white",
            "showbackground": true,
            "ticks": "",
            "zerolinecolor": "white"
           },
           "yaxis": {
            "backgroundcolor": "#E5ECF6",
            "gridcolor": "white",
            "gridwidth": 2,
            "linecolor": "white",
            "showbackground": true,
            "ticks": "",
            "zerolinecolor": "white"
           },
           "zaxis": {
            "backgroundcolor": "#E5ECF6",
            "gridcolor": "white",
            "gridwidth": 2,
            "linecolor": "white",
            "showbackground": true,
            "ticks": "",
            "zerolinecolor": "white"
           }
          },
          "shapedefaults": {
           "line": {
            "color": "#2a3f5f"
           }
          },
          "ternary": {
           "aaxis": {
            "gridcolor": "white",
            "linecolor": "white",
            "ticks": ""
           },
           "baxis": {
            "gridcolor": "white",
            "linecolor": "white",
            "ticks": ""
           },
           "bgcolor": "#E5ECF6",
           "caxis": {
            "gridcolor": "white",
            "linecolor": "white",
            "ticks": ""
           }
          },
          "title": {
           "x": 0.05
          },
          "xaxis": {
           "automargin": true,
           "gridcolor": "white",
           "linecolor": "white",
           "ticks": "",
           "title": {
            "standoff": 15
           },
           "zerolinecolor": "white",
           "zerolinewidth": 2
          },
          "yaxis": {
           "automargin": true,
           "gridcolor": "white",
           "linecolor": "white",
           "ticks": "",
           "title": {
            "standoff": 15
           },
           "zerolinecolor": "white",
           "zerolinewidth": 2
          }
         }
        },
        "title": {
         "font": {
          "color": "#4D5663"
         }
        },
        "xaxis": {
         "gridcolor": "#E1E5ED",
         "showgrid": true,
         "tickfont": {
          "color": "#4D5663"
         },
         "title": {
          "font": {
           "color": "#4D5663"
          },
          "text": ""
         },
         "zerolinecolor": "#E1E5ED"
        },
        "yaxis": {
         "gridcolor": "#E1E5ED",
         "showgrid": true,
         "tickfont": {
          "color": "#4D5663"
         },
         "title": {
          "font": {
           "color": "#4D5663"
          },
          "text": ""
         },
         "zerolinecolor": "#E1E5ED"
        }
       }
      },
      "text/html": [
       "<div>\n",
       "        \n",
       "        \n",
       "            <div id=\"9faace67-a67a-46dd-9831-332b3037546a\" class=\"plotly-graph-div\" style=\"height:525px; width:100%;\"></div>\n",
       "            <script type=\"text/javascript\">\n",
       "                require([\"plotly\"], function(Plotly) {\n",
       "                    window.PLOTLYENV=window.PLOTLYENV || {};\n",
       "                    window.PLOTLYENV.BASE_URL='https://plot.ly';\n",
       "                    \n",
       "                if (document.getElementById(\"9faace67-a67a-46dd-9831-332b3037546a\")) {\n",
       "                    Plotly.newPlot(\n",
       "                        '9faace67-a67a-46dd-9831-332b3037546a',\n",
       "                        [{\"marker\": {\"color\": \"rgba(255, 153, 51, 0.6)\", \"line\": {\"color\": \"rgba(255, 153, 51, 1.0)\", \"width\": 1}}, \"name\": \"total_deaths\", \"orientation\": \"v\", \"text\": \"\", \"type\": \"bar\", \"x\": [\"United States\", \"Brazil\", \"India\", \"United Kingdom\", \"Italy\", \"Iran\", \"Germany\", \"Chile\", \"France\", \"Canada\"], \"y\": [115732.0, 43332.0, 9520.0, 41698.0, 34345.0, 8837.0, 8791.0, 3323.0, 29407.0, 8146.0]}],\n",
       "                        {\"legend\": {\"bgcolor\": \"#F5F6F9\", \"font\": {\"color\": \"#4D5663\"}}, \"paper_bgcolor\": \"#F5F6F9\", \"plot_bgcolor\": \"#F5F6F9\", \"template\": {\"data\": {\"bar\": [{\"error_x\": {\"color\": \"#2a3f5f\"}, \"error_y\": {\"color\": \"#2a3f5f\"}, \"marker\": {\"line\": {\"color\": \"#E5ECF6\", \"width\": 0.5}}, \"type\": \"bar\"}], \"barpolar\": [{\"marker\": {\"line\": {\"color\": \"#E5ECF6\", \"width\": 0.5}}, \"type\": \"barpolar\"}], \"carpet\": [{\"aaxis\": {\"endlinecolor\": \"#2a3f5f\", \"gridcolor\": \"white\", \"linecolor\": \"white\", \"minorgridcolor\": \"white\", \"startlinecolor\": \"#2a3f5f\"}, \"baxis\": {\"endlinecolor\": \"#2a3f5f\", \"gridcolor\": \"white\", \"linecolor\": \"white\", \"minorgridcolor\": \"white\", \"startlinecolor\": \"#2a3f5f\"}, \"type\": \"carpet\"}], \"choropleth\": [{\"colorbar\": {\"outlinewidth\": 0, \"ticks\": \"\"}, \"type\": \"choropleth\"}], \"contour\": [{\"colorbar\": {\"outlinewidth\": 0, \"ticks\": \"\"}, \"colorscale\": [[0.0, \"#0d0887\"], [0.1111111111111111, \"#46039f\"], [0.2222222222222222, \"#7201a8\"], [0.3333333333333333, \"#9c179e\"], [0.4444444444444444, \"#bd3786\"], [0.5555555555555556, \"#d8576b\"], [0.6666666666666666, \"#ed7953\"], [0.7777777777777778, \"#fb9f3a\"], [0.8888888888888888, \"#fdca26\"], [1.0, \"#f0f921\"]], \"type\": \"contour\"}], \"contourcarpet\": [{\"colorbar\": {\"outlinewidth\": 0, \"ticks\": \"\"}, \"type\": \"contourcarpet\"}], \"heatmap\": [{\"colorbar\": {\"outlinewidth\": 0, \"ticks\": \"\"}, \"colorscale\": [[0.0, \"#0d0887\"], [0.1111111111111111, \"#46039f\"], [0.2222222222222222, \"#7201a8\"], [0.3333333333333333, \"#9c179e\"], [0.4444444444444444, \"#bd3786\"], [0.5555555555555556, \"#d8576b\"], [0.6666666666666666, \"#ed7953\"], [0.7777777777777778, \"#fb9f3a\"], [0.8888888888888888, \"#fdca26\"], [1.0, \"#f0f921\"]], \"type\": \"heatmap\"}], \"heatmapgl\": [{\"colorbar\": {\"outlinewidth\": 0, \"ticks\": \"\"}, \"colorscale\": [[0.0, \"#0d0887\"], [0.1111111111111111, \"#46039f\"], [0.2222222222222222, \"#7201a8\"], [0.3333333333333333, \"#9c179e\"], [0.4444444444444444, \"#bd3786\"], [0.5555555555555556, \"#d8576b\"], [0.6666666666666666, \"#ed7953\"], [0.7777777777777778, \"#fb9f3a\"], [0.8888888888888888, \"#fdca26\"], [1.0, \"#f0f921\"]], \"type\": \"heatmapgl\"}], \"histogram\": [{\"marker\": {\"colorbar\": {\"outlinewidth\": 0, \"ticks\": \"\"}}, \"type\": \"histogram\"}], \"histogram2d\": [{\"colorbar\": {\"outlinewidth\": 0, \"ticks\": \"\"}, \"colorscale\": [[0.0, \"#0d0887\"], [0.1111111111111111, \"#46039f\"], [0.2222222222222222, \"#7201a8\"], [0.3333333333333333, \"#9c179e\"], [0.4444444444444444, \"#bd3786\"], [0.5555555555555556, \"#d8576b\"], [0.6666666666666666, \"#ed7953\"], [0.7777777777777778, \"#fb9f3a\"], [0.8888888888888888, \"#fdca26\"], [1.0, \"#f0f921\"]], \"type\": \"histogram2d\"}], \"histogram2dcontour\": [{\"colorbar\": {\"outlinewidth\": 0, \"ticks\": \"\"}, \"colorscale\": [[0.0, \"#0d0887\"], [0.1111111111111111, \"#46039f\"], [0.2222222222222222, \"#7201a8\"], [0.3333333333333333, \"#9c179e\"], [0.4444444444444444, \"#bd3786\"], [0.5555555555555556, \"#d8576b\"], [0.6666666666666666, \"#ed7953\"], [0.7777777777777778, \"#fb9f3a\"], [0.8888888888888888, \"#fdca26\"], [1.0, \"#f0f921\"]], \"type\": \"histogram2dcontour\"}], \"mesh3d\": [{\"colorbar\": {\"outlinewidth\": 0, \"ticks\": \"\"}, \"type\": \"mesh3d\"}], \"parcoords\": [{\"line\": {\"colorbar\": {\"outlinewidth\": 0, \"ticks\": \"\"}}, \"type\": \"parcoords\"}], \"pie\": [{\"automargin\": true, \"type\": \"pie\"}], \"scatter\": [{\"marker\": {\"colorbar\": {\"outlinewidth\": 0, \"ticks\": \"\"}}, \"type\": \"scatter\"}], \"scatter3d\": [{\"line\": {\"colorbar\": {\"outlinewidth\": 0, \"ticks\": \"\"}}, \"marker\": {\"colorbar\": {\"outlinewidth\": 0, \"ticks\": \"\"}}, \"type\": \"scatter3d\"}], \"scattercarpet\": [{\"marker\": {\"colorbar\": {\"outlinewidth\": 0, \"ticks\": \"\"}}, \"type\": \"scattercarpet\"}], \"scattergeo\": [{\"marker\": {\"colorbar\": {\"outlinewidth\": 0, \"ticks\": \"\"}}, \"type\": \"scattergeo\"}], \"scattergl\": [{\"marker\": {\"colorbar\": {\"outlinewidth\": 0, \"ticks\": \"\"}}, \"type\": \"scattergl\"}], \"scattermapbox\": [{\"marker\": {\"colorbar\": {\"outlinewidth\": 0, \"ticks\": \"\"}}, \"type\": \"scattermapbox\"}], \"scatterpolar\": [{\"marker\": {\"colorbar\": {\"outlinewidth\": 0, \"ticks\": \"\"}}, \"type\": \"scatterpolar\"}], \"scatterpolargl\": [{\"marker\": {\"colorbar\": {\"outlinewidth\": 0, \"ticks\": \"\"}}, \"type\": \"scatterpolargl\"}], \"scatterternary\": [{\"marker\": {\"colorbar\": {\"outlinewidth\": 0, \"ticks\": \"\"}}, \"type\": \"scatterternary\"}], \"surface\": [{\"colorbar\": {\"outlinewidth\": 0, \"ticks\": \"\"}, \"colorscale\": [[0.0, \"#0d0887\"], [0.1111111111111111, \"#46039f\"], [0.2222222222222222, \"#7201a8\"], [0.3333333333333333, \"#9c179e\"], [0.4444444444444444, \"#bd3786\"], [0.5555555555555556, \"#d8576b\"], [0.6666666666666666, \"#ed7953\"], [0.7777777777777778, \"#fb9f3a\"], [0.8888888888888888, \"#fdca26\"], [1.0, \"#f0f921\"]], \"type\": \"surface\"}], \"table\": [{\"cells\": {\"fill\": {\"color\": \"#EBF0F8\"}, \"line\": {\"color\": \"white\"}}, \"header\": {\"fill\": {\"color\": \"#C8D4E3\"}, \"line\": {\"color\": \"white\"}}, \"type\": \"table\"}]}, \"layout\": {\"annotationdefaults\": {\"arrowcolor\": \"#2a3f5f\", \"arrowhead\": 0, \"arrowwidth\": 1}, \"coloraxis\": {\"colorbar\": {\"outlinewidth\": 0, \"ticks\": \"\"}}, \"colorscale\": {\"diverging\": [[0, \"#8e0152\"], [0.1, \"#c51b7d\"], [0.2, \"#de77ae\"], [0.3, \"#f1b6da\"], [0.4, \"#fde0ef\"], [0.5, \"#f7f7f7\"], [0.6, \"#e6f5d0\"], [0.7, \"#b8e186\"], [0.8, \"#7fbc41\"], [0.9, \"#4d9221\"], [1, \"#276419\"]], \"sequential\": [[0.0, \"#0d0887\"], [0.1111111111111111, \"#46039f\"], [0.2222222222222222, \"#7201a8\"], [0.3333333333333333, \"#9c179e\"], [0.4444444444444444, \"#bd3786\"], [0.5555555555555556, \"#d8576b\"], [0.6666666666666666, \"#ed7953\"], [0.7777777777777778, \"#fb9f3a\"], [0.8888888888888888, \"#fdca26\"], [1.0, \"#f0f921\"]], \"sequentialminus\": [[0.0, \"#0d0887\"], [0.1111111111111111, \"#46039f\"], [0.2222222222222222, \"#7201a8\"], [0.3333333333333333, \"#9c179e\"], [0.4444444444444444, \"#bd3786\"], [0.5555555555555556, \"#d8576b\"], [0.6666666666666666, \"#ed7953\"], [0.7777777777777778, \"#fb9f3a\"], [0.8888888888888888, \"#fdca26\"], [1.0, \"#f0f921\"]]}, \"colorway\": [\"#636efa\", \"#EF553B\", \"#00cc96\", \"#ab63fa\", \"#FFA15A\", \"#19d3f3\", \"#FF6692\", \"#B6E880\", \"#FF97FF\", \"#FECB52\"], \"font\": {\"color\": \"#2a3f5f\"}, \"geo\": {\"bgcolor\": \"white\", \"lakecolor\": \"white\", \"landcolor\": \"#E5ECF6\", \"showlakes\": true, \"showland\": true, \"subunitcolor\": \"white\"}, \"hoverlabel\": {\"align\": \"left\"}, \"hovermode\": \"closest\", \"mapbox\": {\"style\": \"light\"}, \"paper_bgcolor\": \"white\", \"plot_bgcolor\": \"#E5ECF6\", \"polar\": {\"angularaxis\": {\"gridcolor\": \"white\", \"linecolor\": \"white\", \"ticks\": \"\"}, \"bgcolor\": \"#E5ECF6\", \"radialaxis\": {\"gridcolor\": \"white\", \"linecolor\": \"white\", \"ticks\": \"\"}}, \"scene\": {\"xaxis\": {\"backgroundcolor\": \"#E5ECF6\", \"gridcolor\": \"white\", \"gridwidth\": 2, \"linecolor\": \"white\", \"showbackground\": true, \"ticks\": \"\", \"zerolinecolor\": \"white\"}, \"yaxis\": {\"backgroundcolor\": \"#E5ECF6\", \"gridcolor\": \"white\", \"gridwidth\": 2, \"linecolor\": \"white\", \"showbackground\": true, \"ticks\": \"\", \"zerolinecolor\": \"white\"}, \"zaxis\": {\"backgroundcolor\": \"#E5ECF6\", \"gridcolor\": \"white\", \"gridwidth\": 2, \"linecolor\": \"white\", \"showbackground\": true, \"ticks\": \"\", \"zerolinecolor\": \"white\"}}, \"shapedefaults\": {\"line\": {\"color\": \"#2a3f5f\"}}, \"ternary\": {\"aaxis\": {\"gridcolor\": \"white\", \"linecolor\": \"white\", \"ticks\": \"\"}, \"baxis\": {\"gridcolor\": \"white\", \"linecolor\": \"white\", \"ticks\": \"\"}, \"bgcolor\": \"#E5ECF6\", \"caxis\": {\"gridcolor\": \"white\", \"linecolor\": \"white\", \"ticks\": \"\"}}, \"title\": {\"x\": 0.05}, \"xaxis\": {\"automargin\": true, \"gridcolor\": \"white\", \"linecolor\": \"white\", \"ticks\": \"\", \"title\": {\"standoff\": 15}, \"zerolinecolor\": \"white\", \"zerolinewidth\": 2}, \"yaxis\": {\"automargin\": true, \"gridcolor\": \"white\", \"linecolor\": \"white\", \"ticks\": \"\", \"title\": {\"standoff\": 15}, \"zerolinecolor\": \"white\", \"zerolinewidth\": 2}}}, \"title\": {\"font\": {\"color\": \"#4D5663\"}}, \"xaxis\": {\"gridcolor\": \"#E1E5ED\", \"showgrid\": true, \"tickfont\": {\"color\": \"#4D5663\"}, \"title\": {\"font\": {\"color\": \"#4D5663\"}, \"text\": \"\"}, \"zerolinecolor\": \"#E1E5ED\"}, \"yaxis\": {\"gridcolor\": \"#E1E5ED\", \"showgrid\": true, \"tickfont\": {\"color\": \"#4D5663\"}, \"title\": {\"font\": {\"color\": \"#4D5663\"}, \"text\": \"\"}, \"zerolinecolor\": \"#E1E5ED\"}},\n",
       "                        {\"showLink\": true, \"linkText\": \"Export to plot.ly\", \"plotlyServerURL\": \"https://plot.ly\", \"responsive\": true}\n",
       "                    ).then(function(){\n",
       "                            \n",
       "var gd = document.getElementById('9faace67-a67a-46dd-9831-332b3037546a');\n",
       "var x = new MutationObserver(function (mutations, observer) {{\n",
       "        var display = window.getComputedStyle(gd).display;\n",
       "        if (!display || display === 'none') {{\n",
       "            console.log([gd, 'removed!']);\n",
       "            Plotly.purge(gd);\n",
       "            observer.disconnect();\n",
       "        }}\n",
       "}});\n",
       "\n",
       "// Listen for the removal of the full notebook cells\n",
       "var notebookContainer = gd.closest('#notebook-container');\n",
       "if (notebookContainer) {{\n",
       "    x.observe(notebookContainer, {childList: true});\n",
       "}}\n",
       "\n",
       "// Listen for the clearing of the current output cell\n",
       "var outputEl = gd.closest('.output');\n",
       "if (outputEl) {{\n",
       "    x.observe(outputEl, {childList: true});\n",
       "}}\n",
       "\n",
       "                        })\n",
       "                };\n",
       "                });\n",
       "            </script>\n",
       "        </div>"
      ]
     },
     "metadata": {},
     "output_type": "display_data"
    }
   ],
   "source": [
    "f=final.head(10)\n",
    "f.iplot(kind='bar',x='Country',y='total_deaths')"
   ]
  }
 ],
 "metadata": {
  "kernelspec": {
   "display_name": "Python 3.6.9 64-bit",
   "language": "python",
   "name": "python36964bite8ad97902922458ba02e7b096b234ed2"
  },
  "language_info": {
   "codemirror_mode": {
    "name": "ipython",
    "version": 3
   },
   "file_extension": ".py",
   "mimetype": "text/x-python",
   "name": "python",
   "nbconvert_exporter": "python",
   "pygments_lexer": "ipython3",
   "version": "3.6.9"
  }
 },
 "nbformat": 4,
 "nbformat_minor": 2
}
